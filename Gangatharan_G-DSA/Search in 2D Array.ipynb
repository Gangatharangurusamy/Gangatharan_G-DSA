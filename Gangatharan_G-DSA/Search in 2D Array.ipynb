{
 "cells": [
  {
   "cell_type": "code",
   "execution_count": 5,
   "id": "11c6e92c",
   "metadata": {},
   "outputs": [
    {
     "name": "stdout",
     "output_type": "stream",
     "text": [
      "False\n"
     ]
    }
   ],
   "source": [
    "##function definition\n",
    "#Time complexity: O(log(m*n))\n",
    "\n",
    "\n",
    "def search2DAraary(arr, target):\n",
    "    # No. of rows\n",
    "    m = len(arr)\n",
    "    if m == 0:\n",
    "        return False\n",
    "    #No. of columns\n",
    "    n = len(arr[0])\n",
    "    left = 0\n",
    "    right = m*n-1\n",
    "    ## binary search implementation\n",
    "    while left <= right:\n",
    "        mid = left + (right-left)//2\n",
    "        mid_element = arr[mid//n] [mid%n]\n",
    "        if target == mid_element:\n",
    "            return True\n",
    "        elif target < mid_element:\n",
    "            right = mid-1\n",
    "        else:\n",
    "            left = mid+1\n",
    "    return False\n",
    "    \n",
    "    \n",
    "    \n",
    "#driver code\n",
    "arr = [[1,3,5,7],[10,11,16,20],[23,30,34,60]]\n",
    "target = 72\n",
    "result = search2DAraary(arr,target)\n",
    "print(result)"
   ]
  },
  {
   "cell_type": "code",
   "execution_count": null,
   "id": "1cddcb59",
   "metadata": {},
   "outputs": [],
   "source": []
  }
 ],
 "metadata": {
  "kernelspec": {
   "display_name": "Python 3 (ipykernel)",
   "language": "python",
   "name": "python3"
  },
  "language_info": {
   "codemirror_mode": {
    "name": "ipython",
    "version": 3
   },
   "file_extension": ".py",
   "mimetype": "text/x-python",
   "name": "python",
   "nbconvert_exporter": "python",
   "pygments_lexer": "ipython3",
   "version": "3.11.5"
  }
 },
 "nbformat": 4,
 "nbformat_minor": 5
}
