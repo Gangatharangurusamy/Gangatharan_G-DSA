{
 "cells": [
  {
   "cell_type": "code",
   "execution_count": 4,
   "id": "cb891f67",
   "metadata": {},
   "outputs": [
    {
     "name": "stdout",
     "output_type": "stream",
     "text": [
      "Preorder Traversal of the given binary tree:\n",
      "10  20  40  50  30  60  70  \n"
     ]
    }
   ],
   "source": [
    "## Implementation of Preorder traversal without using rucursive \n",
    "class Node:\n",
    "    def __init__(self,data):\n",
    "        self.right = None\n",
    "        self.left = None\n",
    "        self.data = data\n",
    "\n",
    "## Time Complexity : O(n)\n",
    "## Space Complexity : O(n)\n",
    "## Iterative approach to implement preorder Traversal\n",
    "def preOrder(root):\n",
    "    if root is None:\n",
    "        return \n",
    "    stack = []\n",
    "    ##append the root node in the stack\n",
    "    stack.append(root)\n",
    "    \n",
    "    while len(stack) > 0:\n",
    "        popped = stack.pop()\n",
    "        print(str(popped.data) + \" \", end=\" \")\n",
    "        if popped.right:\n",
    "            stack.append(popped.right)\n",
    "            \n",
    "        if popped.left:\n",
    "            stack.append(popped.left)\n",
    "    \n",
    "##Driver Code\n",
    "root = Node(10)\n",
    "root.left = Node(20)\n",
    "root.right = Node(30)\n",
    "root.left.left = Node(40)\n",
    "root.left.right = Node(50)\n",
    "root.right.left = Node(60)\n",
    "root.right.right = Node(70)\n",
    "\n",
    "print(\"Preorder Traversal of the given binary tree:\")\n",
    "preOrder(root)\n",
    "print()"
   ]
  },
  {
   "cell_type": "code",
   "execution_count": 5,
   "id": "9dbcf116",
   "metadata": {},
   "outputs": [
    {
     "name": "stdout",
     "output_type": "stream",
     "text": [
      "Postorder Traversal of the given binary tree:\n",
      "40  50  20  60  70  30  10  \n"
     ]
    }
   ],
   "source": [
    "## Time Complexity : O(n)\n",
    "## Space Complexity : n + n --->  O(n)\n",
    "## Iterative approach to implement postorder Traversal\n",
    "def postOrder(root):\n",
    "    if root is None:\n",
    "        return \n",
    "    stack1 = []\n",
    "    stack2 = []\n",
    "    stack1.append(root)\n",
    "    \n",
    "    while len(stack1) > 0:\n",
    "        curr = stack1.pop()\n",
    "        stack2.append(curr.data)\n",
    "        if curr.left:\n",
    "            stack1.append(curr.left)\n",
    "        if curr.right:\n",
    "            stack1.append(curr.right)\n",
    "        \n",
    "    while stack2:\n",
    "        data = stack2.pop()\n",
    "        print(str(data) + \" \", end=\" \")\n",
    "        \n",
    "        \n",
    "\n",
    "##Driver Code\n",
    "root = Node(10)\n",
    "root.left = Node(20)\n",
    "root.right = Node(30)\n",
    "root.left.left = Node(40)\n",
    "root.left.right = Node(50)\n",
    "root.right.left = Node(60)\n",
    "root.right.right = Node(70)\n",
    "\n",
    "print(\"Postorder Traversal of the given binary tree:\")\n",
    "postOrder(root)\n",
    "print()     \n",
    "        \n",
    "    "
   ]
  },
  {
   "cell_type": "code",
   "execution_count": 6,
   "id": "e75e17ef",
   "metadata": {},
   "outputs": [
    {
     "name": "stdout",
     "output_type": "stream",
     "text": [
      "Inorder Traversal of the given binary tree:\n",
      "40  20  50  10  60  30  70  \n"
     ]
    }
   ],
   "source": [
    "def inOrder(root):\n",
    "    current = root\n",
    "    stack = []\n",
    "\n",
    "    while True:\n",
    "        if current is not None:\n",
    "            stack.append(current)\n",
    "            current = current.left\n",
    "        elif len(stack) > 0:\n",
    "            current = stack.pop()\n",
    "            print(str(current.data) +\" \",end=\" \")\n",
    "            current = current.right\n",
    "        else:\n",
    "            break\n",
    "\n",
    "##Driver Code\n",
    "root = Node(10)\n",
    "root.left = Node(20)\n",
    "root.right = Node(30)\n",
    "root.left.left = Node(40)\n",
    "root.left.right = Node(50)\n",
    "root.right.left = Node(60)\n",
    "root.right.right = Node(70)\n",
    "\n",
    "print(\"Inorder Traversal of the given binary tree:\")\n",
    "inOrder(root)\n",
    "print()     \n",
    "        "
   ]
  },
  {
   "cell_type": "code",
   "execution_count": null,
   "id": "4bc9671c",
   "metadata": {},
   "outputs": [],
   "source": []
  }
 ],
 "metadata": {
  "kernelspec": {
   "display_name": "Python 3 (ipykernel)",
   "language": "python",
   "name": "python3"
  },
  "language_info": {
   "codemirror_mode": {
    "name": "ipython",
    "version": 3
   },
   "file_extension": ".py",
   "mimetype": "text/x-python",
   "name": "python",
   "nbconvert_exporter": "python",
   "pygments_lexer": "ipython3",
   "version": "3.11.5"
  }
 },
 "nbformat": 4,
 "nbformat_minor": 5
}
