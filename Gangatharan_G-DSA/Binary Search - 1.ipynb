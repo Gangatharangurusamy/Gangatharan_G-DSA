{
 "cells": [
  {
   "cell_type": "code",
   "execution_count": 5,
   "id": "089798d1",
   "metadata": {},
   "outputs": [
    {
     "data": {
      "text/plain": [
       "5"
      ]
     },
     "execution_count": 5,
     "metadata": {},
     "output_type": "execute_result"
    }
   ],
   "source": [
    "def BinarySearch(arr, k):\n",
    "    i,j = 0,len(arr)-1\n",
    "    while i<=j:\n",
    "        mid = i+(j-i)//2\n",
    "        if arr[mid]>=k:\n",
    "            res = mid\n",
    "            j = j-1\n",
    "        elif arr[mid] < k:\n",
    "            i = i+1\n",
    "    return mid\n",
    "arr = [0,0,0,0,0,1,1,1,1,1,1,1]\n",
    "k = 1\n",
    "BinarySearch(arr, k)\n"
   ]
  },
  {
   "cell_type": "code",
   "execution_count": null,
   "id": "5997720a",
   "metadata": {},
   "outputs": [],
   "source": []
  }
 ],
 "metadata": {
  "kernelspec": {
   "display_name": "Python 3 (ipykernel)",
   "language": "python",
   "name": "python3"
  },
  "language_info": {
   "codemirror_mode": {
    "name": "ipython",
    "version": 3
   },
   "file_extension": ".py",
   "mimetype": "text/x-python",
   "name": "python",
   "nbconvert_exporter": "python",
   "pygments_lexer": "ipython3",
   "version": "3.11.5"
  }
 },
 "nbformat": 4,
 "nbformat_minor": 5
}
