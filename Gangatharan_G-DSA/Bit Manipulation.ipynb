{
 "cells": [
  {
   "cell_type": "markdown",
   "id": "d924314c",
   "metadata": {},
   "source": [
    "# Get Odd Freq Num"
   ]
  },
  {
   "cell_type": "markdown",
   "id": "688397fa",
   "metadata": {},
   "source": [
    "Time Complexity = O(n)\n",
    "\n",
    "Space Complexity = O(1)"
   ]
  },
  {
   "cell_type": "code",
   "execution_count": 5,
   "id": "41b976d0",
   "metadata": {},
   "outputs": [
    {
     "name": "stdout",
     "output_type": "stream",
     "text": [
      "2\n"
     ]
    }
   ],
   "source": [
    "def getOddFreqNum(nums):\n",
    "    XOR = 0\n",
    "    for num in nums:\n",
    "        XOR = XOR ^ num\n",
    "    return XOR\n",
    "\n",
    "\n",
    "##Driver Code\n",
    "nums = [2,4,5,6,2,4,6,4,5,4,2]\n",
    "res = getOddFreqNum(nums)\n",
    "print(res)"
   ]
  },
  {
   "cell_type": "markdown",
   "id": "986f0be0",
   "metadata": {},
   "source": [
    "# Find a given Number is power of 2 or not?"
   ]
  },
  {
   "cell_type": "markdown",
   "id": "a1680d19",
   "metadata": {},
   "source": [
    "Time Complexity = O(1)\n",
    "\n",
    "Space Complexity = O(1)"
   ]
  },
  {
   "cell_type": "code",
   "execution_count": 15,
   "id": "d7c12f7e",
   "metadata": {},
   "outputs": [
    {
     "name": "stdout",
     "output_type": "stream",
     "text": [
      "16\n",
      "True\n"
     ]
    }
   ],
   "source": [
    "def findNumPowOfTwo(num):\n",
    "    if num & (num-1) == 0:\n",
    "        return True\n",
    "    else:\n",
    "        return False\n",
    "\n",
    "\n",
    "\n",
    "#Driver Code\n",
    "num = int(input())\n",
    "res = findNumPowOfTwo(num)\n",
    "print(res)"
   ]
  },
  {
   "cell_type": "code",
   "execution_count": 19,
   "id": "66808e19",
   "metadata": {},
   "outputs": [
    {
     "name": "stdout",
     "output_type": "stream",
     "text": [
      "3\n"
     ]
    }
   ],
   "source": [
    "def countSetBits(num):\n",
    "    count = 0\n",
    "    while num > 0:\n",
    "        count += num & 1\n",
    "        num = num >> 1\n",
    "    return count\n",
    "\n",
    "\n",
    "\n",
    "##DRIVER CODE\n",
    "num = 25\n",
    "res = countSetBits(num)\n",
    "print(res)"
   ]
  },
  {
   "cell_type": "code",
   "execution_count": null,
   "id": "45f16b4f",
   "metadata": {},
   "outputs": [],
   "source": []
  }
 ],
 "metadata": {
  "kernelspec": {
   "display_name": "Python 3 (ipykernel)",
   "language": "python",
   "name": "python3"
  },
  "language_info": {
   "codemirror_mode": {
    "name": "ipython",
    "version": 3
   },
   "file_extension": ".py",
   "mimetype": "text/x-python",
   "name": "python",
   "nbconvert_exporter": "python",
   "pygments_lexer": "ipython3",
   "version": "3.11.5"
  }
 },
 "nbformat": 4,
 "nbformat_minor": 5
}
