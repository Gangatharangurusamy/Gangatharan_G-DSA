{
 "cells": [
  {
   "cell_type": "code",
   "execution_count": 2,
   "id": "6625d7ca",
   "metadata": {},
   "outputs": [
    {
     "name": "stdout",
     "output_type": "stream",
     "text": [
      " JOb Sequence to get the maximum Profit: ['J2', 'J5', 'J4', 'J7', 'J8', -1, 'J3']\n"
     ]
    }
   ],
   "source": [
    "## Time complxity = O(n^2)\n",
    "## space Complexity = O(n)\n",
    "## Solve the same problem using Heap Data structure(Min/max)\n",
    "## Method definition\n",
    "def jobscheduling(arr, maxDeadline):\n",
    "    n = len(arr)\n",
    "    ## sort the array on the basis of profit descending order:\n",
    "    arr.sort(key = lambda x:x[1], reverse=True)\n",
    "    ## result shows that whether job is already occupied on that day or not\n",
    "    ## job store the actual jobs inside the list\n",
    "    result = [False]*maxDeadline\n",
    "    job = [-1]*maxDeadline\n",
    "    \n",
    "    for i in range(n):\n",
    "        for j in range(min(maxDeadline-1, arr[i][2]-1), -1, -1):\n",
    "            if result[j] is False:\n",
    "                result[j] = True\n",
    "                job[j] = arr[i][0]\n",
    "                break\n",
    "    \n",
    "    print(\" JOb Sequence to get the maximum Profit:\", job)\n",
    "\n",
    "\n",
    "## Optimization: Maximum Profit\n",
    "##Arr contains 3 columns: [Job Number, Profit, Deadline]\n",
    "## Constraint : Every job to be completed befor or equal to the given deadline\n",
    "## Driver Code\n",
    "arr = [[\"J1\", 55, 5],\n",
    "      [\"J2\", 65, 2],\n",
    "      [\"J3\", 75, 7],\n",
    "      [\"J4\", 60, 3],\n",
    "      [\"J5\", 70, 2],\n",
    "      [\"J6\", 50, 1],\n",
    "      [\"J7\", 85, 4],\n",
    "      [\"J8\", 68, 5],\n",
    "      [\"J9\", 45, 3]]\n",
    "\n",
    "maxDeadline = 7\n",
    "## function calling\n",
    "jobscheduling(arr, maxDeadline)"
   ]
  },
  {
   "cell_type": "code",
   "execution_count": null,
   "id": "9ba15eaa",
   "metadata": {},
   "outputs": [],
   "source": []
  }
 ],
 "metadata": {
  "kernelspec": {
   "display_name": "Python 3 (ipykernel)",
   "language": "python",
   "name": "python3"
  },
  "language_info": {
   "codemirror_mode": {
    "name": "ipython",
    "version": 3
   },
   "file_extension": ".py",
   "mimetype": "text/x-python",
   "name": "python",
   "nbconvert_exporter": "python",
   "pygments_lexer": "ipython3",
   "version": "3.11.5"
  }
 },
 "nbformat": 4,
 "nbformat_minor": 5
}
