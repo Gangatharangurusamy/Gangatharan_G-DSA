{
 "cells": [
  {
   "cell_type": "markdown",
   "id": "57a76c79",
   "metadata": {},
   "source": [
    "# 1. Find if Path Exists in Graph by using BFT"
   ]
  },
  {
   "cell_type": "code",
   "execution_count": 3,
   "id": "54addf6f",
   "metadata": {},
   "outputs": [
    {
     "name": "stdout",
     "output_type": "stream",
     "text": [
      "True\n"
     ]
    }
   ],
   "source": [
    "import collections\n",
    "from collections import defaultdict\n",
    "def validPath(n, edges, source, destination):\n",
    "        graph = defaultdict(list)\n",
    "        for a, b in edges:\n",
    "            graph[a].append(b)\n",
    "            graph[b].append(a)\n",
    "        \n",
    "        ## Breadth First Traversal\n",
    "        visited = [False] * n\n",
    "        visited[source] = True\n",
    "        queue = collections.deque([source])\n",
    "\n",
    "        while queue:\n",
    "            node = queue.popleft()\n",
    "            ## important coditions\n",
    "            ## to cheack whether direct path exists or not\n",
    "            if node == destination:\n",
    "                return True\n",
    "            for adj_node in graph[node]:\n",
    "                if not visited[adj_node]:\n",
    "                    visited[adj_node] = True\n",
    "                    queue.append(adj_node)\n",
    "        return False\n",
    "    \n",
    "## Driver Code   \n",
    "n = 3\n",
    "edges = [[0,1],[1,2],[2,0]]\n",
    "source = 0\n",
    "destination = 2\n",
    "r = validPath(n, edges, source, destination)\n",
    "print(r)"
   ]
  },
  {
   "cell_type": "code",
   "execution_count": 5,
   "id": "72927912",
   "metadata": {},
   "outputs": [
    {
     "name": "stdout",
     "output_type": "stream",
     "text": [
      "False\n"
     ]
    }
   ],
   "source": [
    "## Driver Code\n",
    "n = 6\n",
    "edges = [[0,1],[0,2],[3,5],[5,4],[4,3]]\n",
    "source = 0\n",
    "destination = 5\n",
    "r = validPath(n, edges, source, destination)\n",
    "print(r)"
   ]
  },
  {
   "cell_type": "markdown",
   "id": "dd510198",
   "metadata": {},
   "source": [
    "# 2. Find if Path Exists in Graph by using DFT"
   ]
  },
  {
   "cell_type": "code",
   "execution_count": null,
   "id": "72995793",
   "metadata": {},
   "outputs": [],
   "source": []
  },
  {
   "cell_type": "markdown",
   "id": "e68c868f",
   "metadata": {},
   "source": [
    "# 3. Invert Binary Tree"
   ]
  },
  {
   "cell_type": "code",
   "execution_count": 6,
   "id": "71d71f6c",
   "metadata": {},
   "outputs": [],
   "source": [
    "## Recursive Apparoach\n",
    "def invertTree(root):\n",
    "        if root is not None:\n",
    "            rightSubtree = self.invertTree(root.right)\n",
    "            leftSubtree = self.invertTree(root.left)\n",
    "\n",
    "            root.left = rightSubtree\n",
    "            root.right = leftSubtree\n",
    "            \n",
    "            return root\n",
    "        \n",
    "    \n",
    "## Iterative Approach\n",
    "def invertTree(root):\n",
    "    if root is None:\n",
    "        return \n",
    "    queue = []\n",
    "    queue.append(root)\n",
    "    while len(queue):\n",
    "        curr = queue[0]\n",
    "        queue.pop(0)\n",
    "        curr.left, curr.right = curr.right, curr.left\n",
    "        if curr.left:\n",
    "            queue.append(curr.left)\n",
    "        if curr.right:\n",
    "            queue.append(curr.right)\n",
    "    return root.val"
   ]
  },
  {
   "cell_type": "markdown",
   "id": "580d64e7",
   "metadata": {},
   "source": [
    "#  Graph Cycle Detection"
   ]
  },
  {
   "cell_type": "code",
   "execution_count": 8,
   "id": "8a3060a1",
   "metadata": {},
   "outputs": [
    {
     "name": "stdout",
     "output_type": "stream",
     "text": [
      "Graph is contain a Cycle\n"
     ]
    }
   ],
   "source": [
    "from collections import defaultdict\n",
    "\n",
    "class Graph:\n",
    "    def __init__(self, num_of_val):\n",
    "        self.num_of_val = num_of_val\n",
    "        self.edges = defaultdict(list)\n",
    "        \n",
    "        ## Graph is represented as an \n",
    "        # Array of edges\n",
    "    def add_edge(self, u, v):\n",
    "        self.edges[u].append(v)\n",
    "        self.edges[v].append(u)\n",
    "class Subset:\n",
    "    def __init__(self, parent, rank):\n",
    "        self.parent = parent\n",
    "        self.rank = rank\n",
    "        \n",
    "## path compression technique\n",
    "\n",
    "def find(subsets, node):\n",
    "    if subsets[node].parent != node:\n",
    "        subsets[node].parent = find(subsets, subsets[node].parent)\n",
    "        \n",
    "    ## A function that does union of two sets\n",
    "    # No. of u and v(uses union by rank)\n",
    "    \n",
    "def union(subsets, u, v):\n",
    "    ## Attach smaller rank treee under root\n",
    "    # No. of rank tree(Union of rank)\n",
    "    \n",
    "    if subsets[u].rank > subsets[v].rank:\n",
    "        subsets[v].parent = u\n",
    "    elif subsets[v].rank > subsets[u].rank:\n",
    "        subsets[u].parent = v\n",
    "    \n",
    "    # if ranks are same , then make one as \n",
    "    # root and increment its rank by one\n",
    "    else:\n",
    "        subsets[v].parent = u\n",
    "        subsets[u].rank += 1\n",
    "## the main function to check whether a given \n",
    "# graph contains cycle or not\n",
    "\n",
    "def iscycle(graph):\n",
    "    ## allocate memory for creating sets\n",
    "    subsets = []\n",
    "    \n",
    "    for u in range(graph.num_of_val):\n",
    "        subsets.append(Subset(u, 0))\n",
    "    \n",
    "    ## Iterate through all edges of graph ,\n",
    "    # find sets of both vertices of every edge, if set are same , then there \n",
    "    # is a cycle in graph.\n",
    "    \n",
    "    \n",
    "    for u in graph.edges:\n",
    "        u_rep = find(subsets, u)\n",
    "        \n",
    "        for v in graph.edges[u]:\n",
    "            v_rep = find(subsets, v)\n",
    "            \n",
    "            if u_rep == v_rep:\n",
    "                return True\n",
    "            else:\n",
    "                union(subsets, u_rep, v_rep)\n",
    "                \n",
    "## Driver code\n",
    "g = Graph(3)\n",
    "# add edge (0,1)\n",
    "g.add_edge(0,1)\n",
    "# add edge (1,2)\n",
    "g.add_edge(1,2)\n",
    "# add edge(0,2)\n",
    "g.add_edge(0,2)\n",
    "\n",
    "if iscycle(g):\n",
    "    print(\"Graph is contain a Cycle\")\n",
    "else:\n",
    "    print(\"Graph does not contain cycle\")"
   ]
  },
  {
   "cell_type": "code",
   "execution_count": null,
   "id": "7df8ab81",
   "metadata": {},
   "outputs": [],
   "source": []
  }
 ],
 "metadata": {
  "kernelspec": {
   "display_name": "Python 3 (ipykernel)",
   "language": "python",
   "name": "python3"
  },
  "language_info": {
   "codemirror_mode": {
    "name": "ipython",
    "version": 3
   },
   "file_extension": ".py",
   "mimetype": "text/x-python",
   "name": "python",
   "nbconvert_exporter": "python",
   "pygments_lexer": "ipython3",
   "version": "3.11.5"
  }
 },
 "nbformat": 4,
 "nbformat_minor": 5
}
