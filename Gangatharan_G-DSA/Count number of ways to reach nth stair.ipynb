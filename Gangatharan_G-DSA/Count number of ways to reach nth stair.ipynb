{
 "cells": [
  {
   "cell_type": "code",
   "execution_count": 7,
   "id": "25f79c8f",
   "metadata": {},
   "outputs": [
    {
     "name": "stdout",
     "output_type": "stream",
     "text": [
      "No. of Count is: 5\n"
     ]
    }
   ],
   "source": [
    "def CountNoOfways(n):\n",
    "    if n == 1:\n",
    "        return 1\n",
    "    elif n == 2:\n",
    "        return 2\n",
    "    ways = 0\n",
    "    for i in range(n):\n",
    "        ways = CountNoOfways(n-1) + CountNoOfways(n-2)\n",
    "    return ways\n",
    "\n",
    "\n",
    "##Driver code\n",
    "n = 4\n",
    "result = CountNoOfways(n)\n",
    "print(\"No. of Count is:\",result)"
   ]
  },
  {
   "cell_type": "code",
   "execution_count": null,
   "id": "627d541f",
   "metadata": {},
   "outputs": [],
   "source": []
  }
 ],
 "metadata": {
  "kernelspec": {
   "display_name": "Python 3 (ipykernel)",
   "language": "python",
   "name": "python3"
  },
  "language_info": {
   "codemirror_mode": {
    "name": "ipython",
    "version": 3
   },
   "file_extension": ".py",
   "mimetype": "text/x-python",
   "name": "python",
   "nbconvert_exporter": "python",
   "pygments_lexer": "ipython3",
   "version": "3.11.5"
  }
 },
 "nbformat": 4,
 "nbformat_minor": 5
}
