{
 "cells": [
  {
   "cell_type": "code",
   "execution_count": 2,
   "id": "0687d69c",
   "metadata": {},
   "outputs": [
    {
     "name": "stdout",
     "output_type": "stream",
     "text": [
      "Maxmum and Minimum value in the array: 100 20\n"
     ]
    }
   ],
   "source": [
    "#Recursion Relation = T(n) = 2T(n/2) + c\n",
    "##using Master's Theorem : T(n) = O(n)\n",
    "#Method Difinition of maxandmin function\n",
    "def findmaxandmin(arr, i, j):\n",
    "    ## small problem \n",
    "    ## single elements condition\n",
    "    if i == j:\n",
    "        max_val = arr[i]\n",
    "        min_val = arr[i]\n",
    "    \n",
    "    elif i == j-1:\n",
    "        if arr[i] < arr[j]:\n",
    "            max_val = arr[j]\n",
    "            min_val = arr[i]\n",
    "        else:\n",
    "            max_val = arr[i]\n",
    "            min_val = arr[j]\n",
    "    \n",
    "    ## big problem --> n>2\n",
    "    else:\n",
    "        #1. Divide - c\n",
    "        mid = i +(j-i)//2\n",
    "        #2. Recursion -->  Conquer - 2T(n/2)\n",
    "        max_1, min_1 = findmaxandmin(arr, i, mid)\n",
    "        max_2, min_2 = findmaxandmin(arr, mid+1, j)\n",
    "        #3. Combine - c\n",
    "        if min_1 < min_2 :\n",
    "            min_val = min_1\n",
    "        else:\n",
    "            min_val = min_2\n",
    "        if max_1 > max_2:\n",
    "            max_val = max_1\n",
    "        else:\n",
    "            max_val = max_2\n",
    "    return max_val, min_val\n",
    "        \n",
    "        \n",
    "##Driver code\n",
    "arr = [20, 39, 45, 65, 21, 44, 100, 92]\n",
    "i = 0\n",
    "j = len(arr)-1\n",
    "##Function calling\n",
    "max_val, min_val = findmaxandmin(arr, i, j)\n",
    "print(\"Maxmum and Minimum value in the array:\", max_val,min_val)"
   ]
  },
  {
   "cell_type": "code",
   "execution_count": null,
   "id": "fd690898",
   "metadata": {},
   "outputs": [],
   "source": []
  }
 ],
 "metadata": {
  "kernelspec": {
   "display_name": "Python 3 (ipykernel)",
   "language": "python",
   "name": "python3"
  },
  "language_info": {
   "codemirror_mode": {
    "name": "ipython",
    "version": 3
   },
   "file_extension": ".py",
   "mimetype": "text/x-python",
   "name": "python",
   "nbconvert_exporter": "python",
   "pygments_lexer": "ipython3",
   "version": "3.11.5"
  }
 },
 "nbformat": 4,
 "nbformat_minor": 5
}
