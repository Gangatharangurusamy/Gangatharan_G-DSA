{
 "cells": [
  {
   "cell_type": "code",
   "execution_count": null,
   "id": "22b59ea9",
   "metadata": {},
   "outputs": [],
   "source": [
    "def Binarysearch(arr,left,right):\n",
    "    mid=int((left+right)/2)\n",
    "    while left <= right:\n",
    "        if arr[mid]==x:\n",
    "            return mid\n",
    "        elif arr[mid]<=x:\n",
    "            left=mid+1\n",
    "        else:\n",
    "            right=mid-1\n",
    "arr=[20,30,40,45,47,50,60,70]\n",
    "x=50\n",
    "print(Binarysearch(arr,0,len(arr)))\n"
   ]
  },
  {
   "cell_type": "code",
   "execution_count": null,
   "id": "911816d5",
   "metadata": {},
   "outputs": [],
   "source": []
  },
  {
   "cell_type": "code",
   "execution_count": null,
   "id": "127bf0e1",
   "metadata": {},
   "outputs": [],
   "source": []
  }
 ],
 "metadata": {
  "kernelspec": {
   "display_name": "Python 3 (ipykernel)",
   "language": "python",
   "name": "python3"
  },
  "language_info": {
   "codemirror_mode": {
    "name": "ipython",
    "version": 3
   },
   "file_extension": ".py",
   "mimetype": "text/x-python",
   "name": "python",
   "nbconvert_exporter": "python",
   "pygments_lexer": "ipython3",
   "version": "3.11.5"
  }
 },
 "nbformat": 4,
 "nbformat_minor": 5
}
