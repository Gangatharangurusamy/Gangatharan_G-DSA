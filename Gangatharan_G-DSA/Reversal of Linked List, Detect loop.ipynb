{
 "cells": [
  {
   "cell_type": "code",
   "execution_count": 2,
   "id": "98974928",
   "metadata": {},
   "outputs": [
    {
     "name": "stdout",
     "output_type": "stream",
     "text": [
      "2  3  4  5  6  "
     ]
    }
   ],
   "source": [
    "class Node:\n",
    "    def __init__(self, data):\n",
    "        self.data = data\n",
    "        self.next = None\n",
    "\n",
    "class LinkedList:\n",
    "    def __init__(self):\n",
    "        self.head = None\n",
    "        \n",
    "    def insertAtend(self, new_data):\n",
    "        new_node = Node(new_data)\n",
    "        if self.head is None:\n",
    "            self.head = new_node\n",
    "            return\n",
    "        temp = self.head\n",
    "        while temp.next:\n",
    "            temp = temp.next\n",
    "        temp.next = new_node\n",
    "        \n",
    "    def printlinkedlist(self):\n",
    "        temp = self.head\n",
    "        while temp:\n",
    "            print(str(temp.data)+ \" \", end=\" \")\n",
    "            temp = temp.next\n",
    "llist = LinkedList()     \n",
    "llist.insertAtend(2)\n",
    "llist.insertAtend(3)\n",
    "llist.insertAtend(4)\n",
    "llist.insertAtend(5)\n",
    "llist.insertAtend(6)\n",
    "llist.printlinkedlist()"
   ]
  },
  {
   "cell_type": "code",
   "execution_count": 3,
   "id": "bb7d2047",
   "metadata": {},
   "outputs": [
    {
     "name": "stdout",
     "output_type": "stream",
     "text": [
      "Original\n",
      "2  3  4  5  6  \n",
      "Reverseal Linked List:\n",
      "6  5  4  3  2  "
     ]
    }
   ],
   "source": [
    "class Node:\n",
    "    def __init__(self, data):\n",
    "        self.data = data\n",
    "        self.next = None\n",
    "\n",
    "class LinkedList:\n",
    "    def __init__(self):\n",
    "        self.head = None\n",
    "\n",
    "    def insertAtend(self, new_data):\n",
    "        new_node = Node(new_data)\n",
    "        if self.head is None:\n",
    "            self.head = new_node\n",
    "            return\n",
    "        temp = self.head\n",
    "        while temp.next:\n",
    "            temp = temp.next\n",
    "        temp.next = new_node\n",
    "\n",
    "    def reverselist(self):\n",
    "        prev = None\n",
    "        next = None\n",
    "        curr = self.head\n",
    "        while curr:\n",
    "            next = curr.next\n",
    "            curr.next = prev\n",
    "            prev = curr\n",
    "            curr = next \n",
    "        self.head = prev\n",
    "    \n",
    "    \n",
    "    def printlinkedlist(self):\n",
    "        temp = self.head\n",
    "        while temp:\n",
    "            print(str(temp.data) + \" \", end=\" \")\n",
    "            temp = temp.next\n",
    "\n",
    "# Create an instance of the LinkedList class\n",
    "llist = LinkedList()\n",
    "\n",
    "# Insert elements into the linked list\n",
    "llist.insertAtend(2)\n",
    "llist.insertAtend(3)\n",
    "llist.insertAtend(4)\n",
    "llist.insertAtend(5)\n",
    "llist.insertAtend(6)\n",
    "print(\"Original\")\n",
    "# Print the linked list\n",
    "llist.printlinkedlist()\n",
    "print()\n",
    "\n",
    "#Print the ReverseLIst\n",
    "\n",
    "print(\"Reverseal Linked List:\")\n",
    "llist.reverselist()\n",
    "llist.printlinkedlist()"
   ]
  },
  {
   "cell_type": "code",
   "execution_count": 4,
   "id": "03020e01",
   "metadata": {
    "scrolled": false
   },
   "outputs": [
    {
     "name": "stdout",
     "output_type": "stream",
     "text": [
      "Loop is inside the Linked List \n"
     ]
    }
   ],
   "source": [
    "class Node:\n",
    "    def __init__(self, data):\n",
    "        self.data = data\n",
    "        self.next = None\n",
    "\n",
    "class LinkedList:\n",
    "    def __init__(self):\n",
    "        self.head = None\n",
    "\n",
    "    def insertAtend(self, new_data):\n",
    "        new_node = Node(new_data)\n",
    "        if self.head is None:\n",
    "            self.head = new_node\n",
    "            return\n",
    "        temp = self.head\n",
    "        while temp.next:\n",
    "            temp = temp.next\n",
    "        temp.next = new_node\n",
    "        new_node.next = None\n",
    "    ## To detect the loop inside the linked list\n",
    "    def detectloop(self):\n",
    "        hare = self.head\n",
    "        tortoise = self.head\n",
    "        while tortoise and hare and hare.next:\n",
    "            hare = hare.next.next\n",
    "            tortoise = tortoise.next\n",
    "            if tortoise == hare:\n",
    "                return True\n",
    "        return False\n",
    "            \n",
    "    def printlinkedlist(self):\n",
    "        temp = self.head\n",
    "        while temp:\n",
    "            print(str(temp.data) + \" \", end=\" \")\n",
    "            temp = temp.next\n",
    "\n",
    "# Create an instance of the LinkedList class\n",
    "llist = LinkedList()\n",
    "\n",
    "# Insert elements into the linked list\n",
    "llist.insertAtend(2)\n",
    "llist.insertAtend(3)\n",
    "llist.insertAtend(4)\n",
    "llist.insertAtend(5)\n",
    "llist.head.next.next = llist.head \n",
    "if llist.detectloop():\n",
    "    print(\"Loop is inside the Linked List \")\n",
    "else:\n",
    "    print(\"No Loop\")\n",
    "# Print the linked list\n",
    "\n"
   ]
  },
  {
   "cell_type": "code",
   "execution_count": null,
   "id": "50f38399",
   "metadata": {},
   "outputs": [],
   "source": []
  }
 ],
 "metadata": {
  "kernelspec": {
   "display_name": "Python 3 (ipykernel)",
   "language": "python",
   "name": "python3"
  },
  "language_info": {
   "codemirror_mode": {
    "name": "ipython",
    "version": 3
   },
   "file_extension": ".py",
   "mimetype": "text/x-python",
   "name": "python",
   "nbconvert_exporter": "python",
   "pygments_lexer": "ipython3",
   "version": "3.11.5"
  }
 },
 "nbformat": 4,
 "nbformat_minor": 5
}
