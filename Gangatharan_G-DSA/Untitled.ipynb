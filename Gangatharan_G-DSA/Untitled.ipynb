{
 "cells": [
  {
   "cell_type": "code",
   "execution_count": 4,
   "id": "a96976db",
   "metadata": {},
   "outputs": [
    {
     "ename": "NameError",
     "evalue": "name 'img' is not defined",
     "output_type": "error",
     "traceback": [
      "\u001b[1;31m---------------------------------------------------------------------------\u001b[0m",
      "\u001b[1;31mNameError\u001b[0m                                 Traceback (most recent call last)",
      "Cell \u001b[1;32mIn[4], line 7\u001b[0m\n\u001b[0;32m      5\u001b[0m var \u001b[38;5;241m=\u001b[39m \u001b[38;5;241m10\u001b[39m\n\u001b[0;32m      6\u001b[0m sigma \u001b[38;5;241m=\u001b[39m var \u001b[38;5;241m*\u001b[39m\u001b[38;5;241m*\u001b[39m \u001b[38;5;241m0.5\u001b[39m\n\u001b[1;32m----> 7\u001b[0m gaussian \u001b[38;5;241m=\u001b[39m np\u001b[38;5;241m.\u001b[39mrandom\u001b[38;5;241m.\u001b[39mnormal(mean, sigma, (\u001b[43mimg\u001b[49m\u001b[38;5;241m.\u001b[39mshape[\u001b[38;5;241m0\u001b[39m],img\u001b[38;5;241m.\u001b[39mshape[\u001b[38;5;241m1\u001b[39m])) \n\u001b[0;32m     11\u001b[0m \u001b[38;5;28;01mfor\u001b[39;00m image \u001b[38;5;129;01min\u001b[39;00m glob\u001b[38;5;241m.\u001b[39mglob(\u001b[38;5;124m'\u001b[39m\u001b[38;5;124mLena.png\u001b[39m\u001b[38;5;124m'\u001b[39m):\n\u001b[0;32m     12\u001b[0m     img \u001b[38;5;241m=\u001b[39m cv2\u001b[38;5;241m.\u001b[39mimread(image)\n",
      "\u001b[1;31mNameError\u001b[0m: name 'img' is not defined"
     ]
    }
   ],
   "source": [
    "import numpy as np\n",
    "import cv2\n",
    "import glob \n",
    "mean = 0\n",
    "var = 10\n",
    "sigma = var ** 0.5\n",
    "gaussian = np.random.normal(mean, sigma, (img.shape[0],img.shape[1])) \n",
    "\n",
    "\n",
    "\n",
    "for image in glob.glob('Lena.png'):\n",
    "    img = cv2.imread(image)\n",
    "    noisy_image = np.zeros(img.shape, np.float32)\n",
    "\n",
    "    if len(img.shape) == 2:\n",
    "        noisy_image = img + gaussian\n",
    "    else:\n",
    "        noisy_image[:, :, 0] = img[:, :, 0] + gaussian\n",
    "        noisy_image[:, :, 1] = img[:, :, 1] + gaussian\n",
    "        noisy_image[:, :, 2] = img[:, :, 2] + gaussian\n",
    "\n",
    "cv2.normalize(noisy_image, noisy_image, 0, 255, cv2.NORM_MINMAX, dtype=-1)\n",
    "noisy_image = noisy_image.astype(np.uint8)\n",
    "\n",
    "cv2.imshow(\"img\", img)\n",
    "cv2.imshow(\"gaussian\", gaussian)\n",
    "cv2.imshow(\"noisy\", noisy_image)\n",
    "cv2.waitKey(0)"
   ]
  },
  {
   "cell_type": "code",
   "execution_count": null,
   "id": "6456b654",
   "metadata": {},
   "outputs": [],
   "source": []
  }
 ],
 "metadata": {
  "kernelspec": {
   "display_name": "Python 3 (ipykernel)",
   "language": "python",
   "name": "python3"
  },
  "language_info": {
   "codemirror_mode": {
    "name": "ipython",
    "version": 3
   },
   "file_extension": ".py",
   "mimetype": "text/x-python",
   "name": "python",
   "nbconvert_exporter": "python",
   "pygments_lexer": "ipython3",
   "version": "3.11.5"
  }
 },
 "nbformat": 4,
 "nbformat_minor": 5
}
