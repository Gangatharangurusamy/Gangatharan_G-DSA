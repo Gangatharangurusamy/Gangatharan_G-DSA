{
 "cells": [
  {
   "cell_type": "markdown",
   "id": "c6a45e05",
   "metadata": {},
   "source": [
    "# Matrix Chain Order With Reursion"
   ]
  },
  {
   "cell_type": "code",
   "execution_count": 13,
   "id": "b7a1455d",
   "metadata": {},
   "outputs": [
    {
     "name": "stdout",
     "output_type": "stream",
     "text": [
      "Minimum Number of multipliation is: 11\n"
     ]
    }
   ],
   "source": [
    "# import sys\n",
    "## function calling\n",
    "def matrixChainOrder(p, i, j):\n",
    "    ## Base case condition\n",
    "    if i == j:\n",
    "        return 0\n",
    "    minVal = sys.maxsize\n",
    "    #print(minVal)\n",
    "    for k in range(i, j): # i <= k < j(exclusive)\n",
    "        count = (matrixChainOrder(arr, i, k) + \n",
    "                 matrixChainOrder(arr, k+1, j) + \n",
    "                 p[i-1] * p[k] * p[j])\n",
    "        if minVal > count:\n",
    "            minVal = count\n",
    "    return minVal\n",
    "\n",
    "\n",
    "\n",
    "\n",
    "\n",
    "## Driver Code\n",
    "if __name__ == \"__main__\":\n",
    "    arr = [1,3,1,2,3]\n",
    "    N = len(arr)\n",
    "    print(\"Minimum Number of multipliation is:\", matrixChainOrder(arr, 1, N-1))# why N-1 because N-1 no. of matrix is there"
   ]
  },
  {
   "cell_type": "markdown",
   "id": "38a14e08",
   "metadata": {},
   "source": [
    "# Matrix Chain Order Reursion With Memoization"
   ]
  },
  {
   "cell_type": "code",
   "execution_count": 26,
   "id": "2c7945ff",
   "metadata": {},
   "outputs": [
    {
     "name": "stdout",
     "output_type": "stream",
     "text": [
      "Minimum Number of multipliation is: 11\n"
     ]
    }
   ],
   "source": [
    "import sys\n",
    "# function calling\n",
    "dp = [[-1 for i in range(100)]for i in range(100)]\n",
    "def matrixChainOrderMemo(p, i, j):\n",
    "    \n",
    "    if (i == j):\n",
    "        return 0\n",
    "    if dp[i][j] != -1:\n",
    "        return dp[i][j]\n",
    "    \n",
    "    dp[i][j] = sys.maxsize\n",
    "    \n",
    "    for k in range(i, j):\n",
    "        dp[i][j] = min(dp[i][j], matrixChainOrderMemo(p, i, k) + matrixChainOrderMemo(p, k+1, j) + p[i-1]*p[k]*p[j])\n",
    "    \n",
    "    return dp[i][j]\n",
    "def matrixChainOrder(p, n):\n",
    "    i = 1\n",
    "    j = n-1\n",
    "    return matrixChainOrderMemo(p, i, j)\n",
    "\n",
    "\n",
    "## Driver Code\n",
    "arr = [1,3,1,2,3]\n",
    "n = len(arr)\n",
    "print(\"Minimum Number of multipliation is:\", matrixChainOrder(arr, n))"
   ]
  },
  {
   "cell_type": "code",
   "execution_count": null,
   "id": "9d86c8d1",
   "metadata": {},
   "outputs": [],
   "source": []
  }
 ],
 "metadata": {
  "kernelspec": {
   "display_name": "Python 3 (ipykernel)",
   "language": "python",
   "name": "python3"
  },
  "language_info": {
   "codemirror_mode": {
    "name": "ipython",
    "version": 3
   },
   "file_extension": ".py",
   "mimetype": "text/x-python",
   "name": "python",
   "nbconvert_exporter": "python",
   "pygments_lexer": "ipython3",
   "version": "3.11.5"
  }
 },
 "nbformat": 4,
 "nbformat_minor": 5
}
