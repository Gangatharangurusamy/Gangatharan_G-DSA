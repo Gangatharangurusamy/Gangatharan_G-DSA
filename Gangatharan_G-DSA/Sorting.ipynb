{
 "cells": [
  {
   "cell_type": "markdown",
   "id": "24e3a351",
   "metadata": {},
   "source": [
    "# Bubble Sort"
   ]
  },
  {
   "cell_type": "code",
   "execution_count": 1,
   "id": "af82c1ab",
   "metadata": {},
   "outputs": [
    {
     "name": "stdout",
     "output_type": "stream",
     "text": [
      "array after using bubble sort: [20, 35, 47, 50, 60, 70]\n"
     ]
    }
   ],
   "source": [
    "# Time complexity = O(n^2)\n",
    "#Method implimentation\n",
    "def bubblesort(arr):\n",
    "    n = len(arr)\n",
    "    for i in range(n):\n",
    "        for j in range(0,n-i-1):\n",
    "            if arr[j]>arr[j+1]:\n",
    "                ## swap the elements\n",
    "                arr[j],arr[j+1]  = arr[j+1],arr[j]\n",
    "    return arr\n",
    "\n",
    "\n",
    "# Driver code\n",
    "arr = [70,20,50,60,35,47]\n",
    "result = bubblesort(arr)\n",
    "print(\"array after using bubble sort:\", result)"
   ]
  },
  {
   "cell_type": "markdown",
   "id": "09d882df",
   "metadata": {},
   "source": [
    "# Selection sort\n"
   ]
  },
  {
   "cell_type": "code",
   "execution_count": 4,
   "id": "420da710",
   "metadata": {},
   "outputs": [
    {
     "name": "stdout",
     "output_type": "stream",
     "text": [
      "array after using selection sort: [20, 35, 47, 50, 60, 70]\n"
     ]
    }
   ],
   "source": [
    "#Time complexity = O(n^2)\n",
    "# Method Implimetation\n",
    "def selectionsort(arr):\n",
    "    n = len(arr)\n",
    "    for i in range(n):\n",
    "        min_idx = i\n",
    "        for j in range(i+1, n):\n",
    "            if arr[j] < arr[min_idx]:\n",
    "                min_idx = j\n",
    "        #swap elements\n",
    "        arr[min_idx], arr[i] = arr[i], arr[min_idx]\n",
    "    return arr\n",
    "    \n",
    "    \n",
    "    \n",
    "    \n",
    "    \n",
    "# Driver code\n",
    "arr = [70,20,50,60,35,47]\n",
    "result = selectionsort(arr)\n",
    "print(\"array after using selection sort:\", result)"
   ]
  },
  {
   "cell_type": "code",
   "execution_count": null,
   "id": "53314d81",
   "metadata": {},
   "outputs": [],
   "source": []
  }
 ],
 "metadata": {
  "kernelspec": {
   "display_name": "Python 3 (ipykernel)",
   "language": "python",
   "name": "python3"
  },
  "language_info": {
   "codemirror_mode": {
    "name": "ipython",
    "version": 3
   },
   "file_extension": ".py",
   "mimetype": "text/x-python",
   "name": "python",
   "nbconvert_exporter": "python",
   "pygments_lexer": "ipython3",
   "version": "3.11.5"
  }
 },
 "nbformat": 4,
 "nbformat_minor": 5
}
