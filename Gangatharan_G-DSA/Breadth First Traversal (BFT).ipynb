{
 "cells": [
  {
   "cell_type": "code",
   "execution_count": 8,
   "id": "7eec0daf",
   "metadata": {},
   "outputs": [
    {
     "name": "stdout",
     "output_type": "stream",
     "text": [
      "A B C D E F G "
     ]
    }
   ],
   "source": [
    "##Method Definition \n",
    "from collections import deque\n",
    "queue = deque()\n",
    "def breadth_first_traversal(graph, visited, node):\n",
    "    visited.add(node)\n",
    "    ## Implementation of Queue -FIFO\n",
    "    ## appendleft and pop or append and popleft\n",
    "    queue.appendleft(node)\n",
    "    while queue:\n",
    "        node = queue.pop()\n",
    "        print(node, end=\" \")\n",
    "        \n",
    "        for adjacent_node in graph[node]:\n",
    "            if adjacent_node not in visited:\n",
    "                visited.add(adjacent_node)\n",
    "                queue.appendleft(adjacent_node)\n",
    "  \n",
    "    \n",
    "##Driver Code\n",
    "#Directed Graph \n",
    "#Adjacency List\n",
    "\"\"\"graph = {\n",
    "    \"A\" : [\"B\", \"C\", \"D\"],\n",
    "    \"B\" : [\"E\"],\n",
    "    \"C\" : [\"E\",\"F\"],\n",
    "    \"D\" : [\"F\"],\n",
    "    \"E\" : [\"G\"],\n",
    "    \"F\" : [\"G\"],\n",
    "    \"G\" : []\n",
    "\n",
    "}\"\"\"\n",
    "#undirected Graph\n",
    "graph = {\n",
    "    \"A\" : [\"B\", \"C\", \"D\"],\n",
    "    \"B\" : [\"A\", \"E\"],\n",
    "    \"C\" : [\"A\", \"E\", \"F\"],\n",
    "    \"D\" : [\"A\", \"F\"],\n",
    "    \"E\" : [\"B\", \"C\", \"G\"],\n",
    "    \"F\" : [\"D\", \"C\", \"G\"],\n",
    "    \"G\" : [\"E\", \"F\"]\n",
    "\n",
    "}\n",
    "## Visited set to Take care of all the visited element \n",
    "visited = set()\n",
    "breadth_first_traversal(graph, visited, \"A\")"
   ]
  },
  {
   "cell_type": "code",
   "execution_count": null,
   "id": "80928977",
   "metadata": {},
   "outputs": [],
   "source": []
  }
 ],
 "metadata": {
  "kernelspec": {
   "display_name": "Python 3 (ipykernel)",
   "language": "python",
   "name": "python3"
  },
  "language_info": {
   "codemirror_mode": {
    "name": "ipython",
    "version": 3
   },
   "file_extension": ".py",
   "mimetype": "text/x-python",
   "name": "python",
   "nbconvert_exporter": "python",
   "pygments_lexer": "ipython3",
   "version": "3.11.5"
  }
 },
 "nbformat": 4,
 "nbformat_minor": 5
}
