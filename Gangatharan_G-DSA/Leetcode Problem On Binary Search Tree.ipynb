{
 "cells": [
  {
   "cell_type": "code",
   "execution_count": 12,
   "id": "5f6f5e41",
   "metadata": {},
   "outputs": [],
   "source": [
    "#Create Class od Node\n",
    "class Node:\n",
    "    def __init__(self, data):\n",
    "        self.val = data\n",
    "        self.left = None\n",
    "        self.right = None"
   ]
  },
  {
   "cell_type": "markdown",
   "id": "9bc82f37",
   "metadata": {},
   "source": [
    "# 98. Validate Binary Search Tree"
   ]
  },
  {
   "cell_type": "code",
   "execution_count": 17,
   "id": "698016d3",
   "metadata": {},
   "outputs": [
    {
     "name": "stdout",
     "output_type": "stream",
     "text": [
      "\n",
      "Given Binary Search Tree is Valid\n"
     ]
    }
   ],
   "source": [
    "def isValidBST(root):\n",
    "        stack = []\n",
    "        s1 = []\n",
    "        curr = root\n",
    "        while True:\n",
    "            if curr:\n",
    "                stack.append(curr)\n",
    "                curr = curr.left\n",
    "            elif len(stack) > 0:\n",
    "                curr = stack.pop()\n",
    "                s1.append(curr.val)\n",
    "                curr = curr.right\n",
    "            else:\n",
    "                break\n",
    "        flag = 0\n",
    "        i = 1\n",
    "        while i < len(s1):\n",
    "            if(s1[i] <= s1[i - 1]):\n",
    "                flag = 1\n",
    "            i += 1\n",
    "        \n",
    "            \n",
    "        if not flag:\n",
    "            return True\n",
    "        else:\n",
    "            return False\n",
    "        \n",
    "\n",
    "        \n",
    "##Driver Code\n",
    "##Driver Code\n",
    "root = Node(50)\n",
    "root.left = Node(30)\n",
    "root.right = Node(90)\n",
    "root.left.left = Node(25)\n",
    "root.left.right = Node(35)\n",
    "root.right.left = Node(60)\n",
    "root.right.right = Node(100)\n",
    "print()\n",
    "\n",
    "if isValidBST(root):\n",
    "    print(\"Given Binary Search Tree is Valid\")\n",
    "    \n",
    "else:\n",
    "    print(\"Given Binary Search Tree is not Valid\")\n",
    "\n",
    "        \n",
    "        \n"
   ]
  },
  {
   "cell_type": "markdown",
   "id": "6f184d72",
   "metadata": {},
   "source": [
    "# 700. Search in a Binary Search Tree"
   ]
  },
  {
   "cell_type": "code",
   "execution_count": 18,
   "id": "c7ae9939",
   "metadata": {},
   "outputs": [
    {
     "name": "stdout",
     "output_type": "stream",
     "text": [
      "Searching element is not present in Binary Search Tree\n"
     ]
    }
   ],
   "source": [
    "def searchBST(root, val):\n",
    "        if root is None:\n",
    "            return root\n",
    "        if root.val == val:\n",
    "            return root\n",
    "        elif root.val < val:\n",
    "            return searchBST(root.right, val)\n",
    "        else:\n",
    "            return searchBST(root.left, val)\n",
    "\n",
    "if searchBST(root, 10):\n",
    "    print(\"Searching element is present in Binary Search Tree\")\n",
    "else:\n",
    "    print(\"Searching element is not present in Binary Search Tree\")"
   ]
  },
  {
   "cell_type": "code",
   "execution_count": null,
   "id": "dd48564c",
   "metadata": {},
   "outputs": [],
   "source": [
    " "
   ]
  }
 ],
 "metadata": {
  "kernelspec": {
   "display_name": "Python 3 (ipykernel)",
   "language": "python",
   "name": "python3"
  },
  "language_info": {
   "codemirror_mode": {
    "name": "ipython",
    "version": 3
   },
   "file_extension": ".py",
   "mimetype": "text/x-python",
   "name": "python",
   "nbconvert_exporter": "python",
   "pygments_lexer": "ipython3",
   "version": "3.11.5"
  }
 },
 "nbformat": 4,
 "nbformat_minor": 5
}
