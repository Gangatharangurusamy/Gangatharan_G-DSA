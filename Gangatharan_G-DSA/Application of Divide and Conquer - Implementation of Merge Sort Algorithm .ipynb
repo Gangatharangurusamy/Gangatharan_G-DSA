{
 "cells": [
  {
   "cell_type": "markdown",
   "id": "2a7d91eb",
   "metadata": {},
   "source": [
    "# Implementation of Merge Sort Algorithm "
   ]
  },
  {
   "cell_type": "code",
   "execution_count": 4,
   "id": "76105f55",
   "metadata": {},
   "outputs": [
    {
     "name": "stdout",
     "output_type": "stream",
     "text": [
      "Sorted array after applying Merge Sort: [1, 13, 24, 27, 50, 50, 52, 62, 65, 70, 80, 98]\n"
     ]
    }
   ],
   "source": [
    "#Fuctin Definition for Mergeprocedure\n",
    "#n1+n2 = N\n",
    "def mergeprocedure(arr, i, mid, j):\n",
    "    ##n1 -> # of elements in the left subarray(i, mid)\n",
    "    n1 = mid - i + 1\n",
    "    ##n2 -> # of elements in the right subarray(mid+1, j)\n",
    "    n2 = j - mid\n",
    "    # Initialization of left and right subarray\n",
    "    leftsubarray = [0] * n1\n",
    "    rightsubarray = [0] * n2\n",
    "    ## Copy the elements from an array to the subarray\n",
    "    for m in range(n1):\n",
    "        leftsubarray[m] = arr[i + m]\n",
    "    \n",
    "    for n in range(n2):\n",
    "        rightsubarray[n] = arr[mid + 1 + n]\n",
    "        \n",
    "    p = 0\n",
    "    q = 0\n",
    "    k = i\n",
    "    ## returning a Sorted array\n",
    "    while p < n1 and q < n2:\n",
    "        if leftsubarray[p] <= rightsubarray[q]:\n",
    "            arr[k] = leftsubarray[p]\n",
    "            p += 1\n",
    "        else:\n",
    "            arr[k] = rightsubarray[q]\n",
    "            q += 1\n",
    "        k += 1\n",
    "    ## copy the entire elements from the array left subarray\n",
    "    while p < n1:\n",
    "        arr[k] = leftsubarray[p]\n",
    "        p += 1\n",
    "        k += 1\n",
    "        \n",
    "    ## copy the entire elements from the array right subarray\n",
    "    while q < n2:\n",
    "        arr[k] = rightsubarray[q]\n",
    "        q += 1\n",
    "        k += 1\n",
    "                \n",
    "## fuction Difinition for mergesort \n",
    "## recurence relation = 2T(N/2) + N\n",
    "## Time complexity = O(Nlog(N))\n",
    "def mergesort(arr, i, j):\n",
    "    #Small problem\n",
    "    if i == j:\n",
    "        return arr[i]\n",
    "    #Big Problem \n",
    "    else:\n",
    "        # Divide \n",
    "        mid = i + (j-i)//2\n",
    "        # Conquer \n",
    "        left = mergesort(arr, i, mid)\n",
    "        right = mergesort(arr, mid+1, j)\n",
    "        # Combine\n",
    "        mergeprocedure(arr, i, mid, j)\n",
    "    return arr\n",
    "\n",
    "## Driver Code\n",
    "arr = [50, 70, 65, 13, 80, 62, 98, 27, 1, 24, 52, 50]\n",
    "i = 0\n",
    "j = len(arr) - 1\n",
    "result = mergesort(arr, i, j)\n",
    "print(\"Sorted array after applying Merge Sort:\", result)"
   ]
  },
  {
   "cell_type": "code",
   "execution_count": null,
   "id": "81dd70d3",
   "metadata": {},
   "outputs": [],
   "source": []
  }
 ],
 "metadata": {
  "kernelspec": {
   "display_name": "Python 3 (ipykernel)",
   "language": "python",
   "name": "python3"
  },
  "language_info": {
   "codemirror_mode": {
    "name": "ipython",
    "version": 3
   },
   "file_extension": ".py",
   "mimetype": "text/x-python",
   "name": "python",
   "nbconvert_exporter": "python",
   "pygments_lexer": "ipython3",
   "version": "3.11.5"
  }
 },
 "nbformat": 4,
 "nbformat_minor": 5
}
