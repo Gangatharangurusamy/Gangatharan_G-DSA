{
 "cells": [
  {
   "cell_type": "markdown",
   "id": "331f23cd",
   "metadata": {},
   "source": [
    "# 0-1 KnapSack with Recursion"
   ]
  },
  {
   "cell_type": "code",
   "execution_count": 1,
   "id": "4c322158",
   "metadata": {},
   "outputs": [
    {
     "name": "stdout",
     "output_type": "stream",
     "text": [
      "720\n"
     ]
    }
   ],
   "source": [
    "## Fuction Calling\n",
    "def knapSack(wt, profit, M, n):\n",
    "    #base case\n",
    "    if n == 0 or M == 0:\n",
    "        return 0\n",
    "    if wt[n - 1] > M:\n",
    "        return knapSack(wt, profit, M, n - 1)\n",
    "    else:\n",
    "        return max(\n",
    "            profit[n - 1] + knapSack(wt, profit, M - wt[n - 1], n - 1), \n",
    "            knapSack(wt, profit, M, n - 1)\n",
    "        )\n",
    "\n",
    "\n",
    "## Driver Code\n",
    "profit = [600,100,120]\n",
    "wt = [10, 20, 30]\n",
    "Max_capasity = 50\n",
    "n = len(wt)\n",
    "print(knapSack(wt, profit, Max_capasity, n))"
   ]
  },
  {
   "cell_type": "markdown",
   "id": "906bbb85",
   "metadata": {},
   "source": [
    "# Memoization Approach"
   ]
  },
  {
   "cell_type": "code",
   "execution_count": 2,
   "id": "215abf84",
   "metadata": {},
   "outputs": [
    {
     "name": "stdout",
     "output_type": "stream",
     "text": [
      "220\n"
     ]
    }
   ],
   "source": [
    "def knapSack(wt, profit, Max_capasity, n):\n",
    "    t = [[-1 for i in range(Max_capasity + 1)] for i in range(n + 1)]\n",
    "    if n == 0 or Max_capasity == 0:\n",
    "        return 0\n",
    "    if t[n][Max_capasity] != -1:\n",
    "        return t[n][Max_capasity]\n",
    "    \n",
    "    if wt[n-1] > Max_capasity:\n",
    "        t[n][Max_capasity] = knapSack(wt, profit, Max_capasity, n-1)\n",
    "        return t[n][Max_capasity]\n",
    "    else:\n",
    "        t[n][Max_capasity] = max(\n",
    "            knapSack(wt, profit, Max_capasity, n-1), \n",
    "            profit[n-1] + knapSack(wt, profit, Max_capasity - wt[n-1], n-1)\n",
    "        )\n",
    "        return t[n][Max_capasity]\n",
    "    \n",
    "    \n",
    "## Driver Code\n",
    "profit = [60,100,120]\n",
    "wt = [10, 20, 30]\n",
    "Max_capasity = 50\n",
    "n = len(wt)\n",
    "print(knapSack(wt, profit, Max_capasity, n))"
   ]
  },
  {
   "cell_type": "markdown",
   "id": "6f235633",
   "metadata": {},
   "source": [
    "# Tabulation"
   ]
  },
  {
   "cell_type": "code",
   "execution_count": 8,
   "id": "bd37c7c1",
   "metadata": {},
   "outputs": [
    {
     "name": "stdout",
     "output_type": "stream",
     "text": [
      "Maximum Profit: 220\n",
      "\n",
      "\n",
      "Maximum Profit: 3\n"
     ]
    }
   ],
   "source": [
    "def knapSack(wt, profit, M, n):\n",
    "    K = [[0 for x in range(M+1)] for i in range(n+1)]\n",
    "    \n",
    "    for i in range(n+1):\n",
    "        for w in range(M+1):\n",
    "            if i == 0 or w == 0:\n",
    "                K[i][w] = 0\n",
    "            elif wt[i-1] <= w:\n",
    "                K[i][w] = max(\n",
    "                        profit[i-1] + K[i-1][w-wt[i-1]],\n",
    "                        K[i-1][w])\n",
    "            else:\n",
    "                ## wt[i-1] > w\n",
    "                ## skip the current object\n",
    "                ## copy the value from the previous row\n",
    "                K[i][w] = K[i-1][w]\n",
    "    return K[n][M]\n",
    "\n",
    "\n",
    "## Driver Code\n",
    "profit = [60,100,120]\n",
    "wt = [10, 20, 30]\n",
    "Max_capasity = 50\n",
    "n = len(wt)\n",
    "print(\"Maximum Profit:\",knapSack(wt, profit, Max_capasity, n))\n",
    "print()\n",
    "print()\n",
    "profit = [1,2,3]\n",
    "wt = [4,5,1]\n",
    "Max_capasity = 4\n",
    "n = len(wt)\n",
    "print(\"Maximum Profit:\",knapSack(wt, profit, Max_capasity, n))"
   ]
  },
  {
   "cell_type": "code",
   "execution_count": null,
   "id": "1822a102",
   "metadata": {},
   "outputs": [],
   "source": []
  }
 ],
 "metadata": {
  "kernelspec": {
   "display_name": "Python 3 (ipykernel)",
   "language": "python",
   "name": "python3"
  },
  "language_info": {
   "codemirror_mode": {
    "name": "ipython",
    "version": 3
   },
   "file_extension": ".py",
   "mimetype": "text/x-python",
   "name": "python",
   "nbconvert_exporter": "python",
   "pygments_lexer": "ipython3",
   "version": "3.11.5"
  }
 },
 "nbformat": 4,
 "nbformat_minor": 5
}
