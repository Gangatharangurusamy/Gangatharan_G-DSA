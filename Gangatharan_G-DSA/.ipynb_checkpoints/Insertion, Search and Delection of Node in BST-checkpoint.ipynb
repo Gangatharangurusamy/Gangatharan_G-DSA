{
 "cells": [
  {
   "cell_type": "markdown",
   "id": "bd96471c",
   "metadata": {},
   "source": [
    "# Insertion of Node in Binary Search Tree"
   ]
  },
  {
   "cell_type": "code",
   "execution_count": 2,
   "id": "3dead089",
   "metadata": {},
   "outputs": [
    {
     "name": "stdout",
     "output_type": "stream",
     "text": [
      "\n",
      "\n",
      "Inorder Traversal of the Tree:\n",
      "40  50  60  70  80  \n",
      "\n"
     ]
    }
   ],
   "source": [
    "#Create Class od Node\n",
    "class Node:\n",
    "    def __init__(self, data):\n",
    "        self.data = data\n",
    "        self.left = None\n",
    "        self.right = None\n",
    "        \n",
    "## Insertion of a node in a Binary Search Tree\n",
    "def insertBST(root, key):\n",
    "    ## Tree is empty\n",
    "    if root is None:\n",
    "        return Node(key)\n",
    "    else:\n",
    "        if root.data == key:\n",
    "            return root\n",
    "        elif root.data < key:\n",
    "            ##Recursive Call\n",
    "            root.right = insertBST(root.right, key)\n",
    "        else:\n",
    "            ##Recursive Call\n",
    "            root.left = insertBST(root.left, key)\n",
    "    return root\n",
    "\n",
    "##Inorder traversal of the tree (Recursive)\n",
    "\"\"\"def inOrder(root):\n",
    "    if root:\n",
    "        ##\n",
    "        inOrder(root.left)\n",
    "        print(str(root.data) + \" \",end=\" \")\n",
    "        inOrder(root.right)\"\"\"\n",
    "        \n",
    "def inOrder(root):\n",
    "    curr = root\n",
    "    stack = []\n",
    "    while True:\n",
    "        if curr is not None:\n",
    "            stack.append(curr)\n",
    "            curr = curr.left\n",
    "        elif len(stack) > 0:\n",
    "            curr = stack.pop()\n",
    "            print(str(curr.data) + \" \",end = \" \")\n",
    "            curr = curr.right\n",
    "        else:\n",
    "            break\n",
    "    \n",
    "    \n",
    "    \n",
    "##Driver Code\n",
    "root = Node(50)\n",
    "root = insertBST(root, 40)\n",
    "root = insertBST(root, 70)\n",
    "root = insertBST(root, 60)\n",
    "root = insertBST(root, 80)\n",
    "print()\n",
    "\n",
    "\n",
    "print()\n",
    "\n",
    "##If after doing inorder traversal, sorted array\n",
    "## It is a Binary Search Tree else It is not a binary Tree\n",
    "print(\"Inorder Traversal of the Tree:\")\n",
    "inOrder(root)\n",
    "print()\n",
    "print()\n"
   ]
  },
  {
   "cell_type": "markdown",
   "id": "c0ad3ec2",
   "metadata": {},
   "source": [
    "# Searching of Node in Binary Search Tree"
   ]
  },
  {
   "cell_type": "code",
   "execution_count": 3,
   "id": "53a84540",
   "metadata": {},
   "outputs": [
    {
     "name": "stdout",
     "output_type": "stream",
     "text": [
      "Finding Search Data in BST:\n",
      "Searching element is present in Binary Search Tree\n",
      "\n",
      "\n",
      "Finding Search Data in BST:\n",
      "\n",
      "Searching element is not present in Binary Search Tree\n"
     ]
    }
   ],
   "source": [
    "def searchBST(root, searchData):\n",
    "    ##Base case conditions\n",
    "    ## Ma'am Solution\n",
    "    if root is None or root.data == searchData:\n",
    "        return root\n",
    "    ##Left Recursive call\n",
    "    if root.data < searchData:\n",
    "        return searchBST(root.right, searchData)\n",
    "    \n",
    "    return searchBST(root.left, searchData)\n",
    "    \n",
    "    \"\"\"if root is None:\n",
    "        return False\n",
    "    else:\n",
    "        if root.data == searchData:\n",
    "            return True\n",
    "    ##Left Recursive call\n",
    "        elif root.data < searchData:\n",
    "            return searchBST(root.right, searchData)\n",
    "       ##Left Recursive call\n",
    "        else:\n",
    "            return searchBST(root.left, searchData)\n",
    "    return False\"\"\"\n",
    "\n",
    "    \n",
    "    \n",
    "    \n",
    "print(\"Finding Search Data in BST:\")\n",
    "if searchBST(root, 40):\n",
    "    print(\"Searching element is present in Binary Search Tree\")\n",
    "else:\n",
    "    print(\"Searching element is not present in Binary Search Tree\")\n",
    "print()\n",
    "print()\n",
    "print(\"Finding Search Data in BST:\")\n",
    "print()\n",
    "\n",
    "if searchBST(root, 110):\n",
    "    print(\"Searching element is present in Binary Search Tree\")\n",
    "else:\n",
    "    print(\"Searching element is not present in Binary Search Tree\")\n"
   ]
  },
  {
   "cell_type": "markdown",
   "id": "9fb537a6",
   "metadata": {},
   "source": [
    "# Delection of Node in Binary Search Tree"
   ]
  },
  {
   "cell_type": "code",
   "execution_count": 4,
   "id": "11c91100",
   "metadata": {},
   "outputs": [
    {
     "name": "stdout",
     "output_type": "stream",
     "text": [
      "\n",
      "\n",
      "Inorder Traversal of the Tree:\n",
      "40  50  60  70  80  \n",
      "\n",
      "After Delete the Node Inorder Traversal of the Tree:\n",
      "40  60  70  80  "
     ]
    }
   ],
   "source": [
    "def inOrderroot(root):\n",
    "    curr = root\n",
    "    stack = []\n",
    "    while True:\n",
    "        if curr is not None:\n",
    "            stack.append(curr)\n",
    "            curr = curr.left\n",
    "        elif len(stack) > 0:\n",
    "            curr = stack.pop()\n",
    "            print(str(curr.data) + \" \",end = \" \")\n",
    "            curr = curr.right\n",
    "        else:\n",
    "            break\n",
    "            \n",
    "            \n",
    "def deleteNode(root, key):\n",
    "        if root is None:\n",
    "            return root\n",
    "        if root.data < key:\n",
    "            root.right = deleteNode(root.right, key)\n",
    "        elif root.data > key:\n",
    "            root.left = deleteNode(root.left, key)\n",
    "        else:\n",
    "            ##No Child and single Child\n",
    "            if root.left is None:\n",
    "                return root.right \n",
    "            elif root.right is None:\n",
    "                return root.left\n",
    "\n",
    "            ## two child\n",
    "            successor = root.right\n",
    "            while successor.left:\n",
    "                successor = successor.left\n",
    "            root.data = successor.data\n",
    "            root.right = deleteNode(root.right, successor.data)\n",
    "        return root\n",
    "##Driver Code\n",
    "root = Node(50)\n",
    "root = insertBST(root, 40)\n",
    "root = insertBST(root, 70)\n",
    "root = insertBST(root, 60)\n",
    "root = insertBST(root, 80)\n",
    "print()\n",
    "\n",
    "\n",
    "print()\n",
    "\n",
    "##If after doing inorder traversal, sorted array\n",
    "## It is a Binary Search Tree else It is not a binary Tree\n",
    "print(\"Inorder Traversal of the Tree:\")\n",
    "inOrderroot(root)\n",
    "print()\n",
    "print()\n",
    "\n",
    "deleteNode(root, 50)\n",
    "print(\"After Delete the Node Inorder Traversal of the Tree:\")\n",
    "inOrderroot(root)"
   ]
  },
  {
   "cell_type": "code",
   "execution_count": null,
   "id": "84143111",
   "metadata": {},
   "outputs": [],
   "source": []
  }
 ],
 "metadata": {
  "kernelspec": {
   "display_name": "Python 3 (ipykernel)",
   "language": "python",
   "name": "python3"
  },
  "language_info": {
   "codemirror_mode": {
    "name": "ipython",
    "version": 3
   },
   "file_extension": ".py",
   "mimetype": "text/x-python",
   "name": "python",
   "nbconvert_exporter": "python",
   "pygments_lexer": "ipython3",
   "version": "3.11.5"
  }
 },
 "nbformat": 4,
 "nbformat_minor": 5
}
