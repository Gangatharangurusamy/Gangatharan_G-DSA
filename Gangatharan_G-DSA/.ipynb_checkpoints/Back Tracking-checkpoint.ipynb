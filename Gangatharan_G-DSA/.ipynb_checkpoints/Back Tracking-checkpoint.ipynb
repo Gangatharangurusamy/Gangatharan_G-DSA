{
 "cells": [
  {
   "cell_type": "code",
   "execution_count": 1,
   "id": "66f53a5e",
   "metadata": {},
   "outputs": [
    {
     "name": "stdout",
     "output_type": "stream",
     "text": [
      "[['.Q..', '...Q', 'Q...', '..Q.'], ['..Q.', 'Q...', '...Q', '.Q..']]\n"
     ]
    }
   ],
   "source": [
    "def solveNQueens(n: int):\n",
    "    def is_valid(board, row, col):\n",
    "        # Check if there is any queen in the same column\n",
    "        for i in range(row):\n",
    "            if board[i][col] == 'Q':\n",
    "                return False\n",
    "        \n",
    "        # Check upper-left diagonal\n",
    "        for i, j in zip(range(row-1, -1, -1), range(col-1, -1, -1)):\n",
    "            if board[i][j] == 'Q':\n",
    "                return False\n",
    "        \n",
    "        # Check upper-right diagonal\n",
    "        for i, j in zip(range(row-1, -1, -1), range(col+1, n)):\n",
    "            if board[i][j] == 'Q':\n",
    "                return False\n",
    "        \n",
    "        return True\n",
    "    \n",
    "    def backtrack(board, row):\n",
    "        if row == n:\n",
    "            res.append([\"\".join(row) for row in board])\n",
    "            return\n",
    "        \n",
    "        for col in range(n):\n",
    "            if is_valid(board, row, col):\n",
    "                board[row][col] = 'Q'\n",
    "                backtrack(board, row + 1)\n",
    "                board[row][col] = '.'\n",
    "    \n",
    "    res = []\n",
    "    board = [['.' for _ in range(n)] for _ in range(n)]\n",
    "    backtrack(board, 0)\n",
    "    return res\n",
    "\n",
    "# Example usage:\n",
    "n = 4\n",
    "print(solveNQueens(n))\n"
   ]
  },
  {
   "cell_type": "code",
   "execution_count": null,
   "id": "91523617",
   "metadata": {},
   "outputs": [],
   "source": []
  }
 ],
 "metadata": {
  "kernelspec": {
   "display_name": "Python 3 (ipykernel)",
   "language": "python",
   "name": "python3"
  },
  "language_info": {
   "codemirror_mode": {
    "name": "ipython",
    "version": 3
   },
   "file_extension": ".py",
   "mimetype": "text/x-python",
   "name": "python",
   "nbconvert_exporter": "python",
   "pygments_lexer": "ipython3",
   "version": "3.11.5"
  }
 },
 "nbformat": 4,
 "nbformat_minor": 5
}
