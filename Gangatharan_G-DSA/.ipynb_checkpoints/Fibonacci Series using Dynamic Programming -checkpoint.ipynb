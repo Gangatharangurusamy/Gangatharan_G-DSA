{
 "cells": [
  {
   "cell_type": "markdown",
   "id": "4b19db66",
   "metadata": {},
   "source": [
    "## Solve the fibonacci series problem using recursion"
   ]
  },
  {
   "cell_type": "code",
   "execution_count": 1,
   "id": "b526d5c0",
   "metadata": {},
   "outputs": [
    {
     "data": {
      "text/plain": [
       "13"
      ]
     },
     "execution_count": 1,
     "metadata": {},
     "output_type": "execute_result"
    }
   ],
   "source": [
    "## Time complexity = O(2^n)\n",
    "def fib(n):\n",
    "    if n ==0 or n==1:\n",
    "        return n\n",
    "    else:\n",
    "        result = fib(n-1) + fib(n-2)\n",
    "    return result\n",
    "\n",
    "fib(7)"
   ]
  },
  {
   "cell_type": "code",
   "execution_count": null,
   "id": "c1c4d042",
   "metadata": {},
   "outputs": [],
   "source": [
    "fib(78) # It will take so much time"
   ]
  },
  {
   "cell_type": "markdown",
   "id": "9d725489",
   "metadata": {},
   "source": [
    "## observation : Using recursion, we are getting an  exponential time complexity and when value of n is small, it is giving us the result within few seconds but as the value of n is increasing, the time required to generate the result is too much."
   ]
  },
  {
   "cell_type": "markdown",
   "id": "d1de53d5",
   "metadata": {},
   "source": [
    "## Why it is taking too much time when n is quite high?\n",
    "\n",
    "### overlapping subproblem - Recomputation  of same subproblem again and again\n"
   ]
  },
  {
   "cell_type": "markdown",
   "id": "357756a6",
   "metadata": {},
   "source": [
    "## Solution of above problem (Overlapping subproblem):\n",
    "\n",
    "### 1. Memoization(Top Down Approach)\n",
    "### 2. Tabulation(Bottom Up Approach)"
   ]
  },
  {
   "cell_type": "markdown",
   "id": "02228fff",
   "metadata": {},
   "source": [
    "## Memoization: Recursion but storing every recursion function call solution in a data stucture\n"
   ]
  },
  {
   "cell_type": "code",
   "execution_count": 2,
   "id": "0115263d",
   "metadata": {},
   "outputs": [
    {
     "data": {
      "text/plain": [
       "13"
      ]
     },
     "execution_count": 2,
     "metadata": {},
     "output_type": "execute_result"
    }
   ],
   "source": [
    "## Time complexity = O(n)\n",
    "## Space complexity = O(n)\n",
    "## Method definition\n",
    "def fib_topDown(n, memo):\n",
    "    ## Storing of results of function call \n",
    "    if memo[n] is not None:\n",
    "        return memo[n]\n",
    "    ## Base Case condition\n",
    "    if n == 0 or n == 1:\n",
    "        return n\n",
    "        \n",
    "    else:\n",
    "        result = fib_topDown(n-1, memo) + fib_topDown(n-2, memo)\n",
    "    memo[n] = result\n",
    "    return result\n",
    "    \n",
    "\n",
    "def fib_memo(n):\n",
    "    ## Create a list to store the results of every function call\n",
    "    memo = [None] * (n+1) # why n+1 because we are using 0-n so n+1 numbers\n",
    "    ## function calling \n",
    "    return fib_topDown(n, memo)\n",
    "                                                      \n",
    "## Function calling\n",
    "fib_memo(7)\n",
    "                                                      "
   ]
  },
  {
   "cell_type": "code",
   "execution_count": 3,
   "id": "903ca157",
   "metadata": {},
   "outputs": [
    {
     "data": {
      "text/plain": [
       "8944394323791464"
      ]
     },
     "execution_count": 3,
     "metadata": {},
     "output_type": "execute_result"
    }
   ],
   "source": [
    "fib_memo(78) # we got in fraction of second "
   ]
  },
  {
   "cell_type": "code",
   "execution_count": 4,
   "id": "5ca5a5b6",
   "metadata": {},
   "outputs": [
    {
     "data": {
      "text/plain": [
       "69283081864224717136290077681328518273399124385204820718966040597691435587278383112277161967532530675374170857404743017623467220361778016172106855838975759985190398725"
      ]
     },
     "execution_count": 4,
     "metadata": {},
     "output_type": "execute_result"
    }
   ],
   "source": [
    "fib_memo(800)"
   ]
  },
  {
   "cell_type": "code",
   "execution_count": 5,
   "id": "b2eab6e9",
   "metadata": {},
   "outputs": [
    {
     "data": {
      "text/plain": [
       "4224696333392304878706725602341482782579852840250681098010280137314308584370130707224123599639141511088446087538909603607640194711643596029271983312598737326253555802606991585915229492453904998722256795316982874482472992263901833716778060607011615497886719879858311468870876264597369086722884023654422295243347964480139515349562972087652656069529806499841977448720155612802665404554171717881930324025204312082516817125"
      ]
     },
     "execution_count": 5,
     "metadata": {},
     "output_type": "execute_result"
    }
   ],
   "source": [
    "fib_memo(2000)"
   ]
  },
  {
   "cell_type": "code",
   "execution_count": 6,
   "id": "afcfca08",
   "metadata": {},
   "outputs": [
    {
     "ename": "RecursionError",
     "evalue": "maximum recursion depth exceeded",
     "output_type": "error",
     "traceback": [
      "\u001b[1;31m---------------------------------------------------------------------------\u001b[0m",
      "\u001b[1;31mRecursionError\u001b[0m                            Traceback (most recent call last)",
      "Cell \u001b[1;32mIn[6], line 1\u001b[0m\n\u001b[1;32m----> 1\u001b[0m \u001b[43mfib_memo\u001b[49m\u001b[43m(\u001b[49m\u001b[38;5;241;43m10000\u001b[39;49m\u001b[43m)\u001b[49m \u001b[38;5;66;03m# We are using Recursion then we are using Stack, \u001b[39;00m\n\u001b[0;32m      2\u001b[0m \u001b[38;5;66;03m# So after some time we will occur the \"RecursionError\"\u001b[39;00m\n\u001b[0;32m      3\u001b[0m \u001b[38;5;66;03m# so That the researcher come with new Solution which is \"Tabulation(Bottom Up Approach)\"\u001b[39;00m\n",
      "Cell \u001b[1;32mIn[2], line 20\u001b[0m, in \u001b[0;36mfib_memo\u001b[1;34m(n)\u001b[0m\n\u001b[0;32m     18\u001b[0m memo \u001b[38;5;241m=\u001b[39m [\u001b[38;5;28;01mNone\u001b[39;00m] \u001b[38;5;241m*\u001b[39m (n\u001b[38;5;241m+\u001b[39m\u001b[38;5;241m1\u001b[39m) \u001b[38;5;66;03m# why n+1 because we are using 0-n so n+1 numbers\u001b[39;00m\n\u001b[0;32m     19\u001b[0m \u001b[38;5;66;03m## function calling \u001b[39;00m\n\u001b[1;32m---> 20\u001b[0m \u001b[38;5;28;01mreturn\u001b[39;00m \u001b[43mfib_topDown\u001b[49m\u001b[43m(\u001b[49m\u001b[43mn\u001b[49m\u001b[43m,\u001b[49m\u001b[43m \u001b[49m\u001b[43mmemo\u001b[49m\u001b[43m)\u001b[49m\n",
      "Cell \u001b[1;32mIn[2], line 11\u001b[0m, in \u001b[0;36mfib_topDown\u001b[1;34m(n, memo)\u001b[0m\n\u001b[0;32m      8\u001b[0m     \u001b[38;5;28;01mreturn\u001b[39;00m n\n\u001b[0;32m     10\u001b[0m \u001b[38;5;28;01melse\u001b[39;00m:\n\u001b[1;32m---> 11\u001b[0m     result \u001b[38;5;241m=\u001b[39m \u001b[43mfib_topDown\u001b[49m\u001b[43m(\u001b[49m\u001b[43mn\u001b[49m\u001b[38;5;241;43m-\u001b[39;49m\u001b[38;5;241;43m1\u001b[39;49m\u001b[43m,\u001b[49m\u001b[43m \u001b[49m\u001b[43mmemo\u001b[49m\u001b[43m)\u001b[49m \u001b[38;5;241m+\u001b[39m fib_topDown(n\u001b[38;5;241m-\u001b[39m\u001b[38;5;241m2\u001b[39m, memo)\n\u001b[0;32m     12\u001b[0m memo[n] \u001b[38;5;241m=\u001b[39m result\n\u001b[0;32m     13\u001b[0m \u001b[38;5;28;01mreturn\u001b[39;00m result\n",
      "Cell \u001b[1;32mIn[2], line 11\u001b[0m, in \u001b[0;36mfib_topDown\u001b[1;34m(n, memo)\u001b[0m\n\u001b[0;32m      8\u001b[0m     \u001b[38;5;28;01mreturn\u001b[39;00m n\n\u001b[0;32m     10\u001b[0m \u001b[38;5;28;01melse\u001b[39;00m:\n\u001b[1;32m---> 11\u001b[0m     result \u001b[38;5;241m=\u001b[39m \u001b[43mfib_topDown\u001b[49m\u001b[43m(\u001b[49m\u001b[43mn\u001b[49m\u001b[38;5;241;43m-\u001b[39;49m\u001b[38;5;241;43m1\u001b[39;49m\u001b[43m,\u001b[49m\u001b[43m \u001b[49m\u001b[43mmemo\u001b[49m\u001b[43m)\u001b[49m \u001b[38;5;241m+\u001b[39m fib_topDown(n\u001b[38;5;241m-\u001b[39m\u001b[38;5;241m2\u001b[39m, memo)\n\u001b[0;32m     12\u001b[0m memo[n] \u001b[38;5;241m=\u001b[39m result\n\u001b[0;32m     13\u001b[0m \u001b[38;5;28;01mreturn\u001b[39;00m result\n",
      "    \u001b[1;31m[... skipping similar frames: fib_topDown at line 11 (2970 times)]\u001b[0m\n",
      "Cell \u001b[1;32mIn[2], line 11\u001b[0m, in \u001b[0;36mfib_topDown\u001b[1;34m(n, memo)\u001b[0m\n\u001b[0;32m      8\u001b[0m     \u001b[38;5;28;01mreturn\u001b[39;00m n\n\u001b[0;32m     10\u001b[0m \u001b[38;5;28;01melse\u001b[39;00m:\n\u001b[1;32m---> 11\u001b[0m     result \u001b[38;5;241m=\u001b[39m \u001b[43mfib_topDown\u001b[49m\u001b[43m(\u001b[49m\u001b[43mn\u001b[49m\u001b[38;5;241;43m-\u001b[39;49m\u001b[38;5;241;43m1\u001b[39;49m\u001b[43m,\u001b[49m\u001b[43m \u001b[49m\u001b[43mmemo\u001b[49m\u001b[43m)\u001b[49m \u001b[38;5;241m+\u001b[39m fib_topDown(n\u001b[38;5;241m-\u001b[39m\u001b[38;5;241m2\u001b[39m, memo)\n\u001b[0;32m     12\u001b[0m memo[n] \u001b[38;5;241m=\u001b[39m result\n\u001b[0;32m     13\u001b[0m \u001b[38;5;28;01mreturn\u001b[39;00m result\n",
      "\u001b[1;31mRecursionError\u001b[0m: maximum recursion depth exceeded"
     ]
    }
   ],
   "source": [
    "fib_memo(10000) # We are using Recursion then we are using Stack, \n",
    "# So after some time we will occur the \"RecursionError\"\n",
    "# so That the researcher come with new Solution which is \"Tabulation(Bottom Up Approach)\""
   ]
  },
  {
   "cell_type": "markdown",
   "id": "6d08af83",
   "metadata": {},
   "source": [
    "## Tabulation:\n",
    "### Ged rid of recursion itself"
   ]
  },
  {
   "cell_type": "code",
   "execution_count": 7,
   "id": "ffe47306",
   "metadata": {},
   "outputs": [
    {
     "data": {
      "text/plain": [
       "13"
      ]
     },
     "execution_count": 7,
     "metadata": {},
     "output_type": "execute_result"
    }
   ],
   "source": [
    "## Time complexity = O(n)\n",
    "## Space complexity = O(n)\n",
    "## Method Definition\n",
    "def fib_bottomUp(n):\n",
    "    bottomUp = [None] * (n+1)\n",
    "    bottomUp[0] = 0\n",
    "    bottomUp[1] = 1\n",
    "    # No recursive Function call\n",
    "    for i in range(2, n+1):\n",
    "        bottomUp[i] = bottomUp[i-1] + bottomUp[i-2]\n",
    "    return bottomUp[n]\n",
    "fib_bottomUp(7)"
   ]
  },
  {
   "cell_type": "code",
   "execution_count": 8,
   "id": "fdb71566",
   "metadata": {},
   "outputs": [
    {
     "data": {
      "text/plain": [
       "354224848179261915075"
      ]
     },
     "execution_count": 8,
     "metadata": {},
     "output_type": "execute_result"
    }
   ],
   "source": [
    "fib_bottomUp(100)"
   ]
  },
  {
   "cell_type": "code",
   "execution_count": 9,
   "id": "bde6016f",
   "metadata": {},
   "outputs": [
    {
     "data": {
      "text/plain": [
       "139423224561697880139724382870407283950070256587697307264108962948325571622863290691557658876222521294125"
      ]
     },
     "execution_count": 9,
     "metadata": {},
     "output_type": "execute_result"
    }
   ],
   "source": [
    "fib_bottomUp(500)"
   ]
  },
  {
   "cell_type": "code",
   "execution_count": 10,
   "id": "c15e7f02",
   "metadata": {},
   "outputs": [
    {
     "data": {
      "text/plain": [
       "43466557686937456435688527675040625802564660517371780402481729089536555417949051890403879840079255169295922593080322634775209689623239873322471161642996440906533187938298969649928516003704476137795166849228875"
      ]
     },
     "execution_count": 10,
     "metadata": {},
     "output_type": "execute_result"
    }
   ],
   "source": [
    "fib_bottomUp(1000)"
   ]
  },
  {
   "cell_type": "code",
   "execution_count": 11,
   "id": "d1c1e4c1",
   "metadata": {},
   "outputs": [
    {
     "data": {
      "text/plain": [
       "33644764876431783266621612005107543310302148460680063906564769974680081442166662368155595513633734025582065332680836159373734790483865268263040892463056431887354544369559827491606602099884183933864652731300088830269235673613135117579297437854413752130520504347701602264758318906527890855154366159582987279682987510631200575428783453215515103870818298969791613127856265033195487140214287532698187962046936097879900350962302291026368131493195275630227837628441540360584402572114334961180023091208287046088923962328835461505776583271252546093591128203925285393434620904245248929403901706233888991085841065183173360437470737908552631764325733993712871937587746897479926305837065742830161637408969178426378624212835258112820516370298089332099905707920064367426202389783111470054074998459250360633560933883831923386783056136435351892133279732908133732642652633989763922723407882928177953580570993691049175470808931841056146322338217465637321248226383092103297701648054726243842374862411453093812206564914032751086643394517512161526545361333111314042436854805106765843493523836959653428071768775328348234345557366719731392746273629108210679280784718035329131176778924659089938635459327894523777674406192240337638674004021330343297496902028328145933418826817683893072003634795623117103101291953169794607632737589253530772552375943788434504067715555779056450443016640119462580972216729758615026968443146952034614932291105970676243268515992834709891284706740862008587135016260312071903172086094081298321581077282076353186624611278245537208532365305775956430072517744315051539600905168603220349163222640885248852433158051534849622434848299380905070483482449327453732624567755879089187190803662058009594743150052402532709746995318770724376825907419939632265984147498193609285223945039707165443156421328157688908058783183404917434556270520223564846495196112460268313970975069382648706613264507665074611512677522748621598642530711298441182622661057163515069260029861704945425047491378115154139941550671256271197133252763631939606902895650288268608362241082050562430701794976171121233066073310059947366875"
      ]
     },
     "execution_count": 11,
     "metadata": {},
     "output_type": "execute_result"
    }
   ],
   "source": [
    "fib_bottomUp(10000) # Same number we got the Answer"
   ]
  },
  {
   "cell_type": "markdown",
   "id": "73729957",
   "metadata": {},
   "source": [
    "## Space complexity in tabulation approach is Constant\n",
    "### Time complexity = O(n)\n",
    "### Space complexity = O(1)"
   ]
  },
  {
   "cell_type": "markdown",
   "id": "382729c3",
   "metadata": {},
   "source": [
    "### Highly Optimized Solution of Fibonacci Series Problem"
   ]
  },
  {
   "cell_type": "code",
   "execution_count": 15,
   "id": "4d9e74d8",
   "metadata": {},
   "outputs": [
    {
     "data": {
      "text/plain": [
       "33644764876431783266621612005107543310302148460680063906564769974680081442166662368155595513633734025582065332680836159373734790483865268263040892463056431887354544369559827491606602099884183933864652731300088830269235673613135117579297437854413752130520504347701602264758318906527890855154366159582987279682987510631200575428783453215515103870818298969791613127856265033195487140214287532698187962046936097879900350962302291026368131493195275630227837628441540360584402572114334961180023091208287046088923962328835461505776583271252546093591128203925285393434620904245248929403901706233888991085841065183173360437470737908552631764325733993712871937587746897479926305837065742830161637408969178426378624212835258112820516370298089332099905707920064367426202389783111470054074998459250360633560933883831923386783056136435351892133279732908133732642652633989763922723407882928177953580570993691049175470808931841056146322338217465637321248226383092103297701648054726243842374862411453093812206564914032751086643394517512161526545361333111314042436854805106765843493523836959653428071768775328348234345557366719731392746273629108210679280784718035329131176778924659089938635459327894523777674406192240337638674004021330343297496902028328145933418826817683893072003634795623117103101291953169794607632737589253530772552375943788434504067715555779056450443016640119462580972216729758615026968443146952034614932291105970676243268515992834709891284706740862008587135016260312071903172086094081298321581077282076353186624611278245537208532365305775956430072517744315051539600905168603220349163222640885248852433158051534849622434848299380905070483482449327453732624567755879089187190803662058009594743150052402532709746995318770724376825907419939632265984147498193609285223945039707165443156421328157688908058783183404917434556270520223564846495196112460268313970975069382648706613264507665074611512677522748621598642530711298441182622661057163515069260029861704945425047491378115154139941550671256271197133252763631939606902895650288268608362241082050562430701794976171121233066073310059947366875"
      ]
     },
     "execution_count": 15,
     "metadata": {},
     "output_type": "execute_result"
    }
   ],
   "source": [
    "## Time complexity = O(n)\n",
    "## Space complexity = O(1)\n",
    "## Method Definition\n",
    "def fib_bottomUp(n):\n",
    "    a = 0\n",
    "    b = 1\n",
    "    # No recursive Function call\n",
    "    for i in range(2, n+1):\n",
    "        c = a + b\n",
    "        a = b\n",
    "        b = c\n",
    "    return c\n",
    "\n",
    "fib_bottomUp(10000)"
   ]
  },
  {
   "cell_type": "code",
   "execution_count": null,
   "id": "d62964e4",
   "metadata": {},
   "outputs": [],
   "source": []
  }
 ],
 "metadata": {
  "kernelspec": {
   "display_name": "Python 3 (ipykernel)",
   "language": "python",
   "name": "python3"
  },
  "language_info": {
   "codemirror_mode": {
    "name": "ipython",
    "version": 3
   },
   "file_extension": ".py",
   "mimetype": "text/x-python",
   "name": "python",
   "nbconvert_exporter": "python",
   "pygments_lexer": "ipython3",
   "version": "3.11.5"
  }
 },
 "nbformat": 4,
 "nbformat_minor": 5
}
