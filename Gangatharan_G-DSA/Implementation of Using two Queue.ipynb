{
 "cells": [
  {
   "cell_type": "markdown",
   "id": "5f9410f1",
   "metadata": {},
   "source": [
    "# Implementation of using two Queue"
   ]
  },
  {
   "cell_type": "markdown",
   "id": "e6d32405",
   "metadata": {},
   "source": [
    "Time Complexity:\n",
    "\n",
    "Push = O(1) \n",
    "we can reverse the time complexity push and pop\n",
    "\n",
    "Pop = O(n)\n",
    "\n",
    "top = O(1)\n",
    "\n",
    "empty = O(1)\n"
   ]
  },
  {
   "cell_type": "code",
   "execution_count": null,
   "id": "f2e8531d",
   "metadata": {},
   "outputs": [],
   "source": [
    "# class MyStack:\n",
    "\n",
    "    def __init__(self):\n",
    "        self.q1 = []\n",
    "        self.q2 = []\n",
    "\n",
    "    def push(self, x: int) -> None:\n",
    "        self.q1.append(x)\n",
    "\n",
    "    def pop(self) -> int:\n",
    "        \"\"\"if self.empty():\n",
    "            return \"Stack is empty\"\n",
    "        else:\"\"\"\n",
    "        if len(self.q1) == 0:\n",
    "            return -1\n",
    "        while len(self.q1) > 1:\n",
    "            num = self.q1.pop(0)\n",
    "            self.q2.append(num)\n",
    "        ans = self.q1.pop(0)\n",
    "\n",
    "        while len(self.q2):\n",
    "            num = self.q2.pop(0)\n",
    "            self.q1.append(num)\n",
    "        return ans\n",
    "\n",
    "    def top(self) -> int:\n",
    "        return self.q1[-1]\n",
    "\n",
    "    def empty(self) -> bool:\n",
    "        return len(self.q1) == 0\n",
    "\n",
    "\n",
    "# Your MyStack object will be instantiated and called as such:\n",
    "# obj = MyStack()\n",
    "# obj.push(x)\n",
    "# param_2 = obj.pop()\n",
    "# param_3 = obj.top()\n",
    "# param_4 = obj.empty()\n",
    "\n",
    "s = MyStack()\n",
    "\n",
    "s.push(4)\n",
    "s.push(2)\n",
    "s.push(6)\n",
    "s.push(1)\n",
    "s.push(7)\n",
    "s.push(8)\n",
    "s.pop()"
   ]
  },
  {
   "cell_type": "code",
   "execution_count": 2,
   "id": "95871a96",
   "metadata": {},
   "outputs": [
    {
     "data": {
      "text/plain": [
       "7"
      ]
     },
     "execution_count": 2,
     "metadata": {},
     "output_type": "execute_result"
    }
   ],
   "source": [
    "s.pop()"
   ]
  },
  {
   "cell_type": "markdown",
   "id": "3fce4b9a",
   "metadata": {},
   "source": [
    "# Implementation of Queue using Stack"
   ]
  },
  {
   "cell_type": "markdown",
   "id": "c491078a",
   "metadata": {},
   "source": [
    "Time Complexity:\n",
    "\n",
    "enqueue = O(1) \n",
    "\n",
    "we can reverse the time complexity enqueue and dequeue\n",
    "\n",
    "dequeue = O(n)\n",
    "\n",
    "top = O(1)\n",
    "\n",
    "empty = O(1)\n"
   ]
  },
  {
   "cell_type": "code",
   "execution_count": 6,
   "id": "6b63b9da",
   "metadata": {},
   "outputs": [],
   "source": [
    "class MyQueue:\n",
    "\n",
    "    def __init__(self):\n",
    "        self.s1 = []\n",
    "        self.s2 = []\n",
    "\n",
    "    def enqueue(self, x: int) -> None:\n",
    "        self.s1.append(x)\n",
    "\n",
    "    def dequeue(self) -> int:\n",
    "        if len(self.s1) == 0:\n",
    "            return -1\n",
    "        while len(self.s1) > 1:\n",
    "            num = self.s1.pop()\n",
    "            self.s2.append(num)\n",
    "        ans = self.s1.pop()\n",
    "\n",
    "        while len(self.s2):\n",
    "            num = self.s2.pop()\n",
    "            self.s1.append(num)\n",
    "        return ans\n",
    "    def peek(self) -> int:\n",
    "        return self.s1[0]\n",
    "\n",
    "    def empty(self) -> bool:\n",
    "        return len(self.s1) == 0\n",
    "        \n",
    "\n",
    "\n",
    "# Your MyQueue object will be instantiated and called as such:\n",
    "# obj = MyQueue()\n",
    "# obj.push(x)\n",
    "# param_2 = obj.pop()\n",
    "# param_3 = obj.peek()\n",
    "# param_4 = obj.empty()"
   ]
  },
  {
   "cell_type": "code",
   "execution_count": 7,
   "id": "5338d949",
   "metadata": {},
   "outputs": [
    {
     "data": {
      "text/plain": [
       "2"
      ]
     },
     "execution_count": 7,
     "metadata": {},
     "output_type": "execute_result"
    }
   ],
   "source": [
    "q = MyQueue()\n",
    "q.enqueue(2)\n",
    "q.enqueue(3)\n",
    "q.enqueue(4)\n",
    "q.enqueue(5)\n",
    "q.enqueue(6)\n",
    "q.dequeue()"
   ]
  },
  {
   "cell_type": "code",
   "execution_count": 8,
   "id": "d6e1e3ec",
   "metadata": {},
   "outputs": [
    {
     "data": {
      "text/plain": [
       "3"
      ]
     },
     "execution_count": 8,
     "metadata": {},
     "output_type": "execute_result"
    }
   ],
   "source": [
    "q.dequeue()"
   ]
  },
  {
   "cell_type": "markdown",
   "id": "6582bb08",
   "metadata": {},
   "source": [
    "# Ma'am's Solution"
   ]
  },
  {
   "cell_type": "code",
   "execution_count": 10,
   "id": "b3118073",
   "metadata": {},
   "outputs": [],
   "source": [
    "class MyQueue:\n",
    "\n",
    "    def __init__(self):\n",
    "        self.s1 = []\n",
    "        self.s2 = []\n",
    "\n",
    "    def push(self, x: int) -> None:\n",
    "        self.s1.append(x)\n",
    "\n",
    "    def pop(self) -> int:\n",
    "        if len(self.s1) == 0 and len(self.s2) == 0:\n",
    "            return -1\n",
    "        if len(self.s2) > 0:\n",
    "            return self.s2.pop()\n",
    "        while len(self.s1) > 1:\n",
    "            num = self.s1.pop()\n",
    "            self.s2.append(num)\n",
    "        ans = self.s1.pop()\n",
    "        return ans\n",
    "    def peek(self) -> int:\n",
    "        if len(self.s2) > 0:\n",
    "            return self.s2[len(self.s2)-1]\n",
    "        return self.s1[0]\n",
    "    def empty(self) -> bool:\n",
    "        return len(self.s1) == 0 and len(self.s2) == 0  \n",
    "        \n",
    "\n",
    "\n",
    "# Your MyQueue object will be instantiated and called as such:\n",
    "# obj = MyQueue()\n",
    "# obj.push(x)\n",
    "# param_2 = obj.pop()\n",
    "# param_3 = obj.peek()\n",
    "# param_4 = obj.empty()"
   ]
  },
  {
   "cell_type": "code",
   "execution_count": null,
   "id": "9301dff9",
   "metadata": {},
   "outputs": [],
   "source": []
  }
 ],
 "metadata": {
  "kernelspec": {
   "display_name": "Python 3 (ipykernel)",
   "language": "python",
   "name": "python3"
  },
  "language_info": {
   "codemirror_mode": {
    "name": "ipython",
    "version": 3
   },
   "file_extension": ".py",
   "mimetype": "text/x-python",
   "name": "python",
   "nbconvert_exporter": "python",
   "pygments_lexer": "ipython3",
   "version": "3.11.5"
  }
 },
 "nbformat": 4,
 "nbformat_minor": 5
}
