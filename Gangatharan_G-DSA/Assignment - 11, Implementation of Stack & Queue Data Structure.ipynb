{
 "cells": [
  {
   "cell_type": "code",
   "execution_count": 1,
   "id": "27a7960f",
   "metadata": {},
   "outputs": [],
   "source": [
    "from collections import deque"
   ]
  },
  {
   "cell_type": "code",
   "execution_count": 2,
   "id": "ce1a4435",
   "metadata": {},
   "outputs": [],
   "source": [
    "stack = deque()"
   ]
  },
  {
   "cell_type": "code",
   "execution_count": 3,
   "id": "92230bae",
   "metadata": {},
   "outputs": [],
   "source": [
    "stack.append(\"google\")\n",
    "stack.append(\"leetcode\")\n",
    "stack.append(\"problem\")\n",
    "stack.append(\"two sum\")"
   ]
  },
  {
   "cell_type": "code",
   "execution_count": 4,
   "id": "59955754",
   "metadata": {},
   "outputs": [
    {
     "data": {
      "text/plain": [
       "'two sum'"
      ]
     },
     "execution_count": 4,
     "metadata": {},
     "output_type": "execute_result"
    }
   ],
   "source": [
    "stack.pop()"
   ]
  },
  {
   "cell_type": "code",
   "execution_count": 5,
   "id": "5b308129",
   "metadata": {},
   "outputs": [
    {
     "name": "stdout",
     "output_type": "stream",
     "text": [
      "Vlaid Parenthesis\n"
     ]
    }
   ],
   "source": [
    "def isvalid(string):\n",
    "    bracketMapping = {\"(\" : \")\", \"{\": \"}\", \"[\":\"]\"}\n",
    "    openParams = [\"(\", \"{\", \"[\"]\n",
    "    stack = []\n",
    "    for s in string:\n",
    "        if s in openParams:\n",
    "            stack.append(s)\n",
    "        elif stack and s == bracketMapping[stack[-1]]:\n",
    "            stack.pop( )\n",
    "        else:\n",
    "            return False\n",
    "    return stack == []\n",
    "\n",
    "\n",
    "\n",
    "##Driver Code\n",
    "string = \"(){}\"\n",
    "if isvalid(string):\n",
    "    print(\"Vlaid Parenthesis\")\n",
    "else:\n",
    "    print(\"Invalid parenthesis\")"
   ]
  },
  {
   "cell_type": "code",
   "execution_count": 6,
   "id": "bf467dee",
   "metadata": {},
   "outputs": [],
   "source": [
    "from collections import deque\n",
    "class Stack:\n",
    "    def __init__(self):\n",
    "        self.container = deque()\n",
    "    \n",
    "    def push(self, val):\n",
    "        return self.container.append(val)\n",
    "    \n",
    "    def pop(self):\n",
    "        if self.is_Empty():\n",
    "            return \"Stack is empty\"\n",
    "        else:\n",
    "            return self.container.pop()\n",
    "\n",
    "    \n",
    "    def peek(self):\n",
    "        return self.container[-1]\n",
    "    \n",
    "    def is_Empty(self):\n",
    "        return len(self.container) == 0\n",
    "    \n",
    "    def size(self):\n",
    "        return len(self.container)\n",
    "    \n",
    "s = Stack()\n",
    "\n",
    "s.push(4)\n",
    "s.push(2)\n",
    "s.push(6)\n",
    "s.push(1)\n",
    "s.push(7)\n",
    "s.push(8)"
   ]
  },
  {
   "cell_type": "code",
   "execution_count": 7,
   "id": "5e2b988b",
   "metadata": {},
   "outputs": [
    {
     "data": {
      "text/plain": [
       "8"
      ]
     },
     "execution_count": 7,
     "metadata": {},
     "output_type": "execute_result"
    }
   ],
   "source": [
    "## check the topmost ele\n",
    "s.peek()"
   ]
  },
  {
   "cell_type": "code",
   "execution_count": 8,
   "id": "16a903f7",
   "metadata": {},
   "outputs": [
    {
     "data": {
      "text/plain": [
       "6"
      ]
     },
     "execution_count": 8,
     "metadata": {},
     "output_type": "execute_result"
    }
   ],
   "source": [
    "s.size()"
   ]
  },
  {
   "cell_type": "code",
   "execution_count": 9,
   "id": "c0b6061b",
   "metadata": {},
   "outputs": [
    {
     "data": {
      "text/plain": [
       "8"
      ]
     },
     "execution_count": 9,
     "metadata": {},
     "output_type": "execute_result"
    }
   ],
   "source": [
    "## Delete the answer and Return\n",
    "s.pop()\n"
   ]
  },
  {
   "cell_type": "code",
   "execution_count": 10,
   "id": "bc4b2438",
   "metadata": {},
   "outputs": [
    {
     "data": {
      "text/plain": [
       "5"
      ]
     },
     "execution_count": 10,
     "metadata": {},
     "output_type": "execute_result"
    }
   ],
   "source": [
    "## check the len()\n",
    "s.size()"
   ]
  },
  {
   "cell_type": "code",
   "execution_count": 11,
   "id": "ff2959a9",
   "metadata": {},
   "outputs": [
    {
     "data": {
      "text/plain": [
       "7"
      ]
     },
     "execution_count": 11,
     "metadata": {},
     "output_type": "execute_result"
    }
   ],
   "source": [
    "s.peek()"
   ]
  },
  {
   "cell_type": "code",
   "execution_count": 12,
   "id": "62316759",
   "metadata": {},
   "outputs": [
    {
     "data": {
      "text/plain": [
       "False"
      ]
     },
     "execution_count": 12,
     "metadata": {},
     "output_type": "execute_result"
    }
   ],
   "source": [
    "s.is_Empty()"
   ]
  },
  {
   "cell_type": "code",
   "execution_count": 13,
   "id": "c6ee155b",
   "metadata": {},
   "outputs": [
    {
     "data": {
      "text/plain": [
       "7"
      ]
     },
     "execution_count": 13,
     "metadata": {},
     "output_type": "execute_result"
    }
   ],
   "source": [
    "s.pop()"
   ]
  },
  {
   "cell_type": "code",
   "execution_count": 14,
   "id": "b4d12b4d",
   "metadata": {},
   "outputs": [
    {
     "data": {
      "text/plain": [
       "1"
      ]
     },
     "execution_count": 14,
     "metadata": {},
     "output_type": "execute_result"
    }
   ],
   "source": [
    "s.pop()"
   ]
  },
  {
   "cell_type": "code",
   "execution_count": 15,
   "id": "5a7cbbe9",
   "metadata": {},
   "outputs": [
    {
     "data": {
      "text/plain": [
       "2"
      ]
     },
     "execution_count": 15,
     "metadata": {},
     "output_type": "execute_result"
    }
   ],
   "source": [
    "\n",
    "s.pop()\n",
    "s.pop()"
   ]
  },
  {
   "cell_type": "code",
   "execution_count": 16,
   "id": "da3818b1",
   "metadata": {},
   "outputs": [
    {
     "data": {
      "text/plain": [
       "4"
      ]
     },
     "execution_count": 16,
     "metadata": {},
     "output_type": "execute_result"
    }
   ],
   "source": [
    "s.pop()"
   ]
  },
  {
   "cell_type": "code",
   "execution_count": 17,
   "id": "b1520ad3",
   "metadata": {},
   "outputs": [
    {
     "data": {
      "text/plain": [
       "'Stack is empty'"
      ]
     },
     "execution_count": 17,
     "metadata": {},
     "output_type": "execute_result"
    }
   ],
   "source": [
    "s.pop()"
   ]
  },
  {
   "cell_type": "markdown",
   "id": "af5c1740",
   "metadata": {},
   "source": [
    "# Implementation of Queue"
   ]
  },
  {
   "cell_type": "code",
   "execution_count": 27,
   "id": "66fb4595",
   "metadata": {},
   "outputs": [],
   "source": [
    "class MyQueue:\n",
    "\n",
    "    def __init__(self):\n",
    "        self.container = deque()\n",
    "\n",
    "    def enqueue(self, x: int) -> None:\n",
    "        return self.container.append(x)\n",
    "\n",
    "    def dequeue(self) -> int:\n",
    "        if self.empty():\n",
    "            return \"Queue is Empty\"\n",
    "        else:\n",
    "            return self.container.popleft()\n",
    "\n",
    "    def peek(self) -> int:\n",
    "        return self.container[0]\n",
    "\n",
    "    def empty(self) -> bool:\n",
    "        return len(self.container) == 0\n",
    "    \n",
    "    def printq(self):\n",
    "        for ele in self.container:\n",
    "            print(ele,end=\" \")\n",
    "        "
   ]
  },
  {
   "cell_type": "code",
   "execution_count": 28,
   "id": "96aa3f67",
   "metadata": {},
   "outputs": [
    {
     "name": "stdout",
     "output_type": "stream",
     "text": [
      "2 3 4 5 6 "
     ]
    }
   ],
   "source": [
    "q = MyQueue()\n",
    "q.enqueue(2)\n",
    "q.enqueue(3)\n",
    "q.enqueue(4)\n",
    "q.enqueue(5)\n",
    "q.enqueue(6)\n",
    "q.printq()"
   ]
  },
  {
   "cell_type": "code",
   "execution_count": 29,
   "id": "7932d3a3",
   "metadata": {},
   "outputs": [
    {
     "data": {
      "text/plain": [
       "2"
      ]
     },
     "execution_count": 29,
     "metadata": {},
     "output_type": "execute_result"
    }
   ],
   "source": [
    "q.dequeue()"
   ]
  },
  {
   "cell_type": "code",
   "execution_count": 30,
   "id": "e3c9649a",
   "metadata": {},
   "outputs": [
    {
     "data": {
      "text/plain": [
       "3"
      ]
     },
     "execution_count": 30,
     "metadata": {},
     "output_type": "execute_result"
    }
   ],
   "source": [
    "q.dequeue()"
   ]
  },
  {
   "cell_type": "code",
   "execution_count": 31,
   "id": "7ed38597",
   "metadata": {},
   "outputs": [
    {
     "data": {
      "text/plain": [
       "4"
      ]
     },
     "execution_count": 31,
     "metadata": {},
     "output_type": "execute_result"
    }
   ],
   "source": [
    "q.dequeue()"
   ]
  },
  {
   "cell_type": "code",
   "execution_count": 32,
   "id": "6052bab6",
   "metadata": {},
   "outputs": [
    {
     "data": {
      "text/plain": [
       "5"
      ]
     },
     "execution_count": 32,
     "metadata": {},
     "output_type": "execute_result"
    }
   ],
   "source": [
    "q.dequeue()"
   ]
  },
  {
   "cell_type": "code",
   "execution_count": 33,
   "id": "47c48d46",
   "metadata": {},
   "outputs": [
    {
     "data": {
      "text/plain": [
       "6"
      ]
     },
     "execution_count": 33,
     "metadata": {},
     "output_type": "execute_result"
    }
   ],
   "source": [
    "q.dequeue()"
   ]
  },
  {
   "cell_type": "code",
   "execution_count": 34,
   "id": "0ec6e0ae",
   "metadata": {},
   "outputs": [
    {
     "data": {
      "text/plain": [
       "'Queue is Empty'"
      ]
     },
     "execution_count": 34,
     "metadata": {},
     "output_type": "execute_result"
    }
   ],
   "source": [
    "q.dequeue()"
   ]
  },
  {
   "cell_type": "code",
   "execution_count": 35,
   "id": "e0bdab4d",
   "metadata": {},
   "outputs": [
    {
     "data": {
      "text/plain": [
       "'Queue is Empty'"
      ]
     },
     "execution_count": 35,
     "metadata": {},
     "output_type": "execute_result"
    }
   ],
   "source": [
    "q.dequeue()"
   ]
  },
  {
   "cell_type": "markdown",
   "id": "5e436f31",
   "metadata": {},
   "source": [
    "# Produce Binary  Number"
   ]
  },
  {
   "cell_type": "code",
   "execution_count": 44,
   "id": "7cd6d328",
   "metadata": {},
   "outputs": [
    {
     "name": "stdout",
     "output_type": "stream",
     "text": [
      "1 10 11 100 101 110 111 1000 1001 1010 1010\n"
     ]
    }
   ],
   "source": [
    "class MyQueue:\n",
    "\n",
    "    def __init__(self):\n",
    "        self.container = deque()\n",
    "\n",
    "    def enqueue(self, x: int) -> None:\n",
    "        return self.container.append(x)\n",
    "\n",
    "    def dequeue(self) -> int:\n",
    "        if self.empty():\n",
    "            return \"Queue is Empty\"\n",
    "        else:\n",
    "            return self.container.popleft()\n",
    "\n",
    "    def front(self) -> int:\n",
    "        return self.container[0]\n",
    "\n",
    "    def empty(self) -> bool:\n",
    "        return len(self.container) == 0\n",
    "    \n",
    "    def printq(self):\n",
    "        for ele in self.container:\n",
    "            print(ele,end=\" \")\n",
    "            \n",
    "            \n",
    "def producebinarynum(n):\n",
    "    q = MyQueue()\n",
    "    q.enqueue(\"1\")\n",
    "    \n",
    "    for i in range(n):\n",
    "        front = q.front()\n",
    "        print(front,end = \" \")\n",
    "        q.enqueue(front+\"0\")\n",
    "        q.enqueue(front+\"1\")\n",
    "        \n",
    "        r = q.dequeue()\n",
    "    return r\n",
    "    \n",
    "##Driver Code\n",
    "n = 10\n",
    "res = producebinarynum(n)\n",
    "print(res)"
   ]
  },
  {
   "cell_type": "code",
   "execution_count": null,
   "id": "73dd1264",
   "metadata": {},
   "outputs": [],
   "source": []
  }
 ],
 "metadata": {
  "kernelspec": {
   "display_name": "Python 3 (ipykernel)",
   "language": "python",
   "name": "python3"
  },
  "language_info": {
   "codemirror_mode": {
    "name": "ipython",
    "version": 3
   },
   "file_extension": ".py",
   "mimetype": "text/x-python",
   "name": "python",
   "nbconvert_exporter": "python",
   "pygments_lexer": "ipython3",
   "version": "3.11.5"
  }
 },
 "nbformat": 4,
 "nbformat_minor": 5
}
