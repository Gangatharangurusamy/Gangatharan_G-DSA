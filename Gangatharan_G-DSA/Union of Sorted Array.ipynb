{
 "cells": [
  {
   "cell_type": "code",
   "execution_count": 3,
   "id": "a4f58c3a",
   "metadata": {},
   "outputs": [
    {
     "name": "stdout",
     "output_type": "stream",
     "text": [
      "[1, 2, 3, 4, 5, 6]\n"
     ]
    }
   ],
   "source": [
    "def removedubnum(a):\n",
    "    new_num = []\n",
    "    for num in a:\n",
    "        if num not in new_num:\n",
    "            new_num.append(num)\n",
    "    return new_num\n",
    "\n",
    "\n",
    "def sortedArray(a, b):\n",
    "    n, m = len(a)-1, len(b)-1\n",
    "    arr = list(set(a).union(b))\n",
    "    return arr\n",
    "    \"\"\"new_arr = removedubnum(arr)\n",
    "    i = 0\n",
    "    j = len(new_arr)-1\n",
    "    while m<=j:\n",
    "        if new_arr[i] < new_arr[m]:\n",
    "            i += 1\n",
    "        else:\n",
    "            new_arr[m] = new_arr[i]\n",
    "            m += 1\n",
    "    \n",
    "    return new_arr\"\"\"\n",
    "\n",
    "    \n",
    "a =[1, 4, 6]\n",
    "b = [2, 3, 5]\n",
    "result = sortedArray(a, b)\n",
    "print(result)"
   ]
  },
  {
   "cell_type": "markdown",
   "id": "f25e8957",
   "metadata": {},
   "source": [
    "2. Two pointer Approach"
   ]
  },
  {
   "cell_type": "code",
   "execution_count": 4,
   "id": "925543f2",
   "metadata": {},
   "outputs": [
    {
     "name": "stdout",
     "output_type": "stream",
     "text": [
      "[1, 2, 3, 4, 5, 6]\n"
     ]
    }
   ],
   "source": [
    "def sortedArray(a: [int], b: [int]) -> [int]:\n",
    "\n",
    "    # Write your code here\n",
    "\n",
    "    l=[]\n",
    "\n",
    "    i,j=0,0\n",
    "\n",
    "    while i<len(a) and j<len(b):\n",
    "\n",
    "        if a[i]<=b[j]:\n",
    "\n",
    "            if (len(l)==0 or l[-1]!=a[i]):\n",
    "\n",
    "                l.append(a[i])\n",
    "\n",
    "            i+=1\n",
    "\n",
    "        else:\n",
    "\n",
    "            if b[j]<=a[i] and (len(l)==0 or l[-1]!=b[j]):\n",
    "\n",
    "                l.append(b[j])\n",
    "\n",
    "            j+=1\n",
    "\n",
    "    while i<len(a):\n",
    "\n",
    "        if l[-1]!=a[i]:\n",
    "\n",
    "            l.append(a[i])\n",
    "\n",
    "        i+=1\n",
    "\n",
    "    while j<len(b):\n",
    "\n",
    "        if l[-1]!=b[j]:\n",
    "\n",
    "            l.append(b[j])\n",
    "\n",
    "        j+=1\n",
    "\n",
    "    return l\n",
    "\n",
    "\n",
    "##Driver code\n",
    "a =[1, 4, 6]\n",
    "b = [2, 3, 5]\n",
    "result = sortedArray(a, b)\n",
    "print(result)\n",
    " "
   ]
  },
  {
   "cell_type": "code",
   "execution_count": null,
   "id": "13a91f65",
   "metadata": {},
   "outputs": [],
   "source": []
  }
 ],
 "metadata": {
  "kernelspec": {
   "display_name": "Python 3 (ipykernel)",
   "language": "python",
   "name": "python3"
  },
  "language_info": {
   "codemirror_mode": {
    "name": "ipython",
    "version": 3
   },
   "file_extension": ".py",
   "mimetype": "text/x-python",
   "name": "python",
   "nbconvert_exporter": "python",
   "pygments_lexer": "ipython3",
   "version": "3.11.5"
  }
 },
 "nbformat": 4,
 "nbformat_minor": 5
}
