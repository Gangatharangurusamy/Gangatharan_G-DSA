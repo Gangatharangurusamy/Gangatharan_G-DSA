{
 "cells": [
  {
   "cell_type": "code",
   "execution_count": 9,
   "id": "78c19ca3",
   "metadata": {},
   "outputs": [
    {
     "name": "stdout",
     "output_type": "stream",
     "text": [
      "The Power of an element is: 65536\n"
     ]
    }
   ],
   "source": [
    "def findPowerOfElement(a,n):\n",
    "    ##small problem \n",
    "    if n == 1:\n",
    "        return a\n",
    "    elif n == 0:\n",
    "        return 1\n",
    "    elif n == -1:\n",
    "        return (1/a)\n",
    "    ## big problem\n",
    "    else:\n",
    "        #1.Divide\n",
    "        mid = n//2\n",
    "        ## 2.Conquer \n",
    "        b = findPowerOfElement(a, mid)\n",
    "        #3. Combine\n",
    "    result = b * b\n",
    "    if n % 2 == 0:\n",
    "        return result\n",
    "    else:\n",
    "        return result * a\n",
    "        \n",
    "        \n",
    "        \n",
    "## Driver code\n",
    "a = 2\n",
    "n = 16\n",
    "##function calling\n",
    "result = findPowerOfElement(a,n)\n",
    "print(\"The Power of an element is:\", result)"
   ]
  },
  {
   "cell_type": "code",
   "execution_count": null,
   "id": "17197f91",
   "metadata": {},
   "outputs": [],
   "source": []
  }
 ],
 "metadata": {
  "kernelspec": {
   "display_name": "Python 3 (ipykernel)",
   "language": "python",
   "name": "python3"
  },
  "language_info": {
   "codemirror_mode": {
    "name": "ipython",
    "version": 3
   },
   "file_extension": ".py",
   "mimetype": "text/x-python",
   "name": "python",
   "nbconvert_exporter": "python",
   "pygments_lexer": "ipython3",
   "version": "3.11.5"
  }
 },
 "nbformat": 4,
 "nbformat_minor": 5
}
