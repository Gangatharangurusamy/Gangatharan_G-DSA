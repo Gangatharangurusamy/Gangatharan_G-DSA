{
 "cells": [
  {
   "cell_type": "markdown",
   "id": "9e1c11d8",
   "metadata": {},
   "source": [
    "Time Complexity:\n",
    "1. Best or average case scenario : O(n logn)\n",
    "2. Worst case scenario : O(n^2)\n",
    "\n",
    "Space Complexity:(In place)\n",
    "1. S C = O(1)"
   ]
  },
  {
   "cell_type": "code",
   "execution_count": 13,
   "id": "24845731",
   "metadata": {},
   "outputs": [
    {
     "name": "stdout",
     "output_type": "stream",
     "text": [
      "Elapsed Time: 4.42001037299633e-05 seconds\n",
      "[20, 30, 46, 50, 60, 67, 70, 80]\n"
     ]
    }
   ],
   "source": [
    "from timeit import default_timer as timer\n",
    "\n",
    "## Method Difinition for partition \n",
    "def partition(arr, p, q):\n",
    "    pivot = arr[p]\n",
    "    i = p\n",
    "    for j in range(i+1, q+1):\n",
    "        if arr[j] <= pivot:\n",
    "            i += 1\n",
    "            ##swap b/w the values of arr[i] and arr[j]\n",
    "            arr[i], arr[j] = arr[j], arr[i]\n",
    "    ## final swap b/w the value of arr[i] and arr[p]\n",
    "    arr[i], arr[p] = arr[p], arr[i]\n",
    "    return i\n",
    "\n",
    "\n",
    "##Method difinition for Quicksort\n",
    "def quicksort(arr, p, q):\n",
    "    if p < q:\n",
    "        ## Divide and Conquer Approach\n",
    "        #1. Divide\n",
    "        #function Calling for partition method\n",
    "        mid = partition(arr, p, q)\n",
    "        ## recursion function call for the left subtree\n",
    "        quicksort(arr, p, mid-1)\n",
    "        ##recursion function call for right subtree\n",
    "        quicksort(arr, mid+1, q)\n",
    "    return arr\n",
    "\n",
    "\n",
    "\n",
    "##Driver Code\n",
    "arr = [20,30,50,60,67,70,80,46]\n",
    "p = 0\n",
    "q = len(arr)-1\n",
    "## function Calling\n",
    "\n",
    "# Record the start time\n",
    "start_time = timer()\n",
    "\n",
    "\n",
    "# Record the end time\n",
    "end_time = timer()\n",
    "# Calculate the elapsed time\n",
    "elapsed_time = end_time - start_time\n",
    "\n",
    "# Print the elapsed time\n",
    "print(f\"Elapsed Time: {elapsed_time} seconds\")\n",
    "\n",
    "\n",
    "result = quicksort(arr, p, q)\n",
    "print(result)"
   ]
  },
  {
   "cell_type": "markdown",
   "id": "9e119c1f",
   "metadata": {},
   "source": [
    "Implemetation of Randomizsed Quick Sort"
   ]
  },
  {
   "cell_type": "code",
   "execution_count": 14,
   "id": "b26e32d7",
   "metadata": {},
   "outputs": [
    {
     "name": "stdout",
     "output_type": "stream",
     "text": [
      "Elapsed Time: 1.8600141629576683e-05 seconds\n",
      "[20, 30, 46, 50, 60, 67, 70, 80]\n"
     ]
    }
   ],
   "source": [
    "import random\n",
    "from timeit import default_timer as timer\n",
    "\n",
    "\n",
    "## Method function call for Randomized pivot\n",
    "def randomizedpartition(arr, p, q):\n",
    "    randompivotindex = random.randrange(p,q)\n",
    "    arr[p], arr[randompivotindex] = arr[randompivotindex], arr[p]\n",
    "    return  partition(arr, p, q)\n",
    "\n",
    "\n",
    "## Method Difinition for partition \n",
    "def partition(arr, p, q):\n",
    "    pivot = arr[p]\n",
    "    i = p\n",
    "    for j in range(i+1, q+1):\n",
    "        if arr[j] <= pivot:\n",
    "            i += 1\n",
    "            ##swap b/w the values of arr[i] and arr[j]\n",
    "            arr[i], arr[j] = arr[j], arr[i]\n",
    "    ## final swap b/w the value of arr[i] and arr[p]\n",
    "    arr[i], arr[p] = arr[p], arr[i]\n",
    "    return i\n",
    "\n",
    "\n",
    "##Method difinition for Quicksort\n",
    "def quicksort(arr, p, q):\n",
    "    if p < q:\n",
    "        ## Divide and Conquer Approach\n",
    "        #1. Divide\n",
    "        #function Calling for partition method\n",
    "        mid = randomizedpartition(arr, p, q)\n",
    "        ## recursion function call for the left subtree\n",
    "        quicksort(arr, p, mid-1)\n",
    "        ##recursion function call for right subtree\n",
    "        quicksort(arr, mid+1, q)\n",
    "    return arr\n",
    "\n",
    "\n",
    "\n",
    "\n",
    "##Driver Code\n",
    "arr = [20,30,50,60,67,70,80,46]\n",
    "p = 0\n",
    "q = len(arr)-1\n",
    "## function Calling\n",
    "# Record the start time\n",
    "start_time = timer()\n",
    "\n",
    "\n",
    "# Record the end time\n",
    "end_time = timer()\n",
    "# Calculate the elapsed time\n",
    "elapsed_time = end_time - start_time\n",
    "\n",
    "# Print the elapsed time\n",
    "print(f\"Elapsed Time: {elapsed_time} seconds\")\n",
    "\n",
    "result = quicksort(arr, p, q)\n",
    "print(result)"
   ]
  },
  {
   "cell_type": "code",
   "execution_count": null,
   "id": "5b7c82b0",
   "metadata": {},
   "outputs": [],
   "source": []
  }
 ],
 "metadata": {
  "kernelspec": {
   "display_name": "Python 3 (ipykernel)",
   "language": "python",
   "name": "python3"
  },
  "language_info": {
   "codemirror_mode": {
    "name": "ipython",
    "version": 3
   },
   "file_extension": ".py",
   "mimetype": "text/x-python",
   "name": "python",
   "nbconvert_exporter": "python",
   "pygments_lexer": "ipython3",
   "version": "3.11.5"
  }
 },
 "nbformat": 4,
 "nbformat_minor": 5
}
