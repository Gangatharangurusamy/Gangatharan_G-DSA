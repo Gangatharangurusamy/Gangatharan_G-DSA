{
 "cells": [
  {
   "cell_type": "code",
   "execution_count": 2,
   "id": "6a7cd61f",
   "metadata": {},
   "outputs": [
    {
     "name": "stdout",
     "output_type": "stream",
     "text": [
      "Before Cyclic Sort:\n",
      "[3, 2, 1, 5, 4]\n",
      "After Cyclic Sort:\n",
      "[1, 2, 3, 4, 5]\n"
     ]
    }
   ],
   "source": [
    "def cyclicSort(nums):\n",
    "    i = 0\n",
    "    while i < len(nums):\n",
    "        # Check if the current element is within the range of indices\n",
    "        # and if it's not already at its correct position\n",
    "        if 1 <= nums[i] <= len(nums) and nums[i] != nums[nums[i] - 1]:\n",
    "            # Swap the current element with the element at the index corresponding to its value minus one\n",
    "            nums[nums[i] - 1], nums[i] = nums[i], nums[nums[i] - 1]\n",
    "        else:\n",
    "            i += 1\n",
    "    return nums\n",
    "    \n",
    "    \n",
    "    \n",
    "    \n",
    "    \n",
    "##Driver Code\n",
    "nums = [3,2,1,5,4]\n",
    "print(\"Before Cyclic Sort:\")\n",
    "print(nums)\n",
    "res = cyclicSort(nums)\n",
    "print(\"After Cyclic Sort:\")\n",
    "print(res)"
   ]
  },
  {
   "cell_type": "code",
   "execution_count": null,
   "id": "5dd31def",
   "metadata": {},
   "outputs": [],
   "source": []
  }
 ],
 "metadata": {
  "kernelspec": {
   "display_name": "Python 3 (ipykernel)",
   "language": "python",
   "name": "python3"
  },
  "language_info": {
   "codemirror_mode": {
    "name": "ipython",
    "version": 3
   },
   "file_extension": ".py",
   "mimetype": "text/x-python",
   "name": "python",
   "nbconvert_exporter": "python",
   "pygments_lexer": "ipython3",
   "version": "3.11.5"
  }
 },
 "nbformat": 4,
 "nbformat_minor": 5
}
