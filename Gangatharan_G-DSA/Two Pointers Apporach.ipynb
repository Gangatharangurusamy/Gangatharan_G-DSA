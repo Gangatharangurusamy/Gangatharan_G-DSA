{
 "cells": [
  {
   "cell_type": "code",
   "execution_count": null,
   "id": "4f63859e",
   "metadata": {},
   "outputs": [],
   "source": [
    "def noofPairSumK(arr, k):\n",
    "    s = 0\n",
    "    e = len(arr) - 1\n",
    "    while s < e:\n",
    "        if arr[s] + arr[e] > k:\n",
    "            e -= 1\n",
    "        elif arr[s] + arr[e] < k:\n",
    "            s += 1\n",
    "        else:\n",
    "            if arr[s] != arr[e]:\n",
    "                cont\n",
    "                while \n",
    "\n",
    "\n",
    "\n",
    "\n",
    "\n",
    "\n",
    "\n",
    "#Driver Code\n",
    "arr = [1,4,4,5,5,5,6,6,11]\n",
    "k = 11\n",
    "res = noofPairSumK(arr, k)"
   ]
  }
 ],
 "metadata": {
  "kernelspec": {
   "display_name": "Python 3 (ipykernel)",
   "language": "python",
   "name": "python3"
  },
  "language_info": {
   "codemirror_mode": {
    "name": "ipython",
    "version": 3
   },
   "file_extension": ".py",
   "mimetype": "text/x-python",
   "name": "python",
   "nbconvert_exporter": "python",
   "pygments_lexer": "ipython3",
   "version": "3.11.5"
  }
 },
 "nbformat": 4,
 "nbformat_minor": 5
}
