{
 "cells": [
  {
   "cell_type": "markdown",
   "id": "fef021fe",
   "metadata": {},
   "source": [
    "# 99. Recover Binary Search Tree"
   ]
  },
  {
   "cell_type": "code",
   "execution_count": 3,
   "id": "40a1ad40",
   "metadata": {},
   "outputs": [],
   "source": [
    "# Definition for a binary tree node.\n",
    "class TreeNode:\n",
    "    def __init__(self, val=0, left=None, right=None):\n",
    "        self.val = val\n",
    "        self.left = left\n",
    "        self.right = right\n",
    "class Solution:\n",
    "    def inOrder(self, root, list1):\n",
    "        if root is None:\n",
    "            return list1\n",
    "        list1 = self.inOrder( root.left, list1)\n",
    "        list1.append(root)\n",
    "        list1 = self.inOrder( root.right, list1)\n",
    "        return list1\n",
    "    def recoverTree(self, root):\n",
    "        \"\"\"\n",
    "        Do not return anything, modify root in-place instead.\n",
    "        \"\"\"\n",
    "        \"\"\" This is inorder traversal then compare the adjacent node and swap\"\"\"\n",
    "        list1 = self.inOrder( root, [])\n",
    "        n = len(list1)\n",
    "        i, j = 1, n-2\n",
    "        a = list1[0]\n",
    "        for i in range(1,n):\n",
    "            if list1[i].val < list1[i-1].val:\n",
    "                a = list1[i-1]\n",
    "                break\n",
    "        b = list1[-1]\n",
    "        for i in range(n-2,-1,-1):\n",
    "            if list1[i].val > list1[i+1].val:\n",
    "                b = list1[i+1]\n",
    "                break\n",
    "        a.val, b.val = b.val, a.val\n",
    "        \n",
    "        \n",
    "## Driver code\n",
    "\n",
    "        "
   ]
  },
  {
   "cell_type": "markdown",
   "id": "9432bdcb",
   "metadata": {},
   "source": [
    "# 235. Lowest Common Ancestor of a Binary Search Tree"
   ]
  },
  {
   "cell_type": "code",
   "execution_count": 4,
   "id": "ecb5b061",
   "metadata": {},
   "outputs": [],
   "source": [
    "# Definition for a binary tree node.\n",
    "class TreeNode:\n",
    "    def __init__(self, x):\n",
    "        self.val = x\n",
    "        self.left = None\n",
    "        self.right = None\n",
    "\n",
    "class Solution:\n",
    "    def lowestCommonAncestor(self, root: 'TreeNode', p: 'TreeNode', q: 'TreeNode') -> 'TreeNode':\n",
    "        curr = root\n",
    "    \n",
    "        while curr:\n",
    "            if curr.val > p.val and curr.val > q.val:\n",
    "                curr = curr.left\n",
    "            elif curr.val < p.val and curr.val < q.val:\n",
    "                curr = curr.right\n",
    "            else:\n",
    "                return curr\n",
    "         \"\"\"parent_val = root.val\n",
    "        p_val = p.val\n",
    "        q_val = q.val\n",
    "        \n",
    "        if parent_val < p_val and parent_val < q_val:\n",
    "            return self.lowestCommonAncestor(root.right, p, q)\n",
    "        if parent_val > p_val and parent_val > q_val:\n",
    "            return self.lowestCommonAncestor(root.left, p, q)\n",
    "        else:\n",
    "            return root\n",
    "\"\"\"\n",
    "##Driver Code\n"
   ]
  },
  {
   "cell_type": "code",
   "execution_count": null,
   "id": "b0e95c1c",
   "metadata": {},
   "outputs": [],
   "source": []
  }
 ],
 "metadata": {
  "kernelspec": {
   "display_name": "Python 3 (ipykernel)",
   "language": "python",
   "name": "python3"
  },
  "language_info": {
   "codemirror_mode": {
    "name": "ipython",
    "version": 3
   },
   "file_extension": ".py",
   "mimetype": "text/x-python",
   "name": "python",
   "nbconvert_exporter": "python",
   "pygments_lexer": "ipython3",
   "version": "3.11.5"
  }
 },
 "nbformat": 4,
 "nbformat_minor": 5
}
