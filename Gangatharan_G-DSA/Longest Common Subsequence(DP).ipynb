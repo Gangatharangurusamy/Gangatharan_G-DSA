{
 "cells": [
  {
   "cell_type": "markdown",
   "id": "d3282d06",
   "metadata": {},
   "source": [
    "# With Recursion"
   ]
  },
  {
   "cell_type": "code",
   "execution_count": 10,
   "id": "6297111e",
   "metadata": {},
   "outputs": [
    {
     "name": "stdout",
     "output_type": "stream",
     "text": [
      "Longest Common Subsequence is: 3\n"
     ]
    }
   ],
   "source": [
    "class Solution:\n",
    "    def longestCommonSubsequence(self, text1, text2):\n",
    "        def lcs(i, j):\n",
    "            if i == len(text1) or j == len(text2):\n",
    "                return 0\n",
    "            if text1[i] == text2[j]:\n",
    "                return 1 + lcs(i+1, j+1)\n",
    "            else:\n",
    "                return max(lcs(i,j+1), lcs(i+1,j))\n",
    "        return lcs(0,0)\n",
    "\n",
    "\n",
    "\n",
    "# Driver Code\n",
    "s = Solution()\n",
    "text1 = \"abcde\"\n",
    "text2 = \"ace\"\n",
    "r = s.longestCommonSubsequence(text1,text2)\n",
    "print(\"Longest Common Subsequence is:\", r)"
   ]
  },
  {
   "cell_type": "markdown",
   "id": "3aea4ba8",
   "metadata": {},
   "source": [
    "# Memoization-DP"
   ]
  },
  {
   "cell_type": "code",
   "execution_count": 11,
   "id": "dcf82876",
   "metadata": {},
   "outputs": [
    {
     "name": "stdout",
     "output_type": "stream",
     "text": [
      "Longest Common Subsequence is: 13\n"
     ]
    }
   ],
   "source": [
    "class Solution:\n",
    "    def longestCommonSubsequence(self, text1, text2):\n",
    "        memo = {}\n",
    "        def lcs(i, j):\n",
    "            if i == len(text1) or j == len(text2):\n",
    "                return 0\n",
    "            if (i,j) in memo:\n",
    "                return memo[(i,j)]\n",
    "            \n",
    "            \n",
    "            if text1[i] == text2[j]:\n",
    "                memo[(i,j)] = 1 + lcs(i+1, j+1)\n",
    "            else:\n",
    "                memo[(i,j)] = max(lcs(i,j+1), lcs(i+1,j))\n",
    "            return memo[(i,j)]\n",
    "        return lcs(0,0)\n",
    "\n",
    "    \n",
    "# Driver Code\n",
    "s = Solution()\n",
    "text1 = \"abcderirng-3u4engkewwcpiqewnbr-ie\"\n",
    "text2 = \"aciurenb0wuenf'qjowebfpnq'wejf\"\n",
    "r = s.longestCommonSubsequence(text1,text2)\n",
    "print(\"Longest Common Subsequence is:\", r)"
   ]
  },
  {
   "cell_type": "markdown",
   "id": "4e6bc4e1",
   "metadata": {},
   "source": [
    "# Tabulation-DP"
   ]
  },
  {
   "cell_type": "code",
   "execution_count": 13,
   "id": "9604661c",
   "metadata": {},
   "outputs": [
    {
     "name": "stdout",
     "output_type": "stream",
     "text": [
      "Longest Common Subsequence is: 13\n"
     ]
    }
   ],
   "source": [
    "## Time Complexity = O(M*N)\n",
    "## Space Complexity = O(M*N)\n",
    "# Function calling\n",
    "def longestCommonSubsequence(text1, text2):\n",
    "    m = len(text1)\n",
    "    n = len(text2)\n",
    "    LCS_table = [[None]*(n+1) for i in range(m+1)]\n",
    "    for i in range(m+1):\n",
    "        for j in range(n+1):\n",
    "            # BAse conditions\n",
    "            if i == 0 or j == 0:\n",
    "                LCS_table[i][j] = 0\n",
    "            elif text1[i-1] == text2[j-1]:\n",
    "                # if match the two text1 and text2\n",
    "                LCS_table[i][j] = 1 + LCS_table[i-1][j-1]\n",
    "            else:\n",
    "                # If not match char in text1 and text2\n",
    "                LCS_table[i][j] = max(LCS_table[i-1][j], LCS_table[i][j-1])\n",
    "    return LCS_table[m][n]\n",
    "            \n",
    "            \n",
    "\n",
    "# Driver Code\n",
    "\n",
    "text1 = \"abcderirng3u4engkewwcpiqewnbrie\"\n",
    "text2 = \"aciurenb0wuenfqjowebfpnqwejf\"\n",
    "r = longestCommonSubsequence(text1,text2)\n",
    "print(\"Longest Common Subsequence is:\", r)"
   ]
  },
  {
   "cell_type": "code",
   "execution_count": null,
   "id": "f719f9e0",
   "metadata": {},
   "outputs": [],
   "source": []
  }
 ],
 "metadata": {
  "kernelspec": {
   "display_name": "Python 3 (ipykernel)",
   "language": "python",
   "name": "python3"
  },
  "language_info": {
   "codemirror_mode": {
    "name": "ipython",
    "version": 3
   },
   "file_extension": ".py",
   "mimetype": "text/x-python",
   "name": "python",
   "nbconvert_exporter": "python",
   "pygments_lexer": "ipython3",
   "version": "3.11.5"
  }
 },
 "nbformat": 4,
 "nbformat_minor": 5
}
