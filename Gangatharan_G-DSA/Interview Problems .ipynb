{
 "cells": [
  {
   "cell_type": "code",
   "execution_count": null,
   "id": "072cfd5e",
   "metadata": {},
   "outputs": [],
   "source": []
  },
  {
   "cell_type": "markdown",
   "id": "3d889444",
   "metadata": {},
   "source": [
    "# Question No. 2 Featured Product"
   ]
  },
  {
   "cell_type": "code",
   "execution_count": 21,
   "id": "c26efa02",
   "metadata": {},
   "outputs": [
    {
     "name": "stdout",
     "output_type": "stream",
     "text": [
      "{'Black Shirt': 2, 'Blue Pants': 2, 'Green Pants': 3, 'RedHat': 2, 'Yellow Shirt': 3}\n",
      "Yellow Shirt\n"
     ]
    }
   ],
   "source": [
    "from collections import Counter\n",
    "def featuredproduct(arr):\n",
    "    arr.sort()\n",
    "    product_count = dict(Counter(arr))\n",
    "    print(product_count)\n",
    "    max = 0\n",
    "    req_product = []\n",
    "    for key, value in product_count.items():\n",
    "        if max < value:\n",
    "            max = value\n",
    "    for key, value in product_count.items():\n",
    "        if max == value:\n",
    "            req_product.append(key)\n",
    "            \n",
    "\n",
    "    print(req_product[-1])\n",
    "\n",
    "##Driver Code\n",
    "arr = [\"Yellow Shirt\", \"RedHat\", \"Black Shirt\",\"Yellow Shirt\", \"Blue Pants\", \"Blue Pants\", \"RedHat\",\"Black Shirt\", \"Yellow Shirt\", \"Green Pants\", \"Green Pants\", \"Green Pants\"]\n",
    "result = featuredproduct(arr)"
   ]
  },
  {
   "cell_type": "markdown",
   "id": "ddd07775",
   "metadata": {},
   "source": [
    "# Question 3. Closest to the Target by Adding three No."
   ]
  },
  {
   "cell_type": "code",
   "execution_count": 15,
   "id": "6e541703",
   "metadata": {},
   "outputs": [
    {
     "name": "stdout",
     "output_type": "stream",
     "text": [
      "3\n"
     ]
    }
   ],
   "source": [
    "def closestsum(arr,target):\n",
    "    closest_sum = abs(target*1000000)\n",
    "    arr.sort()\n",
    "    for i in range(len(arr)-1):\n",
    "        left = i + 1\n",
    "        right = len(arr)-1\n",
    "        while left < right:\n",
    "            sum_val = arr[i] + arr[left] + arr[right]\n",
    "            if (abs(target-sum_val) < abs(target-closest_sum)):\n",
    "                closest_sum = sum_val\n",
    "            elif sum_val > target:\n",
    "                right -= 1\n",
    "            else:\n",
    "                left += 1\n",
    "    return sum_val\n",
    "\n",
    "##Driver Code\n",
    "arr = [-1,1,3,-4]\n",
    "target = 1\n",
    "result = closestsum(arr,target)\n",
    "print(result)"
   ]
  },
  {
   "cell_type": "markdown",
   "id": "73062352",
   "metadata": {},
   "source": [
    "## Question 4. KClosest"
   ]
  },
  {
   "cell_type": "code",
   "execution_count": 27,
   "id": "828ac9ae",
   "metadata": {},
   "outputs": [
    {
     "name": "stdout",
     "output_type": "stream",
     "text": [
      "[(1, -1), (2, 2)]\n"
     ]
    }
   ],
   "source": [
    "import math\n",
    "from heapq import heappop, heappush\n",
    "def get_distance(x,y):\n",
    "    return math.sqrt(x**2 + y**2)\n",
    "def kclosest(points,k):\n",
    "    min_heap = []\n",
    "    n = len(points)\n",
    "    for i in range(n):\n",
    "        x = points[i][0]\n",
    "        y = points[i][1]\n",
    "        heappush(min_heap, (get_distance, points[i]))\n",
    "    result = []\n",
    "    for i in range(k):\n",
    "        result.append(heappop(min_heap)[1])\n",
    "    return result\n",
    "    \n",
    "    \n",
    "##Driver Code\n",
    "points = [(1,-1), (2,3), (2,2), (5,3)]\n",
    "k = 2\n",
    "result = kclosest(points,k)\n",
    "print(result)"
   ]
  },
  {
   "cell_type": "markdown",
   "id": "90b0688a",
   "metadata": {},
   "source": [
    "# Question 5. K frequent Words"
   ]
  },
  {
   "cell_type": "code",
   "execution_count": null,
   "id": "7c082f5b",
   "metadata": {},
   "outputs": [],
   "source": []
  }
 ],
 "metadata": {
  "kernelspec": {
   "display_name": "Python 3 (ipykernel)",
   "language": "python",
   "name": "python3"
  },
  "language_info": {
   "codemirror_mode": {
    "name": "ipython",
    "version": 3
   },
   "file_extension": ".py",
   "mimetype": "text/x-python",
   "name": "python",
   "nbconvert_exporter": "python",
   "pygments_lexer": "ipython3",
   "version": "3.11.5"
  }
 },
 "nbformat": 4,
 "nbformat_minor": 5
}
