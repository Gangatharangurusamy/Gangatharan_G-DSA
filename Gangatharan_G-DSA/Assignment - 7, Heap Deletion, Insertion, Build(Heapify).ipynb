{
 "cells": [
  {
   "cell_type": "markdown",
   "id": "2ecf6dfc",
   "metadata": {},
   "source": [
    "# Question 1 "
   ]
  },
  {
   "cell_type": "code",
   "execution_count": 4,
   "id": "1e8cf651",
   "metadata": {},
   "outputs": [
    {
     "data": {
      "text/plain": [
       "[27, 22, 10, 18, 12, 7, 8, 16, 9, 3, 1]"
      ]
     },
     "execution_count": 4,
     "metadata": {},
     "output_type": "execute_result"
    }
   ],
   "source": [
    "def heapify(arr, n, i):\n",
    "    largest = i\n",
    "    l = 2*i+1\n",
    "    r = 2*i+2\n",
    "    if l < n and arr[l] > arr[largest]:\n",
    "        largest = l\n",
    "    if r < n and arr[r] > arr[largest]:\n",
    "        largest = r\n",
    "    if largest != i:\n",
    "        arr[i], arr[largest] = arr[largest], arr[i]\n",
    "        heapify(arr, n , largest)\n",
    "    \n",
    "def buildheap(arr, n):\n",
    "    start_indx = (n//2)-1\n",
    "    for i in range(start_indx, -1, -1):\n",
    "        heapify(arr, n ,i)\n",
    "        \n",
    "##Driver code\n",
    "arr=[1,3, 7, 9, 12, 10, 8, 16, 18, 22, 27]\n",
    "n = len(arr)\n",
    "result = buildheap(arr, n)\n",
    "arr"
   ]
  },
  {
   "cell_type": "markdown",
   "id": "9a26d3fb",
   "metadata": {},
   "source": [
    "# Question 3"
   ]
  },
  {
   "cell_type": "markdown",
   "id": "b3907001",
   "metadata": {},
   "source": [
    "Find k closest points to the origin\n",
    "arr = [[2,2],[3,-1],[1,5],[-2,-1]]"
   ]
  },
  {
   "cell_type": "code",
   "execution_count": 3,
   "id": "d91c6b7d",
   "metadata": {},
   "outputs": [
    {
     "name": "stdout",
     "output_type": "stream",
     "text": [
      "[(2.23606797749979, [-2, -1]), (2.8284271247461903, [2, 2]), (5.0990195135927845, [1, 5]), (3.1622776601683795, [3, -1])]\n",
      "k closest points to the origin are: [[-2, -1], [2, 2]]\n"
     ]
    }
   ],
   "source": [
    "from heapq import heappush, heappop\n",
    "import math\n",
    "# function definition\n",
    "def get_dist(x,y):\n",
    "    return math.sqrt(x**2 + y**2)\n",
    "def kclosest(points, k):\n",
    "    min_heap = []\n",
    "    n = len(points)\n",
    "    for i in range(n):\n",
    "        x = points[i][0]\n",
    "        y = points[i][1]\n",
    "        heappush(min_heap, (get_dist(x,y), points[i]))\n",
    "    print(min_heap)\n",
    "        \n",
    "    result = []\n",
    "    for i in range(k):\n",
    "        result.append(heappop(min_heap)[1])\n",
    "    return result\n",
    "\n",
    "## driver code\n",
    "points = [[2,2],[3,-1],[1,5],[-2,-1]]\n",
    "k = 2\n",
    "result = kclosest(points, k)\n",
    "print(\"k closest points to the origin are:\",result)"
   ]
  },
  {
   "cell_type": "code",
   "execution_count": null,
   "id": "7df531c4",
   "metadata": {},
   "outputs": [],
   "source": []
  }
 ],
 "metadata": {
  "kernelspec": {
   "display_name": "Python 3 (ipykernel)",
   "language": "python",
   "name": "python3"
  },
  "language_info": {
   "codemirror_mode": {
    "name": "ipython",
    "version": 3
   },
   "file_extension": ".py",
   "mimetype": "text/x-python",
   "name": "python",
   "nbconvert_exporter": "python",
   "pygments_lexer": "ipython3",
   "version": "3.11.5"
  }
 },
 "nbformat": 4,
 "nbformat_minor": 5
}
