{
 "cells": [
  {
   "cell_type": "code",
   "execution_count": 5,
   "id": "c1d81c61",
   "metadata": {},
   "outputs": [
    {
     "name": "stdout",
     "output_type": "stream",
     "text": [
      "5 3 2 4 8 7 "
     ]
    }
   ],
   "source": [
    "## Method Definition for depth first traversal\n",
    "def depth_first_traversal(visited, graph, node):\n",
    "    if node not in visited:\n",
    "        print(node, end=\" \")\n",
    "        visited.add(node)\n",
    "        for adjacent_node in graph[node]:\n",
    "            ##Recursive call\n",
    "            depth_first_traversal(visited, graph, adjacent_node)\n",
    "    \n",
    "\n",
    "##visited set to keep track of all the visited nodes\n",
    "visited = set()\n",
    "\n",
    "##driver Code\n",
    "#Adjacency List\n",
    "graph = {\n",
    "    5 : [3, 7],\n",
    "    3 : [2, 4],\n",
    "    7 : [8],\n",
    "    2 : [],\n",
    "    4 : [8],\n",
    "    8 : []\n",
    " }\n",
    "## we can use this as well\n",
    "\"\"\"graph = {\n",
    "    '5' : ['3', '7'],\n",
    "    '3' : ['2', '4'],\n",
    "    '7' : ['8'],\n",
    "    '2' : [],\n",
    "    '4' : ['8'],\n",
    "    '8' : []\n",
    " }\n",
    "\"\"\"\n",
    "\n",
    "depth_first_traversal(visited, graph, 5)"
   ]
  },
  {
   "cell_type": "code",
   "execution_count": null,
   "id": "fd355528",
   "metadata": {},
   "outputs": [],
   "source": []
  }
 ],
 "metadata": {
  "kernelspec": {
   "display_name": "Python 3 (ipykernel)",
   "language": "python",
   "name": "python3"
  },
  "language_info": {
   "codemirror_mode": {
    "name": "ipython",
    "version": 3
   },
   "file_extension": ".py",
   "mimetype": "text/x-python",
   "name": "python",
   "nbconvert_exporter": "python",
   "pygments_lexer": "ipython3",
   "version": "3.11.5"
  }
 },
 "nbformat": 4,
 "nbformat_minor": 5
}
