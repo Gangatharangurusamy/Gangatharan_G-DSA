{
 "cells": [
  {
   "cell_type": "markdown",
   "id": "813d529b",
   "metadata": {},
   "source": [
    "# Kthsmallest element"
   ]
  },
  {
   "cell_type": "code",
   "execution_count": 2,
   "id": "54ddbf0d",
   "metadata": {},
   "outputs": [
    {
     "name": "stdout",
     "output_type": "stream",
     "text": [
      "None\n"
     ]
    }
   ],
   "source": [
    "##Time Complexity = O(n)\n",
    "\n",
    "\n",
    "def kthsmallest(arr,k,p,q):\n",
    "    if p < q:#big problem\n",
    "        mid = partition(arr,p,q) # Divide\n",
    "        \n",
    "        if mid == k:\n",
    "            return arr[mid-1]\n",
    "        elif mid > k:\n",
    "            return kthsmallest(arr,k,p,mid-1)\n",
    "        else:\n",
    "            return kthsmallest(arr,k,mid+1,q)\n",
    "\n",
    "def partition(arr,p,q):\n",
    "    pivot = arr[p]\n",
    "    i = p\n",
    "    for j in range(i+1, q+1):\n",
    "        if arr[j] <= pivot:\n",
    "            i += 1\n",
    "            arr[i], arr[j] = arr[j], arr[i]\n",
    "    arr[p], arr[i] = arr[i], arr[p]\n",
    "    return i\n",
    "\n",
    "\n",
    "\n",
    "##Driver Code\n",
    "arr = [20,35,70,34,56,12,8]\n",
    "k = 7\n",
    "p = 0\n",
    "q = len(arr)-1\n",
    "result = kthsmallest(arr,k,p,q)\n",
    "print(result)"
   ]
  },
  {
   "cell_type": "code",
   "execution_count": 4,
   "id": "61eed326",
   "metadata": {},
   "outputs": [
    {
     "name": "stdout",
     "output_type": "stream",
     "text": [
      "56\n"
     ]
    }
   ],
   "source": [
    "def kthsmallest(arr,k,p,q):\n",
    "    if p == q:\n",
    "        mid = partition(arr,p,q) # Divide\n",
    "        \n",
    "        if mid == k:\n",
    "            return arr[mid-1]\n",
    "            \n",
    "        elif mid < k:\n",
    "            return arr[mid]\n",
    "    \n",
    "    elif p < q:#big problem\n",
    "        mid = partition(arr,p,q) # Divide\n",
    "        \n",
    "        if mid == k:\n",
    "            return arr[mid-1]\n",
    "        elif mid > k:\n",
    "            return kthsmallest(arr,k,p,mid-1)\n",
    "        else:\n",
    "            return kthsmallest(arr,k,mid+1,q)\n",
    "\n",
    "def partition(arr,p,q):\n",
    "    pivot = arr[p]\n",
    "    i = p\n",
    "    for j in range(i+1, q+1):\n",
    "        if arr[j] <= pivot:\n",
    "            i += 1\n",
    "            arr[i], arr[j] = arr[j], arr[i]\n",
    "    arr[p], arr[i] = arr[i], arr[p]\n",
    "    return i\n",
    "\n",
    "\n",
    "\n",
    "##Driver Code\n",
    "arr = [20,35,70,34,56,12, 5,4,8]\n",
    "k = 8\n",
    "p = 0\n",
    "q = len(arr)-1\n",
    "result = kthsmallest(arr,k,p,q)\n",
    "print(result)"
   ]
  },
  {
   "cell_type": "markdown",
   "id": "0ce2ae3f",
   "metadata": {},
   "source": [
    "# Sort Colour"
   ]
  },
  {
   "cell_type": "code",
   "execution_count": 13,
   "id": "f431e4a5",
   "metadata": {},
   "outputs": [
    {
     "name": "stdout",
     "output_type": "stream",
     "text": [
      "Sort Colour: [0, 0, 1, 1, 2, 2, 2]\n"
     ]
    }
   ],
   "source": [
    "#Function Calling\n",
    "#Time Complexity = o(nlog(n))\n",
    "def sortColour(arr, p ,q):\n",
    "    if p < q:\n",
    "        mid = partition(arr, p, q) #Divide\n",
    "        \n",
    "        sortColour(arr, p ,mid-1)\n",
    "        \n",
    "        sortColour(arr, mid+1 ,q)\n",
    "    return arr\n",
    "def partition(arr, p, q):\n",
    "    pivot = arr[p]\n",
    "    i = p\n",
    "    for j in range(i+1,q+1):\n",
    "        if arr[j] <= pivot:\n",
    "            i += 1\n",
    "            arr[i], arr[j] = arr[j], arr[i]\n",
    "    arr[i], arr[p] = arr[p], arr[i]\n",
    "    return i\n",
    "\n",
    "\n",
    "\n",
    "##Driver Code\n",
    "arr = [2,0,2,1,2,1,0]\n",
    "p = 0\n",
    "q = len(arr)-1\n",
    "result = sortColour(arr, p ,q)\n",
    "print(\"Sort Colour:\", result)r"
   ]
  },
  {
   "cell_type": "markdown",
   "id": "a53b4729",
   "metadata": {},
   "source": [
    "# Pointer Approach"
   ]
  },
  {
   "cell_type": "code",
   "execution_count": 10,
   "id": "713006e3",
   "metadata": {},
   "outputs": [
    {
     "name": "stdout",
     "output_type": "stream",
     "text": [
      "Sort Colour: [0, 0, 1, 1, 2, 2, 2]\n"
     ]
    }
   ],
   "source": [
    "##Pointer Approach\n",
    "#Time complexity = O(n)\n",
    "def sortColour(arr, p ,q):\n",
    "    curr = 0\n",
    "    p = 0\n",
    "    q = len(arr)-1\n",
    "    while curr <= q:\n",
    "        if arr[curr] == 0:\n",
    "            arr[p], arr[curr] = arr[curr], arr[p]\n",
    "            p += 1\n",
    "            curr += 1\n",
    "        elif arr[curr] == 2:\n",
    "            arr[curr], arr[q] = arr[q], arr[curr]\n",
    "            q -= 1\n",
    "            curr += 1\n",
    "        else:\n",
    "            curr += 1\n",
    "    return arr\n",
    "\n",
    "\n",
    "##Driver Code\n",
    "arr = [2,0,2,0,2,1,1]\n",
    "p = 0\n",
    "q = len(arr)-1\n",
    "result = sortColour(arr, p ,q)\n",
    "print(\"Sort Colour:\", result)"
   ]
  },
  {
   "cell_type": "markdown",
   "id": "9e85fc86",
   "metadata": {},
   "source": [
    "# Kth Largest Element"
   ]
  },
  {
   "cell_type": "code",
   "execution_count": 13,
   "id": "a1d721d5",
   "metadata": {},
   "outputs": [
    {
     "name": "stdout",
     "output_type": "stream",
     "text": [
      "52\n"
     ]
    }
   ],
   "source": [
    "import random\n",
    "\n",
    "def partition(arr, low, high):\n",
    "    pivot_index = random.randint(low, high)\n",
    "    arr[high], arr[pivot_index] = arr[pivot_index], arr[high]\n",
    "    pivot = arr[high]\n",
    "    i = low - 1\n",
    "\n",
    "    for j in range(low, high):\n",
    "        if arr[j] >= pivot:\n",
    "            i += 1\n",
    "            arr[i], arr[j] = arr[j], arr[i]\n",
    "\n",
    "    arr[i + 1], arr[high] = arr[high], arr[i + 1]\n",
    "    return i + 1\n",
    "\n",
    "def quick_select(arr, low, high, k):\n",
    "    while low <= high:\n",
    "        pivot_index = partition(arr, low, high)\n",
    "\n",
    "        if pivot_index == k:\n",
    "            return arr[pivot_index]\n",
    "        elif pivot_index < k:\n",
    "            low = pivot_index + 1\n",
    "        else:\n",
    "            high = pivot_index - 1\n",
    "\n",
    "    return None\n",
    "\n",
    "# Example usage:\n",
    "my_array = [40,25,68,79,52,66, 89,97]\n",
    "k = 3\n",
    "result = quick_select(my_array, 0, len(my_array) - 1, len(my_array) - k)\n",
    "print(result)\n",
    "\n"
   ]
  },
  {
   "cell_type": "markdown",
   "id": "3259ce9d",
   "metadata": {},
   "source": [
    "# Majority Element in the Array"
   ]
  },
  {
   "cell_type": "markdown",
   "id": "54624ae8",
   "metadata": {},
   "source": [
    "Hash Table Method"
   ]
  },
  {
   "cell_type": "code",
   "execution_count": 15,
   "id": "ab7e4185",
   "metadata": {},
   "outputs": [
    {
     "name": "stdout",
     "output_type": "stream",
     "text": [
      "Counter({1: 3, 2: 3, 3: 2})\n",
      "Majority Element is: 1\n"
     ]
    }
   ],
   "source": [
    "#Fuction Calling \n",
    "## Method Definition\n",
    "## Time Compexity = O(n) -> Counter\n",
    "## Space Complexity = O(n) -> Hashtable\n",
    "from collections import Counter\n",
    "def majorityEle(arr):\n",
    "    counts = Counter(arr)\n",
    "    print(counts)\n",
    "    return max(counts.keys(), key = counts.get)\n",
    "\n",
    "\n",
    "##Driver Code\n",
    "arr = [1,1,3,3,2,2,1,2]\n",
    "result = majorityEle(arr)\n",
    "print(\"Majority Element is:\", result)"
   ]
  },
  {
   "cell_type": "markdown",
   "id": "4625388c",
   "metadata": {},
   "source": [
    "Boyer-Moore Approach "
   ]
  },
  {
   "cell_type": "code",
   "execution_count": 22,
   "id": "90a0e6f7",
   "metadata": {},
   "outputs": [
    {
     "name": "stdout",
     "output_type": "stream",
     "text": [
      "Majority Element is: 2\n"
     ]
    }
   ],
   "source": [
    "##Boyer Moore Voting Algorithm\n",
    "#method definition for findcandidate\n",
    "def findcandidate(arr):\n",
    "    candidate = None\n",
    "    count = 0\n",
    "    for num in arr:\n",
    "        if count == 0:\n",
    "            candidate = num\n",
    "        count += (1 if num == candidate else -1)\n",
    "    return candidate\n",
    "\n",
    "##Method definition for ismajorityelement\n",
    "\n",
    "def ismajorityelement(arr,candidate):\n",
    "    cnt = 0\n",
    "    size = len(arr)\n",
    "    for i in range(size):\n",
    "        if arr[i] == candidate:\n",
    "            cnt += 1\n",
    "    if cnt > size/2:\n",
    "        return 1\n",
    "    else:\n",
    "        return 0\n",
    "        \n",
    "def majorityelement(arr):\n",
    "    cand = findcandidate(arr)\n",
    "    if ismajorityelement(arr,cand):\n",
    "        return cand\n",
    "    else:\n",
    "        return None\n",
    "    \n",
    "\n",
    "\n",
    "\n",
    "##Driver Code\n",
    "\n",
    "arr = [1,1,2,2,2,1,2]\n",
    "result = majorityelement(arr)\n",
    "print(\"Majority Element is:\",result)"
   ]
  },
  {
   "cell_type": "markdown",
   "id": "ad12c7f2",
   "metadata": {},
   "source": [
    "# Find the Peak of Element"
   ]
  },
  {
   "cell_type": "code",
   "execution_count": 8,
   "id": "8e608223",
   "metadata": {},
   "outputs": [
    {
     "name": "stdout",
     "output_type": "stream",
     "text": [
      "Peak of the Element: 5\n"
     ]
    }
   ],
   "source": [
    "def peakEle(arr):\n",
    "    i = 0\n",
    "    j = len(arr)-1\n",
    "    if j > i:\n",
    "        if arr[0] > arr[1]:\n",
    "            return 0\n",
    "        if arr[-1] > arr[-2]:\n",
    "            return len(arr)-1\n",
    "    while i < j:\n",
    "        mid = i + (j-i)//2\n",
    "        if arr[mid] < arr[mid+1]:\n",
    "            i = mid+1\n",
    "        else:\n",
    "            j = mid\n",
    "    return j\n",
    "\n",
    "\n",
    "\n",
    "##Driver Code\n",
    "arr = [1,2,1,3,5,6,4]\n",
    "#arr = [1,2,4,3]\n",
    "result = peakEle(arr)\n",
    "print(\"Peak of the Element:\", result)"
   ]
  },
  {
   "cell_type": "code",
   "execution_count": null,
   "id": "5d220bc1",
   "metadata": {},
   "outputs": [],
   "source": []
  }
 ],
 "metadata": {
  "kernelspec": {
   "display_name": "Python 3 (ipykernel)",
   "language": "python",
   "name": "python3"
  },
  "language_info": {
   "codemirror_mode": {
    "name": "ipython",
    "version": 3
   },
   "file_extension": ".py",
   "mimetype": "text/x-python",
   "name": "python",
   "nbconvert_exporter": "python",
   "pygments_lexer": "ipython3",
   "version": "3.11.5"
  }
 },
 "nbformat": 4,
 "nbformat_minor": 5
}
