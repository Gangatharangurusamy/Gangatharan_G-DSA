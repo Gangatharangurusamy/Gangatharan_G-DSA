{
 "cells": [
  {
   "cell_type": "code",
   "execution_count": 1,
   "id": "0ad108c4",
   "metadata": {},
   "outputs": [
    {
     "name": "stdout",
     "output_type": "stream",
     "text": [
      "10  20  25  30  "
     ]
    }
   ],
   "source": [
    "class Node:\n",
    "    def __init__(self,data):\n",
    "        self.data = data\n",
    "        self.nextPtr = None\n",
    "\n",
    "class LinkedList:\n",
    "    def __init__(self):\n",
    "        self.head = None\n",
    "    \n",
    "    ##Insert the New node at the beginning of the linked list\n",
    "    def insertAtbeginning(self, new_data):\n",
    "        ## create a new node for the new_data\n",
    "        new_node = Node(new_data)\n",
    "        ##insertion at the beginning of the linked list\n",
    "        new_node.nextPtr = self.head\n",
    "        self.head = new_node\n",
    "    \n",
    "    ## Insert the New node at the ned of the linked list\n",
    "    def insertAtEnd(self, new_data):\n",
    "        #create a  new node for the new data\n",
    "        new_node = Node(new_data)\n",
    "        ##check wheather linked list is empty or different\n",
    "        if self.head is None:\n",
    "            self.head = new_node\n",
    "            return \n",
    "        \n",
    "        temp = self.head\n",
    "        while temp.nextPtr :\n",
    "            temp = temp.nextPtr\n",
    "        temp.nextPtr = new_node\n",
    "    \n",
    "    ## Insert the new node after any of the previous node\n",
    "    def insertAfternode(self, prev_node, new_data):\n",
    "        if prev_node is None:\n",
    "            print(\"Given node must be available in your linked list\")\n",
    "            return \n",
    "        ## create a new linked list\n",
    "        new_node = Node(new_data)\n",
    "        new_node.nextPtr = prev_node.nextPtr\n",
    "        prev_node.nextPtr = new_node\n",
    "    ##print the linked list\n",
    "    def printlinkedlist(self):\n",
    "        temp = self.head\n",
    "        while temp:\n",
    "            print(str(temp.data)+\" \", end=\" \")\n",
    "            temp =  temp.nextPtr\n",
    "            \n",
    "##Driver Code\n",
    "llist = LinkedList()\n",
    "llist.insertAtEnd(10)\n",
    "llist.insertAtEnd(20)\n",
    "llist.insertAtEnd(30)\n",
    "llist.insertAfternode(llist.head.nextPtr,25)\n",
    "'''\n",
    "llist.insertAtbeginning(10)\n",
    "llist.insertAtbeginning(20)\n",
    "llist.insertAtbeginning(30)'''\n",
    "\"\"\"llist.insertAtbeginning(40)\n",
    "llist.insertAtbeginning(50)\"\"\"\n",
    "llist.printlinkedlist()"
   ]
  },
  {
   "cell_type": "code",
   "execution_count": null,
   "id": "ac94543a",
   "metadata": {},
   "outputs": [],
   "source": []
  }
 ],
 "metadata": {
  "kernelspec": {
   "display_name": "Python 3 (ipykernel)",
   "language": "python",
   "name": "python3"
  },
  "language_info": {
   "codemirror_mode": {
    "name": "ipython",
    "version": 3
   },
   "file_extension": ".py",
   "mimetype": "text/x-python",
   "name": "python",
   "nbconvert_exporter": "python",
   "pygments_lexer": "ipython3",
   "version": "3.11.5"
  }
 },
 "nbformat": 4,
 "nbformat_minor": 5
}
