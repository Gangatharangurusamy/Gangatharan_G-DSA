{
 "cells": [
  {
   "cell_type": "code",
   "execution_count": 1,
   "id": "26a409c2",
   "metadata": {},
   "outputs": [
    {
     "name": "stdout",
     "output_type": "stream",
     "text": [
      "Sorted array after applying the insertion sort: [75, 80, 85, 90, 95, 100]\n"
     ]
    }
   ],
   "source": [
    "#Time complexity: O(n^2)\n",
    "def InsertionSort(arr):\n",
    "    n = len(arr)\n",
    "    for j in range(n-1):\n",
    "        # let 2nd element as key\n",
    "        key = arr[j+1]\n",
    "        while j>=0 and key < arr[j]:\n",
    "            arr[j+1] = arr[j]\n",
    "            j = j-1\n",
    "        else:\n",
    "            arr[j+1] = key\n",
    "    return arr\n",
    "\n",
    "\n",
    "##Driver code\n",
    "arr = [75,90,100,95,85,80]\n",
    "result = InsertionSort(arr)\n",
    "print('Sorted array after applying the insertion sort:',result)"
   ]
  },
  {
   "cell_type": "code",
   "execution_count": null,
   "id": "e0704649",
   "metadata": {},
   "outputs": [],
   "source": []
  }
 ],
 "metadata": {
  "kernelspec": {
   "display_name": "Python 3 (ipykernel)",
   "language": "python",
   "name": "python3"
  },
  "language_info": {
   "codemirror_mode": {
    "name": "ipython",
    "version": 3
   },
   "file_extension": ".py",
   "mimetype": "text/x-python",
   "name": "python",
   "nbconvert_exporter": "python",
   "pygments_lexer": "ipython3",
   "version": "3.11.5"
  }
 },
 "nbformat": 4,
 "nbformat_minor": 5
}
