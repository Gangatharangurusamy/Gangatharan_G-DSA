{
 "cells": [
  {
   "cell_type": "markdown",
   "id": "61cf70ed",
   "metadata": {},
   "source": [
    "# Strassen's Approach"
   ]
  },
  {
   "cell_type": "code",
   "execution_count": 11,
   "id": "64eb4823",
   "metadata": {},
   "outputs": [
    {
     "name": "stdout",
     "output_type": "stream",
     "text": [
      "Matrix multiplication result:\n",
      "[[ 8  8  8  8]\n",
      " [16 16 16 16]\n",
      " [24 24 24 24]\n",
      " [16 16 16 16]]\n"
     ]
    }
   ],
   "source": [
    "## Recurence relation = 7T(n/2) + n^2(matrix addition)\n",
    "## using Master's Theorem Time complexity = O(n^2.81)\n",
    "## Brute Force approach and divide and conquer both T.C = O(n^3)\n",
    "## Actual divide and conquer is Recurence relation = 8T(n/2) + n^2\n",
    "import numpy as np\n",
    "def split(matrix):\n",
    "    row, col = matrix.shape\n",
    "    row2, col2 = row//2, col//2\n",
    "    return matrix[:row2, :col2], matrix[:row2, col2:], matrix[row2:, :col2], matrix[row2:, col2:]\n",
    "\n",
    "def strassen(x,y):\n",
    "    #  Base Case when size of matrices is 1x1\n",
    "    if len(x) == 1:\n",
    "        return x*y\n",
    "    \n",
    "    #Spliting the matrices into quadrants. This will be done recursively\n",
    "    #until the base is reached \n",
    "    a, b, c, d = split(x)\n",
    "    e, f, g, h = split(y)\n",
    "    \n",
    "    #computing the 7 products, recursively (p1,p2,....p7)\n",
    "    p1 = strassen(a, f-h)\n",
    "    p2 = strassen(a+b, h)\n",
    "    p3 = strassen(c+d, e)\n",
    "    p4 = strassen(d, g-e)\n",
    "    p5 = strassen(a+d, e+h)\n",
    "    p6 = strassen(b-d, g+h)\n",
    "    p7 = strassen(a-c, e+f)\n",
    "    \n",
    "    #Computing the value of the 4 quadrants of the finl matrix c\n",
    "    c11 = p5 + p4 - p2 + p6\n",
    "    c12 = p1 + p2\n",
    "    c21 = p3 + p4\n",
    "    c22 = p1 + p5 -p3 - p7\n",
    "\n",
    "    #Combining the 4 quadrants into a single matrix bh stacking horizontally and vertically.\n",
    "    c = np.vstack((np.hstack((c11, c12)), np.hstack((c21, c22))))\n",
    "    return c\n",
    "##Driver code\n",
    "\n",
    "A = np.array([[1,1,1,1], [2,2,2,2], [3,3,3,3], [2,2,2,2]])\n",
    "B = np.array([[1,1,1,1], [2,2,2,2], [3,3,3,3], [2,2,2,2]])\n",
    "print(\"Matrix multiplication result:\")\n",
    "print(strassen(A, B))\n"
   ]
  },
  {
   "cell_type": "markdown",
   "id": "b06b4ca7",
   "metadata": {},
   "source": [
    "# Median of 2 sorted array"
   ]
  },
  {
   "cell_type": "code",
   "execution_count": 12,
   "id": "2f80e471",
   "metadata": {},
   "outputs": [
    {
     "name": "stdout",
     "output_type": "stream",
     "text": [
      "2\n"
     ]
    }
   ],
   "source": [
    "#method definition\n",
    "def medianofSortarray(num1,num2):\n",
    "    n1 = len(num1)\n",
    "    n2 = len(num2)\n",
    "    n3 = n1+n2\n",
    "    arr = n3*[0]\n",
    "    new_1 = n1*[0]\n",
    "    new_2 = n2*[0]\n",
    "    \n",
    "    for m in range(n1):\n",
    "        new_1[m] = num1[m]\n",
    "    for n in range(n2):\n",
    "        new_2[n] = num2[n]\n",
    "        \n",
    "    p = 0\n",
    "    q = 0\n",
    "    k = 0\n",
    "    \n",
    "    while p<n1 and q<n2:\n",
    "        if new_1[p] <= new_2[q]:\n",
    "            arr[k] = new_1[p]\n",
    "            p += 1\n",
    "        else:\n",
    "            arr[k] = new_2[q]\n",
    "            q += 1\n",
    "        k += 1\n",
    "    while p<n1:\n",
    "        arr[k] = new_1[p]\n",
    "        p += 1\n",
    "        k += 1\n",
    "    while q<n2:\n",
    "        arr[k] = new_2[q]\n",
    "        q += 1\n",
    "        k += 1\n",
    "    i = 0\n",
    "    j = len(arr)-1\n",
    "    mid = i + (j-i)//2\n",
    "    if len(arr) % 2 == 0:\n",
    "        median = (arr[mid] + arr[mid+1])/2\n",
    "    else:\n",
    "        median = arr[mid]\n",
    "    \n",
    "    return median\n",
    "        \n",
    "\n",
    "\n",
    "\n",
    "\n",
    "\n",
    "##Driver Code\n",
    "num1 = [1,3]\n",
    "num2 = [2]\n",
    "result = medianofSortarray(num1,num2)\n",
    "print(result)\n"
   ]
  },
  {
   "cell_type": "code",
   "execution_count": 13,
   "id": "df7e852e",
   "metadata": {},
   "outputs": [
    {
     "name": "stdout",
     "output_type": "stream",
     "text": [
      "2\n"
     ]
    }
   ],
   "source": [
    "class Solution:\n",
    "    def findMedianSortedArrays(nums1, nums2):\n",
    "        n1 = len(nums1)\n",
    "        n2 = len(nums2)\n",
    "        n3 = n1+n2\n",
    "        new_num1 = n1*[0]\n",
    "        new_num2 = n2*[0]\n",
    "        arr = n3*[0]\n",
    "        for m in range(n1):\n",
    "            new_num1[m] = nums1[m]\n",
    "        for n in range(n2):\n",
    "            new_num2[n] = nums2[n]\n",
    "        p = 0\n",
    "        q = 0\n",
    "        k = 0\n",
    "        while p<n1 and q<n2:\n",
    "            if new_num1[p] <= new_num2[q]:\n",
    "                arr[k] = new_num1[p]\n",
    "                p += 1\n",
    "            else:\n",
    "                arr[k] = new_num2[q]\n",
    "                q += 1\n",
    "            k += 1\n",
    "        while p<n1:\n",
    "            arr[k] = new_num1[p]\n",
    "            p += 1\n",
    "            k += 1\n",
    "        while q<n2:\n",
    "            arr[k] = new_num2[q]\n",
    "            q += 1\n",
    "            k += 1\n",
    "        i = 0\n",
    "        j = len(arr)-1\n",
    "        mid = i + (j-i)//2\n",
    "        median = 0\n",
    "        if len(arr) % 2 == 0:\n",
    "            median = (arr[mid]+arr[mid+1])/2\n",
    "        else:\n",
    "            median = arr[mid]\n",
    "        return median \n",
    "\n",
    "    \n",
    "nums1 = [1,3]\n",
    "nums2 = [2]\n",
    "s1 = Solution\n",
    "print(s1.findMedianSortedArrays(nums1, nums2))"
   ]
  },
  {
   "cell_type": "markdown",
   "id": "49efaebd",
   "metadata": {},
   "source": [
    "# Pow(x,n) "
   ]
  },
  {
   "cell_type": "code",
   "execution_count": 16,
   "id": "8d8e429f",
   "metadata": {},
   "outputs": [
    {
     "name": "stdout",
     "output_type": "stream",
     "text": [
      "2.560000000000002e-06\n"
     ]
    }
   ],
   "source": [
    "#method definition\n",
    "#time complxity = O(logn)\n",
    "def powerofanelement(x,n):\n",
    "    if n == 0:\n",
    "        return 1\n",
    "    elif n == 1:\n",
    "        return x\n",
    "    elif n == -1:\n",
    "        return (1/x)\n",
    "    else:\n",
    "        #divide--> O(1)\n",
    "        mid = n//2\n",
    "        # conquer-->T(n/2)\n",
    "        b = powerofanelement(x,mid)\n",
    "        result = b*b\n",
    "    if n % 2 == 0:\n",
    "        return result\n",
    "    else:\n",
    "        return result * x\n",
    "        \n",
    "\n",
    "\n",
    "\n",
    "##driver Code\n",
    "x = 5.0\n",
    "n = -8\n",
    "result = powerofanelement(x,n)\n",
    "print(result)"
   ]
  },
  {
   "cell_type": "markdown",
   "id": "cf47a3bc",
   "metadata": {},
   "source": [
    "# Divide and Two"
   ]
  },
  {
   "cell_type": "code",
   "execution_count": 6,
   "id": "0e56501d",
   "metadata": {},
   "outputs": [
    {
     "name": "stdout",
     "output_type": "stream",
     "text": [
      " Divide two number w/o division, multiplication, modulo: 11\n"
     ]
    }
   ],
   "source": [
    "##Method definition\n",
    "\n",
    "def divide(dividend, divisor):\n",
    "        divid = abs(dividend)\n",
    "        div = abs(divisor)\n",
    "        result = 0\n",
    "        while divid >= div:\n",
    "            shift = 0\n",
    "            while divid >= (div << shift):\n",
    "                shift += 1\n",
    "            result += (1 << shift - 1)\n",
    "            divid -= div << shift-1\n",
    "        if (dividend < 0 and divisor >= 0) or (divisor< 0 and dividend >= 0):\n",
    "            result = -result\n",
    "        else:\n",
    "            result = result\n",
    "\n",
    "        return min(max(result, -2147483648), 2147483647)\n",
    "    \n",
    "    \n",
    "##Driver code\n",
    "dividend = 47\n",
    "divisor = 4\n",
    "result = divide(dividend, divisor)\n",
    "print(\" Divide two number w/o division, multiplication, modulo:\", result)"
   ]
  },
  {
   "cell_type": "code",
   "execution_count": null,
   "id": "9616434b",
   "metadata": {},
   "outputs": [],
   "source": []
  }
 ],
 "metadata": {
  "kernelspec": {
   "display_name": "Python 3 (ipykernel)",
   "language": "python",
   "name": "python3"
  },
  "language_info": {
   "codemirror_mode": {
    "name": "ipython",
    "version": 3
   },
   "file_extension": ".py",
   "mimetype": "text/x-python",
   "name": "python",
   "nbconvert_exporter": "python",
   "pygments_lexer": "ipython3",
   "version": "3.11.5"
  }
 },
 "nbformat": 4,
 "nbformat_minor": 5
}
