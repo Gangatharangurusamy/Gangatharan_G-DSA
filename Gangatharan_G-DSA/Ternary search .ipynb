{
 "cells": [
  {
   "cell_type": "code",
   "execution_count": null,
   "id": "99e08053",
   "metadata": {},
   "outputs": [],
   "source": [
    "## question1\n",
    "n = int(input())\n",
    "x = int(n**0.5)\n",
    "print(x)"
   ]
  },
  {
   "cell_type": "code",
   "execution_count": null,
   "id": "14385797",
   "metadata": {},
   "outputs": [],
   "source": []
  },
  {
   "cell_type": "code",
   "execution_count": 1,
   "id": "965929f3",
   "metadata": {},
   "outputs": [
    {
     "name": "stdout",
     "output_type": "stream",
     "text": [
      "9\n"
     ]
    }
   ],
   "source": [
    "##question2\n",
    "def Binarysearch(arr,k):\n",
    "    i = 0\n",
    "    j = len(arr)-1\n",
    "    res = 0\n",
    "    while i<=j:\n",
    "        mid = i+(j-i)//2\n",
    "        if arr[mid]>=k:\n",
    "            res = mid\n",
    "            j = mid-1\n",
    "        elif arr[mid]<k:\n",
    "            i = mid+1\n",
    "    return res\n",
    "\n",
    "arr = [0,0,0,0,0,0,0,0,0,1,1,1,1,1,1]\n",
    "k = 1\n",
    "print(Binarysearch(arr,k))"
   ]
  },
  {
   "cell_type": "code",
   "execution_count": 6,
   "id": "cff103cb",
   "metadata": {},
   "outputs": [
    {
     "name": "stdout",
     "output_type": "stream",
     "text": [
      "11\n"
     ]
    }
   ],
   "source": [
    "def Binarysearch(arr,k):\n",
    "    i = 0\n",
    "    j = len(arr)-1\n",
    "    res = 0\n",
    "    while i<=j:\n",
    "        mid = i+(j-i)//2\n",
    "        if arr[mid]==k:\n",
    "            res = mid\n",
    "            j = mid-1\n",
    "        elif arr[mid]<k:\n",
    "            i = mid+1\n",
    "    return res\n",
    "\n",
    "arr = [0,0,0,0,0,0,0,0,0,0,0,1,1,1,1,1,1]\n",
    "k = 1\n",
    "print(Binarysearch(arr,k))"
   ]
  },
  {
   "cell_type": "code",
   "execution_count": 12,
   "id": "123ceb37",
   "metadata": {},
   "outputs": [
    {
     "name": "stdout",
     "output_type": "stream",
     "text": [
      "16\n",
      "True\n"
     ]
    }
   ],
   "source": [
    "##question3\n",
    "n = int(input())\n",
    "x = int(n**0.5)\n",
    "\n",
    "if x*x == n:\n",
    "    print(\"True\")\n",
    "else:\n",
    "    print(\"False\")"
   ]
  },
  {
   "cell_type": "code",
   "execution_count": 24,
   "id": "599f44ac",
   "metadata": {},
   "outputs": [
    {
     "name": "stdout",
     "output_type": "stream",
     "text": [
      "59\n",
      "4\n"
     ]
    }
   ],
   "source": [
    "## lecture\n",
    "\n",
    "def TernarySearch(arr,i,j,key):\n",
    "    i = 0\n",
    "    j = len(arr)-1\n",
    "    while i<=j:\n",
    "        mid1 = i+(j-i)//3\n",
    "        mid2 = j-(j-i)//3\n",
    "        if arr[mid1]==key:\n",
    "            return mid1        \n",
    "        elif arr[mid2]==key:\n",
    "            return mid2\n",
    "        #1st part of the ternaery search\n",
    "        elif arr[mid1]>key:\n",
    "            j = mid1-1\n",
    "        # 2nd part of the ternaery search\n",
    "        elif arr[mid2]<key:\n",
    "            i = mid2+1\n",
    "        # 3rd part of the ternaery search    ##### here we can use recusive function\n",
    "        else:\n",
    "            i = mid1+1\n",
    "            j = mid2-1\n",
    "    return -1\n",
    "\n",
    "# driver code\n",
    "\n",
    "arr = [20,25,47,56,59,63,65,79,82]\n",
    "#calling function\n",
    "key = int(input())\n",
    "i,j = 0,8\n",
    "position = TernarySearch(arr,i,j,key)\n",
    "print(position)"
   ]
  },
  {
   "cell_type": "code",
   "execution_count": null,
   "id": "f4ade67a",
   "metadata": {},
   "outputs": [],
   "source": []
  },
  {
   "cell_type": "code",
   "execution_count": null,
   "id": "65d52f7d",
   "metadata": {},
   "outputs": [],
   "source": []
  }
 ],
 "metadata": {
  "kernelspec": {
   "display_name": "Python 3 (ipykernel)",
   "language": "python",
   "name": "python3"
  },
  "language_info": {
   "codemirror_mode": {
    "name": "ipython",
    "version": 3
   },
   "file_extension": ".py",
   "mimetype": "text/x-python",
   "name": "python",
   "nbconvert_exporter": "python",
   "pygments_lexer": "ipython3",
   "version": "3.11.5"
  }
 },
 "nbformat": 4,
 "nbformat_minor": 5
}
