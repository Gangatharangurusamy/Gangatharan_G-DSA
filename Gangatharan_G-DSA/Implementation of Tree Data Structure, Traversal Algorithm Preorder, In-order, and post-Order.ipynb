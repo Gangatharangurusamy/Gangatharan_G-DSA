{
 "cells": [
  {
   "cell_type": "code",
   "execution_count": 9,
   "id": "182aa198",
   "metadata": {},
   "outputs": [
    {
     "name": "stdout",
     "output_type": "stream",
     "text": [
      "Preorder Traversal of given Tree is: \n",
      "1  2  4  5  3  \n",
      "\n",
      "Inorder Traversal of given Tree is: \n",
      "4  2  5  1  3  \n",
      "\n",
      "Postorder Traversal of given Tree is: \n",
      "4  5  2  3  1  "
     ]
    }
   ],
   "source": [
    "# Create a node which contains data, left and right pointer of a node\n",
    "class Node:\n",
    "    def __init__(self, data):\n",
    "        self.left = None\n",
    "        self.right = None\n",
    "        self.data = data\n",
    "## implemantation of Preorder Traversal  \n",
    "def preOrder(root):\n",
    "    if root:\n",
    "        ##printing the Root value\n",
    "        print(str(root.data) + \" \", end = \" \")\n",
    "        ## Using Recursive function call for left sub tree\n",
    "        preOrder(root.left)\n",
    "        ## Using Recursive function call for right sub tree\n",
    "        preOrder(root.right)\n",
    "        \n",
    "## implemantation of Inorder Traversal \n",
    "def inOrder(root):\n",
    "    if root:\n",
    "        ## Using Recursive function call for left sub tree\n",
    "        inOrder(root.left)\n",
    "        ## Printing the Root value\n",
    "        print(str(root.data) + \" \", end = \" \")\n",
    "        ## Using Recursive function call for right sub tree\n",
    "        inOrder(root.right)\n",
    "            \n",
    "## implemantation of Postorder Traversal           \n",
    "def postOrder(root):\n",
    "    if root:\n",
    "        ## Using Recursive function call for left sub tree\n",
    "        postOrder(root.left)\n",
    "        ## Using Recursive function call for right sub tree\n",
    "        postOrder(root.right)\n",
    "        ##printing the Root value\n",
    "        print(str(root.data) + \" \", end = \" \")\n",
    "\n",
    "        \n",
    "        \n",
    "##Driver Code \n",
    "root = Node(1)\n",
    "root.left = Node(2)\n",
    "root.right = Node(3)\n",
    "root.left.left = Node(4)\n",
    "root.left.right = Node(5)\n",
    "print(\"Preorder Traversal of given Tree is: \")\n",
    "preOrder(root)\n",
    "print()\n",
    "print()\n",
    "print(\"Inorder Traversal of given Tree is: \")\n",
    "inOrder(root)\n",
    "print()\n",
    "print()\n",
    "print(\"Postorder Traversal of given Tree is: \")\n",
    "postOrder(root)"
   ]
  },
  {
   "cell_type": "code",
   "execution_count": null,
   "id": "91c3f0a2",
   "metadata": {},
   "outputs": [],
   "source": [
    " "
   ]
  }
 ],
 "metadata": {
  "kernelspec": {
   "display_name": "Python 3 (ipykernel)",
   "language": "python",
   "name": "python3"
  },
  "language_info": {
   "codemirror_mode": {
    "name": "ipython",
    "version": 3
   },
   "file_extension": ".py",
   "mimetype": "text/x-python",
   "name": "python",
   "nbconvert_exporter": "python",
   "pygments_lexer": "ipython3",
   "version": "3.11.5"
  }
 },
 "nbformat": 4,
 "nbformat_minor": 5
}
