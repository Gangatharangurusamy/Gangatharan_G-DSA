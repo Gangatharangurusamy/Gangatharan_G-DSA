{
 "cells": [
  {
   "cell_type": "markdown",
   "id": "46f0739c",
   "metadata": {},
   "source": [
    "# Hash Function - Division Modulo Approach"
   ]
  },
  {
   "cell_type": "code",
   "execution_count": 1,
   "id": "be004deb",
   "metadata": {},
   "outputs": [
    {
     "data": {
      "text/plain": [
       "9"
      ]
     },
     "execution_count": 1,
     "metadata": {},
     "output_type": "execute_result"
    }
   ],
   "source": [
    "def hash_function(key):\n",
    "        summation = 0\n",
    "        ##size of the hashtable = 10\n",
    "        m = 10\n",
    "        for char in key:\n",
    "            summation += ord(char)\n",
    "        return summation % m\n",
    "    \n",
    "hash_function(\"March 2020\")"
   ]
  },
  {
   "cell_type": "markdown",
   "id": "2470dbec",
   "metadata": {},
   "source": [
    "# Create a class of HashTable in which we will be able to perform the Below operations:\n"
   ]
  },
  {
   "cell_type": "markdown",
   "id": "34817c30",
   "metadata": {},
   "source": [
    "1. Addition of an item in the HashTable\n",
    "\n",
    "2. Extraction of any item in the hash table\n",
    "\n",
    "3. Creation of any hash function"
   ]
  },
  {
   "cell_type": "code",
   "execution_count": 2,
   "id": "75ed2a16",
   "metadata": {},
   "outputs": [],
   "source": [
    "class HashTable:\n",
    "    def __init__(self):\n",
    "        self.MAX = 10\n",
    "        self.arr = [None for i in range(self.MAX)]\n",
    "    \n",
    "    def hash_function(self, key):\n",
    "        summation = 0\n",
    "        ##size of the hashtable = 10\n",
    "        m = 10\n",
    "        for char in key:\n",
    "            summation += ord(char)\n",
    "        return summation % m\n",
    "    \n",
    "    def addItem(self, key, value):\n",
    "        h = self.hash_function(key)\n",
    "        self.arr[h] = value\n",
    "    \n",
    "    def getItem(self, key):\n",
    "        h = self.hash_function(key)\n",
    "        return self.arr[h]\n",
    "        \n",
    "        "
   ]
  },
  {
   "cell_type": "code",
   "execution_count": 3,
   "id": "58b06261",
   "metadata": {},
   "outputs": [],
   "source": [
    "obj = HashTable()"
   ]
  },
  {
   "cell_type": "code",
   "execution_count": 4,
   "id": "b43ea24a",
   "metadata": {},
   "outputs": [
    {
     "data": {
      "text/plain": [
       "[None, None, None, None, None, None, None, None, None, None]"
      ]
     },
     "execution_count": 4,
     "metadata": {},
     "output_type": "execute_result"
    }
   ],
   "source": [
    "## display the array elements of hash table\n",
    "obj.arr\n"
   ]
  },
  {
   "cell_type": "code",
   "execution_count": 5,
   "id": "6fd9a360",
   "metadata": {},
   "outputs": [],
   "source": [
    "obj.addItem(\"March 2020\", 234)\n",
    "obj.addItem(\"March 2021\", 345)\n",
    "obj.addItem(\"March 2022\", 445)\n",
    "obj.addItem(\"March 2023\", 553)\n",
    "obj.addItem(\"March 2025\", 678)\n",
    "obj.addItem(\"March 2026\", 789)\n",
    "obj.addItem(\"March 2027\", 598)\n",
    "obj.addItem(\"March 2028\", 569)\n",
    "obj.addItem(\"March 2029\", 987)"
   ]
  },
  {
   "cell_type": "code",
   "execution_count": 6,
   "id": "92549db6",
   "metadata": {},
   "outputs": [
    {
     "data": {
      "text/plain": [
       "569"
      ]
     },
     "execution_count": 6,
     "metadata": {},
     "output_type": "execute_result"
    }
   ],
   "source": [
    "obj.getItem(\"March 2028\")"
   ]
  },
  {
   "cell_type": "code",
   "execution_count": 7,
   "id": "ae285160",
   "metadata": {},
   "outputs": [
    {
     "data": {
      "text/plain": [
       "[345, 445, 553, None, 678, 789, 598, 569, 987, 234]"
      ]
     },
     "execution_count": 7,
     "metadata": {},
     "output_type": "execute_result"
    }
   ],
   "source": [
    "obj.arr"
   ]
  },
  {
   "cell_type": "markdown",
   "id": "8691b7bc",
   "metadata": {},
   "source": [
    "# Method Overloading and Method Overriding"
   ]
  },
  {
   "cell_type": "code",
   "execution_count": 8,
   "id": "d6611160",
   "metadata": {},
   "outputs": [],
   "source": [
    "##obj[key] = value\n",
    "class HashTable:\n",
    "    def __init__(self):\n",
    "        self.MAX = 10\n",
    "        self.arr = [None for i in range(self.MAX)]\n",
    "    \n",
    "    def hash_function(self, key):\n",
    "        summation = 0\n",
    "        for char in key:\n",
    "            summation += ord(char)\n",
    "        return summation % self.MAX\n",
    "    \n",
    "    def __setitem__(self, key, value):\n",
    "        h = self.hash_function(key)\n",
    "        self.arr[h] = value\n",
    "    \n",
    "    def __getitem__(self, key):\n",
    "        h = self.hash_function(key)\n",
    "        return self.arr[h]\n",
    "    ## WE have to use which already used in predefined method by Devloper    \n",
    "        "
   ]
  },
  {
   "cell_type": "markdown",
   "id": "26a6f61f",
   "metadata": {},
   "source": [
    "Here, we are not handling any collision in HashTable"
   ]
  },
  {
   "cell_type": "code",
   "execution_count": 9,
   "id": "48f0ac23",
   "metadata": {},
   "outputs": [],
   "source": [
    "obj1 = HashTable()\n",
    "obj1[\"March 2025\"] = 678"
   ]
  },
  {
   "cell_type": "code",
   "execution_count": 10,
   "id": "a330bd1b",
   "metadata": {
    "scrolled": true
   },
   "outputs": [
    {
     "data": {
      "text/plain": [
       "678"
      ]
     },
     "execution_count": 10,
     "metadata": {},
     "output_type": "execute_result"
    }
   ],
   "source": [
    "obj1[\"March 2025\"]"
   ]
  },
  {
   "cell_type": "markdown",
   "id": "1d3b9879",
   "metadata": {},
   "source": [
    "Overwrite on the same place so the data is lose"
   ]
  },
  {
   "cell_type": "markdown",
   "id": "1543d05d",
   "metadata": {},
   "source": [
    "Observation: Data Lose\n",
    "\n",
    "Why??\n",
    "\n",
    "Because value will be overwritten if you face collision in the Hash Table"
   ]
  },
  {
   "cell_type": "code",
   "execution_count": 11,
   "id": "490a8111",
   "metadata": {},
   "outputs": [],
   "source": [
    "obj1[\"march 6\"] = 20\n",
    "obj1[\"march 17\"] = 27"
   ]
  },
  {
   "cell_type": "code",
   "execution_count": 12,
   "id": "7fcc6665",
   "metadata": {
    "scrolled": true
   },
   "outputs": [
    {
     "data": {
      "text/plain": [
       "27"
      ]
     },
     "execution_count": 12,
     "metadata": {},
     "output_type": "execute_result"
    }
   ],
   "source": [
    "obj1[\"march 6\"] "
   ]
  },
  {
   "cell_type": "code",
   "execution_count": 21,
   "id": "f348c659",
   "metadata": {},
   "outputs": [
    {
     "data": {
      "text/plain": [
       "[None, None, None, None, 678, None, None, None, None, 27]"
      ]
     },
     "execution_count": 21,
     "metadata": {},
     "output_type": "execute_result"
    }
   ],
   "source": [
    "obj1.arr"
   ]
  },
  {
   "cell_type": "markdown",
   "id": "40212a56",
   "metadata": {},
   "source": [
    "# Chaining Implementation - to avoid the collisions inside the HashTable"
   ]
  },
  {
   "cell_type": "code",
   "execution_count": 34,
   "id": "f7f27dfb",
   "metadata": {},
   "outputs": [],
   "source": [
    "##obj[key] = value\n",
    "class HashTable:\n",
    "    def __init__(self):\n",
    "        self.MAX = 10\n",
    "        self.arr = [[] for i in range(self.MAX)]\n",
    "    \n",
    "    def hash_function(self, key):\n",
    "        summation = 0\n",
    "        for char in key:\n",
    "            summation += ord(char)\n",
    "        return summation % self.MAX\n",
    "    \n",
    "    def __setitem__(self, key, value):\n",
    "        found = False\n",
    "        h = self.hash_function(key)\n",
    "        for index, element in enumerate(self.arr[h]):\n",
    "            if len(element) == 2 and element[0] == key:\n",
    "                self.arr[h][index] = (key, value)\n",
    "                found = True\n",
    "                break\n",
    "        if not found:\n",
    "            self.arr[h].append((key, value))\n",
    "    \n",
    "    def __getitem__(self, key):\n",
    "        h = self.hash_function(key)\n",
    "        for index, element in enumerate(self.arr[h]):\n",
    "            if element[0] == key:\n",
    "                return element[1]\n",
    "        \n",
    "       #delete the item from the hashtable \n",
    "    def __delitem__(self, key):\n",
    "        h = self.hash_function(key)\n",
    "        for index, element in enumerate(self.arr[h]):\n",
    "            if element[0] == key:\n",
    "                del self.arr[h][index]\n",
    "    \n",
    "    \n",
    "    \n",
    "    ## WE have to use which already used in predefined method by Devloper    \n",
    "        "
   ]
  },
  {
   "cell_type": "markdown",
   "id": "4390c8a1",
   "metadata": {},
   "source": [
    "# Collision happen when \"march 6\" and \"march17\" will be the key because the hash value of both of them is 9 only."
   ]
  },
  {
   "cell_type": "code",
   "execution_count": 35,
   "id": "76cb2ffe",
   "metadata": {},
   "outputs": [
    {
     "data": {
      "text/plain": [
       "9"
      ]
     },
     "execution_count": 35,
     "metadata": {},
     "output_type": "execute_result"
    }
   ],
   "source": [
    "hash_function(\"march 6\")"
   ]
  },
  {
   "cell_type": "code",
   "execution_count": 36,
   "id": "d79a2e8b",
   "metadata": {},
   "outputs": [],
   "source": [
    "obj2 = HashTable()\n",
    "obj2[\"march 6\"] = 20\n",
    "obj2[\"march 17\"] = 27"
   ]
  },
  {
   "cell_type": "code",
   "execution_count": 37,
   "id": "03db431e",
   "metadata": {},
   "outputs": [
    {
     "data": {
      "text/plain": [
       "20"
      ]
     },
     "execution_count": 37,
     "metadata": {},
     "output_type": "execute_result"
    }
   ],
   "source": [
    "obj2[\"march 6\"]"
   ]
  },
  {
   "cell_type": "code",
   "execution_count": 38,
   "id": "40dee2ed",
   "metadata": {},
   "outputs": [
    {
     "data": {
      "text/plain": [
       "[[], [], [], [], [], [], [], [], [], [('march 6', 20), ('march 17', 27)]]"
      ]
     },
     "execution_count": 38,
     "metadata": {},
     "output_type": "execute_result"
    }
   ],
   "source": [
    "obj2.arr"
   ]
  },
  {
   "cell_type": "code",
   "execution_count": 39,
   "id": "175c1559",
   "metadata": {},
   "outputs": [],
   "source": [
    "del obj2[\"march 6\"]"
   ]
  },
  {
   "cell_type": "code",
   "execution_count": 44,
   "id": "5dba6128",
   "metadata": {},
   "outputs": [
    {
     "data": {
      "text/plain": [
       "[[], [], [], [], [], [], [], [], [], [('march 17', 27)]]"
      ]
     },
     "execution_count": 44,
     "metadata": {},
     "output_type": "execute_result"
    }
   ],
   "source": [
    "obj2.arr"
   ]
  },
  {
   "cell_type": "markdown",
   "id": "566b625e",
   "metadata": {},
   "source": [
    "# Open Addressing - Linear Probing, Quadratic Probing, Double Hashing"
   ]
  },
  {
   "cell_type": "markdown",
   "id": "fb9586dd",
   "metadata": {},
   "source": [
    "Task : Modify the below functions only to implement above techniques"
   ]
  },
  {
   "cell_type": "code",
   "execution_count": 45,
   "id": "244cf342",
   "metadata": {},
   "outputs": [],
   "source": [
    "##obj[key] = value\n",
    "class HashTable:\n",
    "    def __init__(self):\n",
    "        self.MAX = 10\n",
    "        self.arr = [[] for i in range(self.MAX)]\n",
    "    \n",
    "    def hash_function(self, key):\n",
    "        summation = 0\n",
    "        for char in key:\n",
    "            summation += ord(char)\n",
    "        return summation % self.MAX\n",
    "    \n",
    "    def __setitem__(self, key, value):\n",
    "        found = False\n",
    "        h = self.hash_function(key)\n",
    "        for index, element in enumerate(self.arr[h]):\n",
    "            if len(element) == 2 and element[0] == key:\n",
    "                self.arr[h][index] = (key, value)\n",
    "                found = True\n",
    "                break\n",
    "        if not found:\n",
    "            self.arr[h].append((key, value))\n",
    "    \n",
    "    def __getitem__(self, key):\n",
    "        h = self.hash_function(key)\n",
    "        for index, element in enumerate(self.arr[h]):\n",
    "            if element[0] == key:\n",
    "                return element[1]\n",
    "        \n",
    "       #delete the item from the hashtable \n",
    "    def __delitem__(self, key):\n",
    "        h = self.hash_function(key)\n",
    "        for index, element in enumerate(self.arr[h]):\n",
    "            if element[0] == key:\n",
    "                del self.arr[h][index]\n",
    "    \n",
    "    \n",
    "    \n",
    "    ## WE have to use which already used in predefined method by Devloper    \n",
    "        "
   ]
  },
  {
   "cell_type": "code",
   "execution_count": null,
   "id": "3cf9a2c1",
   "metadata": {},
   "outputs": [],
   "source": [
    " "
   ]
  }
 ],
 "metadata": {
  "kernelspec": {
   "display_name": "Python 3 (ipykernel)",
   "language": "python",
   "name": "python3"
  },
  "language_info": {
   "codemirror_mode": {
    "name": "ipython",
    "version": 3
   },
   "file_extension": ".py",
   "mimetype": "text/x-python",
   "name": "python",
   "nbconvert_exporter": "python",
   "pygments_lexer": "ipython3",
   "version": "3.11.5"
  }
 },
 "nbformat": 4,
 "nbformat_minor": 5
}
