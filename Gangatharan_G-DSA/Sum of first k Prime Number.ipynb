{
 "cells": [
  {
   "cell_type": "code",
   "execution_count": 1,
   "id": "aac93b23",
   "metadata": {},
   "outputs": [
    {
     "name": "stdout",
     "output_type": "stream",
     "text": [
      "129\n"
     ]
    }
   ],
   "source": [
    "k = 10\n",
    "j = 2\n",
    "sum = 0\n",
    "while k>=1:\n",
    "    s = True\n",
    "    for i in range(2,int(j**0.5)+1):\n",
    "        if j % i == 0:\n",
    "            s = False\n",
    "            break\n",
    "    if s == True:\n",
    "        sum += j\n",
    "        k-=1\n",
    "    j += 1\n",
    "print(sum)"
   ]
  },
  {
   "cell_type": "code",
   "execution_count": null,
   "id": "10b7c967",
   "metadata": {},
   "outputs": [],
   "source": []
  }
 ],
 "metadata": {
  "kernelspec": {
   "display_name": "Python 3 (ipykernel)",
   "language": "python",
   "name": "python3"
  },
  "language_info": {
   "codemirror_mode": {
    "name": "ipython",
    "version": 3
   },
   "file_extension": ".py",
   "mimetype": "text/x-python",
   "name": "python",
   "nbconvert_exporter": "python",
   "pygments_lexer": "ipython3",
   "version": "3.11.5"
  }
 },
 "nbformat": 4,
 "nbformat_minor": 5
}
